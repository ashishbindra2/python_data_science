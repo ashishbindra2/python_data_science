{
 "cells": [
  {
   "cell_type": "markdown",
   "id": "fa4bd1b1",
   "metadata": {},
   "source": [
    "List Comprehensions:\n",
    "---\n",
    "It is very easy and compact way of creating list objects from any iterable objects (Like List, Tuple, Dictionary, Range etc) based on some condition.\n",
    "\n",
    "Syntax: list = [expression for item in list if condition"
   ]
  },
  {
   "cell_type": "code",
   "execution_count": 2,
   "id": "888f6e7d",
   "metadata": {},
   "outputs": [
    {
     "name": "stdout",
     "output_type": "stream",
     "text": [
      "1\n",
      "2\n",
      "3\n",
      "4\n",
      "5\n",
      "6\n",
      "7\n",
      "8\n",
      "9\n",
      "10\n"
     ]
    }
   ],
   "source": [
    "for x in range(1,11):\n",
    "    print(x)"
   ]
  },
  {
   "cell_type": "code",
   "execution_count": 5,
   "id": "26476083",
   "metadata": {},
   "outputs": [
    {
     "data": {
      "text/plain": [
       "[1, 2, 3, 4, 5, 6, 7, 8, 9, 10]"
      ]
     },
     "execution_count": 5,
     "metadata": {},
     "output_type": "execute_result"
    }
   ],
   "source": [
    "s = [x for x in range(1,11)]\n",
    "s"
   ]
  },
  {
   "cell_type": "code",
   "execution_count": 6,
   "id": "37d07ff7",
   "metadata": {},
   "outputs": [
    {
     "name": "stdout",
     "output_type": "stream",
     "text": [
      "1\n",
      "3\n",
      "5\n",
      "7\n",
      "9\n"
     ]
    }
   ],
   "source": [
    "for x in range(1,11):\n",
    "    if x%2==0:\n",
    "        print(x)"
   ]
  },
  {
   "cell_type": "code",
   "execution_count": 8,
   "id": "07f7238d",
   "metadata": {},
   "outputs": [
    {
     "data": {
      "text/plain": [
       "[2, 4, 6, 8, 10]"
      ]
     },
     "execution_count": 8,
     "metadata": {},
     "output_type": "execute_result"
    }
   ],
   "source": [
    "s = [x for x in range(1,11) if x%2==0]\n",
    "s"
   ]
  },
  {
   "cell_type": "code",
   "execution_count": 18,
   "id": "a0a5811a",
   "metadata": {},
   "outputs": [
    {
     "data": {
      "text/plain": [
       "[10, 20]"
      ]
     },
     "execution_count": 18,
     "metadata": {},
     "output_type": "execute_result"
    }
   ],
   "source": [
    "# to find l1 not present in l2\n",
    "num1=[10,20,30,40]\n",
    "num2=[30,40,50,60]\n",
    "num3 = []\n",
    "for i in num1:\n",
    "    if i not in num2:\n",
    "        num3.append(i)\n",
    "num3"
   ]
  },
  {
   "cell_type": "code",
   "execution_count": null,
   "id": "3b925d64",
   "metadata": {},
   "outputs": [],
   "source": [
    "# if we want to create one list from another list then we nee dlist compresension"
   ]
  },
  {
   "cell_type": "code",
   "execution_count": 20,
   "id": "2825a556",
   "metadata": {},
   "outputs": [
    {
     "data": {
      "text/plain": [
       "[10, 20]"
      ]
     },
     "execution_count": 20,
     "metadata": {},
     "output_type": "execute_result"
    }
   ],
   "source": [
    "s = [i for i in num1 if i not in num2]\n",
    "s"
   ]
  },
  {
   "cell_type": "code",
   "execution_count": 21,
   "id": "ca0c6ed9",
   "metadata": {},
   "outputs": [
    {
     "data": {
      "text/plain": [
       "[30, 40]"
      ]
     },
     "execution_count": 21,
     "metadata": {},
     "output_type": "execute_result"
    }
   ],
   "source": [
    "num4=[i for i in num1 if i in num2]\n",
    "num4"
   ]
  },
  {
   "cell_type": "code",
   "execution_count": 23,
   "id": "787c10f9",
   "metadata": {},
   "outputs": [
    {
     "data": {
      "text/plain": [
       "['the', 'quick', 'brown', 'fox', 'jumps', 'over', 'the', 'lazy', 'dog']"
      ]
     },
     "execution_count": 23,
     "metadata": {},
     "output_type": "execute_result"
    }
   ],
   "source": [
    "words=\"the quick brown fox jumps over the lazy dog\".split()\n",
    "words"
   ]
  },
  {
   "cell_type": "code",
   "execution_count": 25,
   "id": "afdb5169",
   "metadata": {},
   "outputs": [
    {
     "name": "stdout",
     "output_type": "stream",
     "text": [
      "THE 3\n",
      "QUICK 5\n",
      "BROWN 5\n",
      "FOX 3\n",
      "JUMPS 5\n",
      "OVER 4\n",
      "THE 3\n",
      "LAZY 4\n",
      "DOG 3\n"
     ]
    }
   ],
   "source": [
    "# Return list that count the number of words in line and words should be in uppercase\n",
    "for word in words:\n",
    "    print(word.upper(),len(word))"
   ]
  },
  {
   "cell_type": "code",
   "execution_count": 28,
   "id": "4ae7d6ba",
   "metadata": {
    "scrolled": true
   },
   "outputs": [
    {
     "data": {
      "text/plain": [
       "[['THE', 3],\n",
       " ['QUICK', 5],\n",
       " ['BROWN', 5],\n",
       " ['FOX', 3],\n",
       " ['JUMPS', 5],\n",
       " ['OVER', 4],\n",
       " ['THE', 3],\n",
       " ['LAZY', 4],\n",
       " ['DOG', 3]]"
      ]
     },
     "execution_count": 28,
     "metadata": {},
     "output_type": "execute_result"
    }
   ],
   "source": [
    "s = [[word.upper(),len(word)] for word in words ]\n",
    "s"
   ]
  },
  {
   "cell_type": "markdown",
   "id": "33284c26",
   "metadata": {},
   "source": [
    "Q) Write a Program to display Unique Vowels present in the given Word?"
   ]
  },
  {
   "cell_type": "code",
   "execution_count": 34,
   "id": "be2121bb",
   "metadata": {},
   "outputs": [
    {
     "name": "stdout",
     "output_type": "stream",
     "text": [
      "Enter the word to search for vowels: aashisb\n",
      "['a', 'a', 'i'] 3\n",
      "['a', 'i'] 2\n"
     ]
    }
   ],
   "source": [
    "vowels=['a','e','i','o','u']\n",
    "word=input(\"Enter the word to search for vowels: \")\n",
    "found = []\n",
    "for l in word:\n",
    "   if l in vowels:\n",
    "        found.append(l)\n",
    "print(found,len(found)) # not unique\n",
    "\n",
    "found = []\n",
    "for l in word:\n",
    "   if l in vowels and l not in found:\n",
    "        found.append(l)\n",
    "print(found,len(found))"
   ]
  },
  {
   "cell_type": "code",
   "execution_count": null,
   "id": "4194b2e8",
   "metadata": {},
   "outputs": [],
   "source": [
    "List out all Functions of List and write a Program to use these Functions"
   ]
  },
  {
   "cell_type": "code",
   "execution_count": 84,
   "id": "e9018447",
   "metadata": {},
   "outputs": [
    {
     "name": "stdout",
     "output_type": "stream",
     "text": [
      "[[], [], []]\n"
     ]
    }
   ],
   "source": [
    "vowels = ['a', 'e', 'i', 'o', 'u']\n",
    "word = 'aashish'\n",
    "\n",
    "s = []\n",
    "s = [l for l in word if l in vowels if l not in s]\n",
    "print(s)"
   ]
  },
  {
   "cell_type": "markdown",
   "id": "3eac23d3",
   "metadata": {},
   "source": [
    "Tuple Comprehension:\n",
    "---\n",
    "- Tuple Comprehension is not supported by Python.\n",
    "- t = ( x**2 for x in range(1,6))\n",
    "- Here we are not getting tuple object and we are getting generator object"
   ]
  },
  {
   "cell_type": "code",
   "execution_count": 86,
   "id": "5ca7b965",
   "metadata": {},
   "outputs": [
    {
     "name": "stdout",
     "output_type": "stream",
     "text": [
      "<class 'generator'> <generator object <genexpr> at 0x000001D13895EF60>\n",
      "1\n",
      "4\n",
      "9\n",
      "16\n",
      "25\n"
     ]
    }
   ],
   "source": [
    "t= ( x**2 for x in range(1,6))\n",
    "print(type(t))\n",
    "for x in t:\n",
    "   print(x)"
   ]
  },
  {
   "cell_type": "markdown",
   "id": "121e6640",
   "metadata": {},
   "source": [
    "Set Comprehension:\n",
    "-----\n",
    "\n",
    "- Set comprehension is possible.\n"
   ]
  },
  {
   "cell_type": "code",
   "execution_count": 88,
   "id": "09c1f2c4",
   "metadata": {},
   "outputs": [
    {
     "name": "stdout",
     "output_type": "stream",
     "text": [
      "{0, 1, 4, 9, 16}\n",
      "{16, 256, 64, 4}\n"
     ]
    }
   ],
   "source": [
    "\n",
    "s = {x*x for x in range(5)}\n",
    "print (s) # {0, 1, 4, 9, 16}\n",
    "\n",
    "s = {2**x for x in range(2,10,2)}\n",
    "print (s) # {16, 256, 64, 4}"
   ]
  },
  {
   "cell_type": "code",
   "execution_count": null,
   "id": "c525649e",
   "metadata": {},
   "outputs": [],
   "source": [
    "Dictionary Comprehension:\n",
    "---\n",
    "Comprehension concept applicable for dictionaries also.\n"
   ]
  },
  {
   "cell_type": "code",
   "execution_count": 89,
   "id": "71214362",
   "metadata": {},
   "outputs": [
    {
     "name": "stdout",
     "output_type": "stream",
     "text": [
      "{1: 1, 2: 4, 3: 9, 4: 16, 5: 25}\n",
      "{1: 2, 2: 4, 3: 6, 4: 8, 5: 10}\n"
     ]
    }
   ],
   "source": [
    "squares={x:x*x for x in range(1,6)}\n",
    "print(squares)\n",
    "doubles={x:2*x for x in range(1,6)}\n",
    "print(doubles)"
   ]
  },
  {
   "cell_type": "code",
   "execution_count": null,
   "id": "3adf4716",
   "metadata": {},
   "outputs": [],
   "source": []
  }
 ],
 "metadata": {
  "kernelspec": {
   "display_name": "Python 3 (ipykernel)",
   "language": "python",
   "name": "python3"
  },
  "language_info": {
   "codemirror_mode": {
    "name": "ipython",
    "version": 3
   },
   "file_extension": ".py",
   "mimetype": "text/x-python",
   "name": "python",
   "nbconvert_exporter": "python",
   "pygments_lexer": "ipython3",
   "version": "3.11.5"
  }
 },
 "nbformat": 4,
 "nbformat_minor": 5
}
