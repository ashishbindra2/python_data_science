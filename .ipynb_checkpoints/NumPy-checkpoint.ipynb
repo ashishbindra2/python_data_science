{
 "cells": [
  {
   "cell_type": "markdown",
   "id": "393a00ef",
   "metadata": {},
   "source": [
    "# Check the version of Numpy installed"
   ]
  },
  {
   "cell_type": "code",
   "execution_count": 1,
   "id": "4faa2f97",
   "metadata": {},
   "outputs": [
    {
     "name": "stdout",
     "output_type": "stream",
     "text": [
      "1.24.3\n"
     ]
    }
   ],
   "source": [
    "import numpy as np\n",
    "print(np.__version__)"
   ]
  },
  {
   "cell_type": "code",
   "execution_count": null,
   "id": "a801a45f",
   "metadata": {},
   "outputs": [],
   "source": []
  },
  {
   "cell_type": "code",
   "execution_count": 5,
   "id": "bf40bd58",
   "metadata": {},
   "outputs": [
    {
     "ename": "TypeError",
     "evalue": "can only concatenate list (not \"int\") to list",
     "output_type": "error",
     "traceback": [
      "\u001b[1;31m---------------------------------------------------------------------------\u001b[0m",
      "\u001b[1;31mTypeError\u001b[0m                                 Traceback (most recent call last)",
      "Cell \u001b[1;32mIn[5], line 5\u001b[0m\n\u001b[0;32m      3\u001b[0m \u001b[38;5;28;01mimport\u001b[39;00m \u001b[38;5;21;01mnumpy\u001b[39;00m \u001b[38;5;28;01mas\u001b[39;00m \u001b[38;5;21;01mnp\u001b[39;00m\n\u001b[0;32m      4\u001b[0m l \u001b[38;5;241m=\u001b[39m [\u001b[38;5;241m10\u001b[39m,\u001b[38;5;241m20\u001b[39m,\u001b[38;5;241m30\u001b[39m,\u001b[38;5;241m40\u001b[39m]\n\u001b[1;32m----> 5\u001b[0m l\u001b[38;5;241m+\u001b[39m\u001b[38;5;241m2\u001b[39m\n",
      "\u001b[1;31mTypeError\u001b[0m: can only concatenate list (not \"int\") to list"
     ]
    }
   ],
   "source": [
    "# 3. On list, we cannot perform vector operations.\n",
    "# But on ndarray we can perform vector operations.\n",
    "import numpy as np\n",
    "l = [10,20,30,40]\n",
    "l+2 # not possible\n",
    "# print(l)"
   ]
  },
  {
   "cell_type": "code",
   "execution_count": 4,
   "id": "f34be9fe",
   "metadata": {},
   "outputs": [
    {
     "data": {
      "text/plain": [
       "array([12, 22, 32, 42])"
      ]
     },
     "execution_count": 4,
     "metadata": {},
     "output_type": "execute_result"
    }
   ],
   "source": [
    "# On ndarrays we can perform vector operations\n",
    "import numpy as np\n",
    "a = np.array([10,20,30,40])\n",
    "a+2 # array([12,22,32,42])"
   ]
  },
  {
   "cell_type": "code",
   "execution_count": 51,
   "id": "d21cd67c",
   "metadata": {},
   "outputs": [
    {
     "name": "stdout",
     "output_type": "stream",
     "text": [
      "The Size of list l =>  136\n",
      "The Size of ndarray a =>  152\n"
     ]
    }
   ],
   "source": [
    "# 4. Arrays consume less memory than list.\n",
    "\"\"\" but in our case array take more size if we increse the size of list then \n",
    "    it take more time as compare to ndarray\"\"\"\n",
    "import numpy as np\n",
    "import sys\n",
    "l =          [10,20,30,40,50,60,70,80,90,100,10,20,30,40,50,60,70,80,90,100,10,20,30,40,50,60,70,80,90,100]\n",
    "a = np.array([10,20,30,40,50,60,70,80,90,100,10,20,30,40,50,60,70,80,90,100,10,20,30,40,50,60,70,80,90,100])\n",
    "print('The Size of list l => ',sys.getsizeof(l))\n",
    "print('The Size of ndarray a => ',sys.getsizeof(a))"
   ]
  },
  {
   "cell_type": "code",
   "execution_count": 51,
   "id": "6a9f8455",
   "metadata": {},
   "outputs": [
    {
     "name": "stdout",
     "output_type": "stream",
     "text": [
      "True\n",
      "18\n",
      "18\n"
     ]
    }
   ],
   "source": [
    "from datetime import datetime\n",
    "import time\n",
    "\n",
    "\n",
    "# a = [10,20,30]\n",
    "# b = [1,2,3]\n",
    "\n",
    "a = [10,20,30,10,20,30,10,20,30,10,20,30,10,20,30,10,20,30]\n",
    "b = [1,2,3,1,2,3,1,2,3,1,2,3,1,2,3,1,2,3]\n",
    "print(len(a)==len(b))\n",
    "print(len(a))\n",
    "print(len(b))"
   ]
  },
  {
   "cell_type": "code",
   "execution_count": 46,
   "id": "6dceeedf",
   "metadata": {},
   "outputs": [
    {
     "name": "stdout",
     "output_type": "stream",
     "text": [
      "The Time taken by traditonal python: 0:00:00.955700\n"
     ]
    }
   ],
   "source": [
    "#traditional python code with datetime\n",
    "\n",
    "def dot_product(a,b):\n",
    "    result = 0\n",
    "    for i,j in zip(a,b):\n",
    "        result = result + i*j\n",
    "    return result\n",
    "\n",
    "before = datetime.now()\n",
    "\n",
    "for i in range(1000000):\n",
    "    dot_product(a,b)\n",
    "after = datetime.now()\n",
    "print('The Time taken by traditonal python:',after-before)\n"
   ]
  },
  {
   "cell_type": "code",
   "execution_count": 52,
   "id": "78a77774",
   "metadata": {},
   "outputs": [
    {
     "name": "stdout",
     "output_type": "stream",
     "text": [
      "The Time taken by traditonal python: 8.785688877105713\n"
     ]
    }
   ],
   "source": [
    "#traditional python  with time module\n",
    "# 1000000000 take 350.81597924232483\n",
    "\n",
    "def dot_product(a,b):\n",
    "    result = 0\n",
    "    for i,j in zip(a,b):\n",
    "        result = result + i*j\n",
    "    return result\n",
    "\n",
    "\n",
    "before = time.time()\n",
    "for i in range(10000000):\n",
    "    dot_product(a,b)\n",
    "after = time.time()\n",
    "print('The Time taken by traditonal python:',after-before)\n"
   ]
  },
  {
   "cell_type": "code",
   "execution_count": null,
   "id": "19b722b2",
   "metadata": {},
   "outputs": [],
   "source": [
    "#dot product: A.B=10X1 + 20X2 +30X3=140"
   ]
  },
  {
   "cell_type": "code",
   "execution_count": 55,
   "id": "9c8daba7",
   "metadata": {},
   "outputs": [],
   "source": [
    "a = np.array(a)\n",
    "b = np.array(b)"
   ]
  },
  {
   "cell_type": "code",
   "execution_count": 48,
   "id": "bf7eb6f2",
   "metadata": {},
   "outputs": [
    {
     "name": "stdout",
     "output_type": "stream",
     "text": [
      "The Time taken by Numpy Library: 0:00:01.226320\n"
     ]
    }
   ],
   "source": [
    "#dot product: A.B=10X1 + 20X2 +30X3=140\n",
    "\n",
    "\n",
    "before = datetime.now()\n",
    "for i in range(1000000):\n",
    "    np.dot(a,b) # this is from numpy\n",
    "after = datetime.now()\n",
    "\n",
    "print('The Time taken by Numpy Library:',after-before)"
   ]
  },
  {
   "cell_type": "code",
   "execution_count": 56,
   "id": "115df80d",
   "metadata": {},
   "outputs": [
    {
     "name": "stdout",
     "output_type": "stream",
     "text": [
      "The Time taken by Numpy Library: 11.89734435081482\n"
     ]
    }
   ],
   "source": [
    "# 5. Arrays are superfast when compared with list.\n",
    "\"\"\" \n",
    "    But in our case list is super fast as compared to Array \n",
    "    if the 10^7 but if 10^6 values then array is faster \n",
    "    1000000000 take 1176.4178364276886 \n",
    "\"\"\"\n",
    "before = time.time()\n",
    "for i in range(10000000):\n",
    "    np.dot(a,b) # this is from numpy\n",
    "after = time.time()\n",
    "\n",
    "print('The Time taken by Numpy Library:',after-before)"
   ]
  },
  {
   "cell_type": "code",
   "execution_count": 57,
   "id": "79359de1",
   "metadata": {},
   "outputs": [],
   "source": [
    "\"\"\"\n",
    "    array is way faster if complexity is incresers \n",
    "\"\"\"\n",
    "import numpy as np\n",
    "import time\n",
    "import sys\n",
    "SIZE =1000000\n",
    "l1 = range(SIZE)\n",
    "l2 = range(SIZE)\n",
    "a1 = np.arange(SIZE)\n",
    "a2 = np.arange(SIZE)\n"
   ]
  },
  {
   "cell_type": "code",
   "execution_count": 62,
   "id": "10ae63bc",
   "metadata": {},
   "outputs": [
    {
     "name": "stdout",
     "output_type": "stream",
     "text": [
      "Pyton list took :  93.50848197937012\n"
     ]
    }
   ],
   "source": [
    "#python list\n",
    "start = time.time()\n",
    "result = [ (x+y) for x,y in zip(l1,l2)]\n",
    "# adds first element in l1 with first element of l2 and so on\n",
    "print(\"Pyton list took : \",(time.time() - start)*1000)\n",
    "# result"
   ]
  },
  {
   "cell_type": "code",
   "execution_count": 61,
   "id": "10b07923",
   "metadata": {},
   "outputs": [
    {
     "name": "stdout",
     "output_type": "stream",
     "text": [
      "Numpy array took :  5.187749862670898\n"
     ]
    },
    {
     "data": {
      "text/plain": [
       "array([      0,       2,       4, ..., 1999994, 1999996, 1999998])"
      ]
     },
     "execution_count": 61,
     "metadata": {},
     "output_type": "execute_result"
    }
   ],
   "source": [
    "#numpy array\n",
    "start= time.time()\n",
    "result = a1 + a2\n",
    "print(\"Numpy array took : \",(time.time() - start)*1000)\n",
    "(result)"
   ]
  },
  {
   "cell_type": "markdown",
   "id": "52d33f41",
   "metadata": {},
   "source": [
    "### --- Array (ndarray) creation using array module---"
   ]
  },
  {
   "cell_type": "markdown",
   "id": "59b03515",
   "metadata": {},
   "source": [
    "### array module is not recommended to use because much library support is not available"
   ]
  },
  {
   "cell_type": "code",
   "execution_count": 28,
   "id": "a6fd81db",
   "metadata": {},
   "outputs": [
    {
     "name": "stdout",
     "output_type": "stream",
     "text": [
      "Type of a ==> <class 'array.array'>\n",
      "a value ==> array('i', [10, 20, 30])\n",
      "Elements one by one\n",
      "10\n",
      "20\n",
      "30\n"
     ]
    }
   ],
   "source": [
    "\n",
    "import array\n",
    "a = array.array('i',[10,20,30]) # i represents int type array\n",
    "print(f\"Type of a ==> {type(a)}\") # array.array\n",
    "print(f\"a value ==> {a}\")\n",
    "print(\"Elements one by one\")\n",
    "for x in range(len(a)):\n",
    "    print(a[x])"
   ]
  },
  {
   "cell_type": "code",
   "execution_count": 32,
   "id": "295d2f21",
   "metadata": {},
   "outputs": [
    {
     "name": "stdout",
     "output_type": "stream",
     "text": [
      "array('i', [10, 20, 30])\n",
      "<class 'array.array'>\n"
     ]
    }
   ],
   "source": [
    "from array import array\n",
    "a = array('i',[10,20,30])\n",
    "print(a)\n",
    "print(type(a))"
   ]
  },
  {
   "cell_type": "markdown",
   "id": "dc4522ca",
   "metadata": {},
   "source": [
    "Array (ndarray) creation using Numpy\n",
    "0. array()\n",
    "1. arange()\n",
    "2. linspace()\n",
    "3. zeros()\n",
    "4. ones()\n",
    "5. full()\n",
    "6. eye()\n",
    "7. identity()\n",
    "8. diag()\n",
    "9. empty()\n",
    "11. np.random module\n",
    "    -randint()\n",
    "    -rand()\n",
    "    -uniform()\n",
    "    -randn()\n",
    "    -normal()\n",
    "    -shuffle()\n",
    "+ np.random module is developed based on array.\n",
    "+ So performance of this module is more when compared with normal python\n",
    "+ random module"
   ]
  },
  {
   "cell_type": "code",
   "execution_count": 26,
   "id": "1042de4b",
   "metadata": {},
   "outputs": [
    {
     "name": "stdout",
     "output_type": "stream",
     "text": [
      "Help on built-in function array in module numpy:\n",
      "\n",
      "array(...)\n",
      "    array(object, dtype=None, *, copy=True, order='K', subok=False, ndmin=0,\n",
      "          like=None)\n",
      "    \n",
      "    Create an array.\n",
      "    \n",
      "    Parameters\n",
      "    ----------\n",
      "    object : array_like\n",
      "        An array, any object exposing the array interface, an object whose\n",
      "        __array__ method returns an array, or any (nested) sequence.\n",
      "        If object is a scalar, a 0-dimensional array containing object is\n",
      "        returned.\n",
      "    dtype : data-type, optional\n",
      "        The desired data-type for the array.  If not given, then the type will\n",
      "        be determined as the minimum type required to hold the objects in the\n",
      "        sequence.\n",
      "    copy : bool, optional\n",
      "        If true (default), then the object is copied.  Otherwise, a copy will\n",
      "        only be made if __array__ returns a copy, if obj is a nested sequence,\n",
      "        or if a copy is needed to satisfy any of the other requirements\n",
      "        (`dtype`, `order`, etc.).\n",
      "    order : {'K', 'A', 'C', 'F'}, optional\n",
      "        Specify the memory layout of the array. If object is not an array, the\n",
      "        newly created array will be in C order (row major) unless 'F' is\n",
      "        specified, in which case it will be in Fortran order (column major).\n",
      "        If object is an array the following holds.\n",
      "    \n",
      "        ===== ========= ===================================================\n",
      "        order  no copy                     copy=True\n",
      "        ===== ========= ===================================================\n",
      "        'K'   unchanged F & C order preserved, otherwise most similar order\n",
      "        'A'   unchanged F order if input is F and not C, otherwise C order\n",
      "        'C'   C order   C order\n",
      "        'F'   F order   F order\n",
      "        ===== ========= ===================================================\n",
      "    \n",
      "        When ``copy=False`` and a copy is made for other reasons, the result is\n",
      "        the same as if ``copy=True``, with some exceptions for 'A', see the\n",
      "        Notes section. The default order is 'K'.\n",
      "    subok : bool, optional\n",
      "        If True, then sub-classes will be passed-through, otherwise\n",
      "        the returned array will be forced to be a base-class array (default).\n",
      "    ndmin : int, optional\n",
      "        Specifies the minimum number of dimensions that the resulting\n",
      "        array should have.  Ones will be prepended to the shape as\n",
      "        needed to meet this requirement.\n",
      "    like : array_like, optional\n",
      "        Reference object to allow the creation of arrays which are not\n",
      "        NumPy arrays. If an array-like passed in as ``like`` supports\n",
      "        the ``__array_function__`` protocol, the result will be defined\n",
      "        by it. In this case, it ensures the creation of an array object\n",
      "        compatible with that passed in via this argument.\n",
      "    \n",
      "        .. versionadded:: 1.20.0\n",
      "    \n",
      "    Returns\n",
      "    -------\n",
      "    out : ndarray\n",
      "        An array object satisfying the specified requirements.\n",
      "    \n",
      "    See Also\n",
      "    --------\n",
      "    empty_like : Return an empty array with shape and type of input.\n",
      "    ones_like : Return an array of ones with shape and type of input.\n",
      "    zeros_like : Return an array of zeros with shape and type of input.\n",
      "    full_like : Return a new array with shape of input filled with value.\n",
      "    empty : Return a new uninitialized array.\n",
      "    ones : Return a new array setting values to one.\n",
      "    zeros : Return a new array setting values to zero.\n",
      "    full : Return a new array of given shape filled with value.\n",
      "    \n",
      "    \n",
      "    Notes\n",
      "    -----\n",
      "    When order is 'A' and `object` is an array in neither 'C' nor 'F' order,\n",
      "    and a copy is forced by a change in dtype, then the order of the result is\n",
      "    not necessarily 'C' as expected. This is likely a bug.\n",
      "    \n",
      "    Examples\n",
      "    --------\n",
      "    >>> np.array([1, 2, 3])\n",
      "    array([1, 2, 3])\n",
      "    \n",
      "    Upcasting:\n",
      "    \n",
      "    >>> np.array([1, 2, 3.0])\n",
      "    array([ 1.,  2.,  3.])\n",
      "    \n",
      "    More than one dimension:\n",
      "    \n",
      "    >>> np.array([[1, 2], [3, 4]])\n",
      "    array([[1, 2],\n",
      "           [3, 4]])\n",
      "    \n",
      "    Minimum dimensions 2:\n",
      "    \n",
      "    >>> np.array([1, 2, 3], ndmin=2)\n",
      "    array([[1, 2, 3]])\n",
      "    \n",
      "    Type provided:\n",
      "    \n",
      "    >>> np.array([1, 2, 3], dtype=complex)\n",
      "    array([ 1.+0.j,  2.+0.j,  3.+0.j])\n",
      "    \n",
      "    Data-type consisting of more than one element:\n",
      "    \n",
      "    >>> x = np.array([(1,2),(3,4)],dtype=[('a','<i4'),('b','<i4')])\n",
      "    >>> x['a']\n",
      "    array([1, 3])\n",
      "    \n",
      "    Creating an array from sub-classes:\n",
      "    \n",
      "    >>> np.array(np.mat('1 2; 3 4'))\n",
      "    array([[1, 2],\n",
      "           [3, 4]])\n",
      "    \n",
      "    >>> np.array(np.mat('1 2; 3 4'), subok=True)\n",
      "    matrix([[1, 2],\n",
      "            [3, 4]])\n",
      "\n"
     ]
    }
   ],
   "source": [
    "import numpy as np\n",
    "help(np.array )"
   ]
  },
  {
   "cell_type": "code",
   "execution_count": 27,
   "id": "6a76f533",
   "metadata": {},
   "outputs": [
    {
     "name": "stdout",
     "output_type": "stream",
     "text": [
      "Type of l ==> <class 'list'>\n",
      "Type of a ==> <class 'numpy.ndarray'>\n",
      "a ==> [10 20 30]\n"
     ]
    }
   ],
   "source": [
    "# 1-D array(Vector) creation using list or tuple\n",
    "l = [10,20,30]\n",
    "print(f'Type of l ==> {type(l)}')\n",
    "a = np.array(l)\n",
    "print(f'Type of a ==> {type(a)}')\n",
    "print(f\"a ==> {a}\")"
   ]
  },
  {
   "cell_type": "markdown",
   "id": "c020c7a8",
   "metadata": {},
   "source": [
    "To know properties of ndarray\n",
    "- np.ndim ==> to know the dimension of the ndarray\n",
    "- np.dtype ==> to know the data type of the elements in the ndarray\n",
    "- np.size ==> to know the total number of elements in the array.\n",
    "- np.shape ==> returns the shape of an array in tuple form"
   ]
  },
  {
   "cell_type": "code",
   "execution_count": 35,
   "id": "cb8bff73",
   "metadata": {},
   "outputs": [
    {
     "name": "stdout",
     "output_type": "stream",
     "text": [
      "The dimensions of the array a ==> 1\n",
      "The data type of elements of array a ==> int64\n",
      "The size of the array a ==> 3\n",
      "The shape of the array a ==> (3,)\n"
     ]
    }
   ],
   "source": [
    "# 11\n",
    "# properties of ndarraya = np.array(l)\n",
    "l = [10,20,30]\n",
    "\n",
    "a = np.array(l)\n",
    "print(f'The dimensions of the array a ==> {a.ndim}')\n",
    "print(f'The data type of elements of array a ==> {a.dtype}')\n",
    "print(f'The size of the array a ==> {a.size}')\n",
    "print(f'The shape of the array a ==> {a.shape}')"
   ]
  },
  {
   "cell_type": "code",
   "execution_count": 36,
   "id": "18e00a63",
   "metadata": {},
   "outputs": [
    {
     "name": "stdout",
     "output_type": "stream",
     "text": [
      "Type of t ==> <class 'tuple'>\n",
      "Type of a ==> <class 'numpy.ndarray'>\n",
      "The data type of elements of array a ==> <U7\n",
      "The size of the array a ==> 3\n",
      "The shape of the array a ==> (3,)\n",
      "a ==> ['krishna' 'nandu' 'moneesh']\n"
     ]
    }
   ],
   "source": [
    "# 1-D array creating using tuples\n",
    "t = ('krishna','nandu','moneesh')\n",
    "print(f'Type of t ==> {type(t)}')\n",
    "a = np.array(t)\n",
    "print(f'Type of a ==> {type(a)}')\n",
    "print(f'The data type of elements of array a ==> {a.dtype}')\n",
    "print(f'The size of the array a ==> {a.size}')\n",
    "print(f'The shape of the array a ==> {a.shape}')\n",
    "print(f\"a ==> {a}\")"
   ]
  },
  {
   "cell_type": "code",
   "execution_count": 39,
   "id": "dfb644e6",
   "metadata": {},
   "outputs": [
    {
     "name": "stdout",
     "output_type": "stream",
     "text": [
      "Type of a ==> <class 'numpy.ndarray'>\n",
      "a ==> \n",
      " [[10 20 30]\n",
      " [40 50 60]\n",
      " [70 80 90]]\n",
      "The dimensions of the array a ==> 2\n",
      "The data type of elements of array a ==> int64\n",
      "The size of the array a ==> 9\n",
      "The shape of the array a ==> (3, 3)\n"
     ]
    }
   ],
   "source": [
    "# 2-D array(Matrix) creation using Nested Lists\n",
    "# [[10,20,30],[40,50,60],[70,80,90]] --->Nested List\n",
    "a = np.array([[10,20,30],[40,50,60],[70,80,90]])\n",
    "print(f'Type of a ==> {type(a)}')\n",
    "print(f'a ==> \\n {a}')\n",
    "print(f'The dimensions of the array a ==> {a.ndim}')\n",
    "print(f'The data type of elements of array a ==> {a.dtype}')\n",
    "print(f'The size of the array a ==> {a.size}')\n",
    "print(f'The shape of the array a ==> {a.shape}')"
   ]
  },
  {
   "cell_type": "code",
   "execution_count": 40,
   "id": "94c85741",
   "metadata": {},
   "outputs": [
    {
     "name": "stdout",
     "output_type": "stream",
     "text": [
      "a :: [10.  20.  30.5]\n",
      "data type of elements of a ==> float64\n"
     ]
    }
   ],
   "source": [
    "# list contains heterogenous elements\n",
    "l = [10,20,30.5]\n",
    "a = np.array(l) # upcasting to float\n",
    "print(f'a :: {a}')\n",
    "print(f'data type of elements of a ==> {a.dtype}')"
   ]
  },
  {
   "cell_type": "code",
   "execution_count": 41,
   "id": "7db7d40d",
   "metadata": {},
   "outputs": [
    {
     "name": "stdout",
     "output_type": "stream",
     "text": [
      "[10 20 30]\n"
     ]
    }
   ],
   "source": [
    "# int type\n",
    "a = np.array([10,20,30.5],dtype=int)\n",
    "print(a)"
   ]
  },
  {
   "cell_type": "code",
   "execution_count": 42,
   "id": "9b0bbb11",
   "metadata": {
    "scrolled": true
   },
   "outputs": [
    {
     "name": "stdout",
     "output_type": "stream",
     "text": [
      "[10.  20.  30.5]\n"
     ]
    }
   ],
   "source": [
    "# float type\n",
    "a = np.array([10,20,30.5],dtype=float)\n",
    "print(a)"
   ]
  },
  {
   "cell_type": "code",
   "execution_count": 44,
   "id": "86519996",
   "metadata": {},
   "outputs": [
    {
     "name": "stdout",
     "output_type": "stream",
     "text": [
      "[ True  True  True]\n"
     ]
    }
   ],
   "source": [
    "# bool type ==> any number is True and zero is False. Any string is True and empty string is False\n",
    "a = np.array([10,20,30.5],dtype=bool)\n",
    "print(a)"
   ]
  },
  {
   "cell_type": "code",
   "execution_count": 45,
   "id": "033f6064",
   "metadata": {
    "scrolled": true
   },
   "outputs": [
    {
     "name": "stdout",
     "output_type": "stream",
     "text": [
      "[10. +0.j 20. +0.j 30.5+0.j  0. +0.j]\n"
     ]
    }
   ],
   "source": [
    "# complex type\n",
    "a = np.array([10,20,30.5,0],dtype=complex)\n",
    "print(a)\n"
   ]
  },
  {
   "cell_type": "code",
   "execution_count": 46,
   "id": "c3b2ffe5",
   "metadata": {},
   "outputs": [
    {
     "name": "stdout",
     "output_type": "stream",
     "text": [
      "['10' '20' '30.5']\n"
     ]
    }
   ],
   "source": [
    "# str type\n",
    "a = np.array([10,20,30.5],dtype=str)\n",
    "print(a)"
   ]
  },
  {
   "cell_type": "code",
   "execution_count": 47,
   "id": "afedf269",
   "metadata": {},
   "outputs": [
    {
     "name": "stdout",
     "output_type": "stream",
     "text": [
      "[10 'krishna' 10.5 True (10+20j)]\n",
      "Data type of elements of array a ==> object\n"
     ]
    }
   ],
   "source": [
    "a = np.array([10,'krishna',10.5,True,10+20j],dtype=object)\n",
    "print(a)\n",
    "# data type\n",
    "print(f\"Data type of elements of array a ==> {a.dtype}\")"
   ]
  },
  {
   "cell_type": "code",
   "execution_count": 48,
   "id": "fde8c283",
   "metadata": {},
   "outputs": [
    {
     "name": "stdout",
     "output_type": "stream",
     "text": [
      "['10' 'krishna' '10.5' 'True' '(10+20j)']\n",
      "Data type of elements of array a ==> <U64\n"
     ]
    }
   ],
   "source": [
    "a = np.array([10,'krishna',10.5,True,10+20j])\n",
    "print(a)\n",
    "# data type\n",
    "print(f\"Data type of elements of array a ==> {a.dtype}\")"
   ]
  },
  {
   "cell_type": "markdown",
   "id": "17c369e2",
   "metadata": {},
   "source": [
    "## arange()"
   ]
  },
  {
   "cell_type": "code",
   "execution_count": 49,
   "id": "a7e5a638",
   "metadata": {},
   "outputs": [],
   "source": [
    "# we can create only 1-D arrays with arange() function"
   ]
  },
  {
   "cell_type": "code",
   "execution_count": 1,
   "id": "dbb04ed1",
   "metadata": {},
   "outputs": [
    {
     "name": "stdout",
     "output_type": "stream",
     "text": [
      "Help on built-in function arange in module numpy:\n",
      "\n",
      "arange(...)\n",
      "    arange([start,] stop[, step,], dtype=None, *, like=None)\n",
      "    \n",
      "    Return evenly spaced values within a given interval.\n",
      "    \n",
      "    ``arange`` can be called with a varying number of positional arguments:\n",
      "    \n",
      "    * ``arange(stop)``: Values are generated within the half-open interval\n",
      "      ``[0, stop)`` (in other words, the interval including `start` but\n",
      "      excluding `stop`).\n",
      "    * ``arange(start, stop)``: Values are generated within the half-open\n",
      "      interval ``[start, stop)``.\n",
      "    * ``arange(start, stop, step)`` Values are generated within the half-open\n",
      "      interval ``[start, stop)``, with spacing between values given by\n",
      "      ``step``.\n",
      "    \n",
      "    For integer arguments the function is roughly equivalent to the Python\n",
      "    built-in :py:class:`range`, but returns an ndarray rather than a ``range``\n",
      "    instance.\n",
      "    \n",
      "    When using a non-integer step, such as 0.1, it is often better to use\n",
      "    `numpy.linspace`.\n",
      "    \n",
      "    See the Warning sections below for more information.\n",
      "    \n",
      "    Parameters\n",
      "    ----------\n",
      "    start : integer or real, optional\n",
      "        Start of interval.  The interval includes this value.  The default\n",
      "        start value is 0.\n",
      "    stop : integer or real\n",
      "        End of interval.  The interval does not include this value, except\n",
      "        in some cases where `step` is not an integer and floating point\n",
      "        round-off affects the length of `out`.\n",
      "    step : integer or real, optional\n",
      "        Spacing between values.  For any output `out`, this is the distance\n",
      "        between two adjacent values, ``out[i+1] - out[i]``.  The default\n",
      "        step size is 1.  If `step` is specified as a position argument,\n",
      "        `start` must also be given.\n",
      "    dtype : dtype, optional\n",
      "        The type of the output array.  If `dtype` is not given, infer the data\n",
      "        type from the other input arguments.\n",
      "    like : array_like, optional\n",
      "        Reference object to allow the creation of arrays which are not\n",
      "        NumPy arrays. If an array-like passed in as ``like`` supports\n",
      "        the ``__array_function__`` protocol, the result will be defined\n",
      "        by it. In this case, it ensures the creation of an array object\n",
      "        compatible with that passed in via this argument.\n",
      "    \n",
      "        .. versionadded:: 1.20.0\n",
      "    \n",
      "    Returns\n",
      "    -------\n",
      "    arange : ndarray\n",
      "        Array of evenly spaced values.\n",
      "    \n",
      "        For floating point arguments, the length of the result is\n",
      "        ``ceil((stop - start)/step)``.  Because of floating point overflow,\n",
      "        this rule may result in the last element of `out` being greater\n",
      "        than `stop`.\n",
      "    \n",
      "    Warnings\n",
      "    --------\n",
      "    The length of the output might not be numerically stable.\n",
      "    \n",
      "    Another stability issue is due to the internal implementation of\n",
      "    `numpy.arange`.\n",
      "    The actual step value used to populate the array is\n",
      "    ``dtype(start + step) - dtype(start)`` and not `step`. Precision loss\n",
      "    can occur here, due to casting or due to using floating points when\n",
      "    `start` is much larger than `step`. This can lead to unexpected\n",
      "    behaviour. For example::\n",
      "    \n",
      "      >>> np.arange(0, 5, 0.5, dtype=int)\n",
      "      array([0, 0, 0, 0, 0, 0, 0, 0, 0, 0])\n",
      "      >>> np.arange(-3, 3, 0.5, dtype=int)\n",
      "      array([-3, -2, -1,  0,  1,  2,  3,  4,  5,  6,  7,  8])\n",
      "    \n",
      "    In such cases, the use of `numpy.linspace` should be preferred.\n",
      "    \n",
      "    The built-in :py:class:`range` generates :std:doc:`Python built-in integers\n",
      "    that have arbitrary size <python:c-api/long>`, while `numpy.arange`\n",
      "    produces `numpy.int32` or `numpy.int64` numbers. This may result in\n",
      "    incorrect results for large integer values::\n",
      "    \n",
      "      >>> power = 40\n",
      "      >>> modulo = 10000\n",
      "      >>> x1 = [(n ** power) % modulo for n in range(8)]\n",
      "      >>> x2 = [(n ** power) % modulo for n in np.arange(8)]\n",
      "      >>> print(x1)\n",
      "      [0, 1, 7776, 8801, 6176, 625, 6576, 4001]  # correct\n",
      "      >>> print(x2)\n",
      "      [0, 1, 7776, 7185, 0, 5969, 4816, 3361]  # incorrect\n",
      "    \n",
      "    See Also\n",
      "    --------\n",
      "    numpy.linspace : Evenly spaced numbers with careful handling of endpoints.\n",
      "    numpy.ogrid: Arrays of evenly spaced numbers in N-dimensions.\n",
      "    numpy.mgrid: Grid-shaped arrays of evenly spaced numbers in N-dimensions.\n",
      "    :ref:`how-to-partition`\n",
      "    \n",
      "    Examples\n",
      "    --------\n",
      "    >>> np.arange(3)\n",
      "    array([0, 1, 2])\n",
      "    >>> np.arange(3.0)\n",
      "    array([ 0.,  1.,  2.])\n",
      "    >>> np.arange(3,7)\n",
      "    array([3, 4, 5, 6])\n",
      "    >>> np.arange(3,7,2)\n",
      "    array([3, 5])\n",
      "\n"
     ]
    }
   ],
   "source": [
    "import numpy as np\n",
    "help(np.arange)"
   ]
  },
  {
   "cell_type": "code",
   "execution_count": 3,
   "id": "e51a09f2",
   "metadata": {},
   "outputs": [
    {
     "name": "stdout",
     "output_type": "stream",
     "text": [
      "a ==> [0 1 2 3 4 5 6 7 8 9]\n",
      "The dimensions of the array a ==> 1\n",
      "The data type of elements of array a ==> int64\n",
      "The size of the array a ==> 10\n",
      "The shape of the array a ==> (10,)\n"
     ]
    }
   ],
   "source": [
    "# only stop value ==> 0 to stop-1\n",
    "import numpy as np\n",
    "a = np.arange(10)\n",
    "print(f'a ==> {a}')\n",
    "print(f'The dimensions of the array a ==> {a.ndim}')\n",
    "print(f'The data type of elements of array a ==> {a.dtype}')\n",
    "print(f'The size of the array a ==> {a.size}')\n",
    "print(f'The shape of the array a ==> {a.shape}')"
   ]
  },
  {
   "cell_type": "code",
   "execution_count": 4,
   "id": "36c8f744",
   "metadata": {},
   "outputs": [
    {
     "name": "stdout",
     "output_type": "stream",
     "text": [
      "a ==> [ 1  2  3  4  5  6  7  8  9 10]\n",
      "The dimensions of the array a ==> 1\n",
      "The data type of elements of array a ==> int64\n",
      "The size of the array a ==> 10\n",
      "The shape of the array a ==> (10,)\n"
     ]
    }
   ],
   "source": [
    "# both start and stop values: start to stop-1\n",
    "import numpy as np\n",
    "a = np.arange(1,11)\n",
    "print(f'a ==> {a}')\n",
    "print(f'The dimensions of the array a ==> {a.ndim}')\n",
    "print(f'The data type of elements of array a ==> {a.dtype}')\n",
    "print(f'The size of the array a ==> {a.size}')\n",
    "print(f'The shape of the array a ==> {a.shape}')"
   ]
  },
  {
   "cell_type": "code",
   "execution_count": 5,
   "id": "183950e8",
   "metadata": {},
   "outputs": [
    {
     "name": "stdout",
     "output_type": "stream",
     "text": [
      "a ==> [1 3 5 7 9]\n",
      "The dimensions of the array a ==> 1\n",
      "The data type of elements of array a ==> int64\n",
      "The size of the array a ==> 5\n",
      "The shape of the array a ==> (5,)\n"
     ]
    }
   ],
   "source": [
    "# start, stop and step values : start to stop-1 with step\n",
    "import numpy as np\n",
    "a = np.arange(1,11,2)\n",
    "print(f'a ==> {a}')\n",
    "print(f'The dimensions of the array a ==> {a.ndim}')\n",
    "print(f'The data type of elements of array a ==> {a.dtype}')\n",
    "print(f'The size of the array a ==> {a.size}')\n",
    "print(f'The shape of the array a ==> {a.shape}')"
   ]
  },
  {
   "cell_type": "code",
   "execution_count": 6,
   "id": "991412f0",
   "metadata": {},
   "outputs": [
    {
     "name": "stdout",
     "output_type": "stream",
     "text": [
      "a ==> [ 1.  4.  7. 10.]\n",
      "The dimensions of the array a ==> 1\n",
      "The data type of elements of array a ==> float64\n",
      "The size of the array a ==> 4\n",
      "The shape of the array a ==> (4,)\n"
     ]
    }
   ],
   "source": [
    "# with a particular datatype of the elements\n",
    "import numpy as np\n",
    "a = np.arange(1,11,3,dtype=float)\n",
    "print(f'a ==> {a}')\n",
    "print(f'The dimensions of the array a ==> {a.ndim}')\n",
    "print(f'The data type of elements of array a ==> {a.dtype}')\n",
    "print(f'The size of the array a ==> {a.size}')\n",
    "print(f'The shape of the array a ==> {a.shape}')"
   ]
  },
  {
   "cell_type": "markdown",
   "id": "975e861a",
   "metadata": {},
   "source": [
    "### linspace()\n",
    "- same as arange() only but in the specified interval, linearly spaced values"
   ]
  },
  {
   "cell_type": "code",
   "execution_count": 7,
   "id": "2fef02d1",
   "metadata": {},
   "outputs": [
    {
     "data": {
      "text/plain": [
       "array([0.        , 0.02040816, 0.04081633, 0.06122449, 0.08163265,\n",
       "       0.10204082, 0.12244898, 0.14285714, 0.16326531, 0.18367347,\n",
       "       0.20408163, 0.2244898 , 0.24489796, 0.26530612, 0.28571429,\n",
       "       0.30612245, 0.32653061, 0.34693878, 0.36734694, 0.3877551 ,\n",
       "       0.40816327, 0.42857143, 0.44897959, 0.46938776, 0.48979592,\n",
       "       0.51020408, 0.53061224, 0.55102041, 0.57142857, 0.59183673,\n",
       "       0.6122449 , 0.63265306, 0.65306122, 0.67346939, 0.69387755,\n",
       "       0.71428571, 0.73469388, 0.75510204, 0.7755102 , 0.79591837,\n",
       "       0.81632653, 0.83673469, 0.85714286, 0.87755102, 0.89795918,\n",
       "       0.91836735, 0.93877551, 0.95918367, 0.97959184, 1.        ])"
      ]
     },
     "execution_count": 7,
     "metadata": {},
     "output_type": "execute_result"
    }
   ],
   "source": [
    "# 50 evenly spaced values between 0 and 1 are returned including both 0 and 1\n",
    "np.linspace(0,1 )"
   ]
  },
  {
   "cell_type": "code",
   "execution_count": 8,
   "id": "68b2c5ab",
   "metadata": {},
   "outputs": [
    {
     "data": {
      "text/plain": [
       "array([0.        , 0.33333333, 0.66666667, 1.        ])"
      ]
     },
     "execution_count": 8,
     "metadata": {},
     "output_type": "execute_result"
    }
   ],
   "source": [
    "# 4 evenly spaced valued between 0 and 1 including 0 and 1\n",
    "np.linspace(0,1,4)"
   ]
  },
  {
   "cell_type": "code",
   "execution_count": 9,
   "id": "a35bccdf",
   "metadata": {},
   "outputs": [
    {
     "data": {
      "text/plain": [
       "array([ 0.        ,  3.33333333,  6.66666667, 10.        ])"
      ]
     },
     "execution_count": 9,
     "metadata": {},
     "output_type": "execute_result"
    }
   ],
   "source": [
    "np.linspace(0,10,4)"
   ]
  },
  {
   "cell_type": "code",
   "execution_count": 63,
   "id": "1a6bf56b",
   "metadata": {},
   "outputs": [
    {
     "data": {
      "text/plain": [
       "array([0. , 2.5, 5. , 7.5])"
      ]
     },
     "execution_count": 63,
     "metadata": {},
     "output_type": "execute_result"
    }
   ],
   "source": [
    "# 4 evenly spaced valued between 0 and 1 including 0 and excluding 1\n",
    "np.linspace(0,10,4,endpoint=False)"
   ]
  },
  {
   "cell_type": "code",
   "execution_count": 11,
   "id": "955f7d99",
   "metadata": {},
   "outputs": [
    {
     "data": {
      "text/plain": [
       "(array([0.  , 0.25, 0.5 , 0.75]), 0.25)"
      ]
     },
     "execution_count": 11,
     "metadata": {},
     "output_type": "execute_result"
    }
   ],
   "source": [
    "# 4 evenly spaced valued between 0 and 1 including 0 and excluding 1 and return spacing\n",
    "np.linspace(0,1,4,endpoint=False,retstep=True)"
   ]
  },
  {
   "cell_type": "code",
   "execution_count": 12,
   "id": "c4318083",
   "metadata": {},
   "outputs": [
    {
     "data": {
      "text/plain": [
       "(array([  1,  12,  23,  34,  45,  56,  67,  78,  89, 100]), 11.0)"
      ]
     },
     "execution_count": 12,
     "metadata": {},
     "output_type": "execute_result"
    }
   ],
   "source": [
    "# 10 values between 1 to 100 including 1 and 100 with equally spaced int values\n",
    "np.linspace(1,100,10,dtype=int,retstep=True)"
   ]
  },
  {
   "cell_type": "markdown",
   "id": "bf2bf23d",
   "metadata": {},
   "source": [
    "zeros\n",
    "- array is filled with 0s"
   ]
  },
  {
   "cell_type": "code",
   "execution_count": 65,
   "id": "fe130e26",
   "metadata": {
    "scrolled": true
   },
   "outputs": [
    {
     "name": "stdout",
     "output_type": "stream",
     "text": [
      "Help on built-in function zeros in module numpy:\n",
      "\n",
      "zeros(...)\n",
      "    zeros(shape, dtype=float, order='C', *, like=None)\n",
      "    \n",
      "    Return a new array of given shape and type, filled with zeros.\n",
      "    \n",
      "    Parameters\n",
      "    ----------\n",
      "    shape : int or tuple of ints\n",
      "        Shape of the new array, e.g., ``(2, 3)`` or ``2``.\n",
      "    dtype : data-type, optional\n",
      "        The desired data-type for the array, e.g., `numpy.int8`.  Default is\n",
      "        `numpy.float64`.\n",
      "    order : {'C', 'F'}, optional, default: 'C'\n",
      "        Whether to store multi-dimensional data in row-major\n",
      "        (C-style) or column-major (Fortran-style) order in\n",
      "        memory.\n",
      "    like : array_like, optional\n",
      "        Reference object to allow the creation of arrays which are not\n",
      "        NumPy arrays. If an array-like passed in as ``like`` supports\n",
      "        the ``__array_function__`` protocol, the result will be defined\n",
      "        by it. In this case, it ensures the creation of an array object\n",
      "        compatible with that passed in via this argument.\n",
      "    \n",
      "        .. versionadded:: 1.20.0\n",
      "    \n",
      "    Returns\n",
      "    -------\n",
      "    out : ndarray\n",
      "        Array of zeros with the given shape, dtype, and order.\n",
      "    \n",
      "    See Also\n",
      "    --------\n",
      "    zeros_like : Return an array of zeros with shape and type of input.\n",
      "    empty : Return a new uninitialized array.\n",
      "    ones : Return a new array setting values to one.\n",
      "    full : Return a new array of given shape filled with value.\n",
      "    \n",
      "    Examples\n",
      "    --------\n",
      "    >>> np.zeros(5)\n",
      "    array([ 0.,  0.,  0.,  0.,  0.])\n",
      "    \n",
      "    >>> np.zeros((5,), dtype=int)\n",
      "    array([0, 0, 0, 0, 0])\n",
      "    \n",
      "    >>> np.zeros((2, 1))\n",
      "    array([[ 0.],\n",
      "           [ 0.]])\n",
      "    \n",
      "    >>> s = (2,2)\n",
      "    >>> np.zeros(s)\n",
      "    array([[ 0.,  0.],\n",
      "           [ 0.,  0.]])\n",
      "    \n",
      "    >>> np.zeros((2,), dtype=[('x', 'i4'), ('y', 'i4')]) # custom dtype\n",
      "    array([(0, 0), (0, 0)],\n",
      "          dtype=[('x', '<i4'), ('y', '<i4')])\n",
      "\n"
     ]
    }
   ],
   "source": [
    "import numpy as np\n",
    "help(np.zeros)"
   ]
  },
  {
   "cell_type": "markdown",
   "id": "17ce9bb7",
   "metadata": {},
   "source": [
    "- 0-D array ==> Scalar :: single value\n",
    "- 1-D array ==> Vector :: Collection of 0-D arrays\n",
    "- 2-D array ==> Matrix :: Collection of 1-D arrays\n",
    "- 3-D array ==> collcetion of 2-D arrays"
   ]
  },
  {
   "cell_type": "markdown",
   "id": "9f552a14",
   "metadata": {},
   "source": [
    "(10,) ==>1-D array contains 10 elements\n",
    "(5,2) ==>2-D array contains 5 rows and 2 columns\n",
    "(2,3,4) ==>3-D array"
   ]
  },
  {
   "cell_type": "code",
   "execution_count": 66,
   "id": "ff91eb68",
   "metadata": {},
   "outputs": [
    {
     "data": {
      "text/plain": [
       "array([0., 0., 0., 0.])"
      ]
     },
     "execution_count": 66,
     "metadata": {},
     "output_type": "execute_result"
    }
   ],
   "source": [
    "# zeros(shape, dtype=float, order='C', *, like=None) ==> shape always in tuple form\n",
    "# 1-D array with zeros\n",
    "np.zeros(4)"
   ]
  },
  {
   "cell_type": "code",
   "execution_count": 83,
   "id": "dfb835e8",
   "metadata": {},
   "outputs": [
    {
     "data": {
      "text/plain": [
       "array([[0., 0., 0., 0., 0., 0., 0.],\n",
       "       [0., 0., 0., 0., 0., 0., 0.],\n",
       "       [0., 0., 0., 0., 0., 0., 0.],\n",
       "       [0., 0., 0., 0., 0., 0., 0.]])"
      ]
     },
     "execution_count": 83,
     "metadata": {},
     "output_type": "execute_result"
    }
   ],
   "source": [
    "# 2-D arrays with zeros\n",
    "# np.zeros((4,4))\n",
    "np.zeros((4,7))"
   ]
  },
  {
   "cell_type": "code",
   "execution_count": 87,
   "id": "86fe0565",
   "metadata": {
    "scrolled": true
   },
   "outputs": [
    {
     "data": {
      "text/plain": [
       "array([[[0., 0., 0., 0.],\n",
       "        [0., 0., 0., 0.],\n",
       "        [0., 0., 0., 0.]],\n",
       "\n",
       "       [[0., 0., 0., 0.],\n",
       "        [0., 0., 0., 0.],\n",
       "        [0., 0., 0., 0.]]])"
      ]
     },
     "execution_count": 87,
     "metadata": {},
     "output_type": "execute_result"
    }
   ],
   "source": [
    "# 3-D araay\n",
    "np.zeros((2,3,4))"
   ]
  },
  {
   "cell_type": "markdown",
   "id": "a15559d6",
   "metadata": {},
   "source": [
    "ones()\n",
    "- exactly same as zeros except array is filled with 1"
   ]
  },
  {
   "cell_type": "code",
   "execution_count": 88,
   "id": "96e1c460",
   "metadata": {},
   "outputs": [
    {
     "data": {
      "text/plain": [
       "array([1., 1., 1., 1., 1., 1., 1., 1., 1., 1.])"
      ]
     },
     "execution_count": 88,
     "metadata": {},
     "output_type": "execute_result"
    }
   ],
   "source": [
    "np.ones(10)"
   ]
  },
  {
   "cell_type": "code",
   "execution_count": 89,
   "id": "e0f85323",
   "metadata": {},
   "outputs": [
    {
     "data": {
      "text/plain": [
       "array([1, 1, 1, 1, 1, 1, 1, 1, 1, 1])"
      ]
     },
     "execution_count": 89,
     "metadata": {},
     "output_type": "execute_result"
    }
   ],
   "source": [
    "np.ones(10,dtype=int)"
   ]
  },
  {
   "cell_type": "code",
   "execution_count": 91,
   "id": "d1bc094c",
   "metadata": {
    "scrolled": true
   },
   "outputs": [
    {
     "data": {
      "text/plain": [
       "array([[1, 1, 1],\n",
       "       [1, 1, 1],\n",
       "       [1, 1, 1],\n",
       "       [1, 1, 1],\n",
       "       [1, 1, 1]])"
      ]
     },
     "execution_count": 91,
     "metadata": {},
     "output_type": "execute_result"
    }
   ],
   "source": [
    "np.ones((5,3),dtype=int)"
   ]
  },
  {
   "cell_type": "code",
   "execution_count": null,
   "id": "a7b35e1b",
   "metadata": {},
   "outputs": [],
   "source": [
    "full\n",
    "- Return a new array of given shape and type, filled with fill_value ."
   ]
  },
  {
   "cell_type": "code",
   "execution_count": 92,
   "id": "f783288b",
   "metadata": {
    "scrolled": true
   },
   "outputs": [
    {
     "name": "stdout",
     "output_type": "stream",
     "text": [
      "Help on function full in module numpy:\n",
      "\n",
      "full(shape, fill_value, dtype=None, order='C', *, like=None)\n",
      "    Return a new array of given shape and type, filled with `fill_value`.\n",
      "    \n",
      "    Parameters\n",
      "    ----------\n",
      "    shape : int or sequence of ints\n",
      "        Shape of the new array, e.g., ``(2, 3)`` or ``2``.\n",
      "    fill_value : scalar or array_like\n",
      "        Fill value.\n",
      "    dtype : data-type, optional\n",
      "        The desired data-type for the array  The default, None, means\n",
      "         ``np.array(fill_value).dtype``.\n",
      "    order : {'C', 'F'}, optional\n",
      "        Whether to store multidimensional data in C- or Fortran-contiguous\n",
      "        (row- or column-wise) order in memory.\n",
      "    like : array_like, optional\n",
      "        Reference object to allow the creation of arrays which are not\n",
      "        NumPy arrays. If an array-like passed in as ``like`` supports\n",
      "        the ``__array_function__`` protocol, the result will be defined\n",
      "        by it. In this case, it ensures the creation of an array object\n",
      "        compatible with that passed in via this argument.\n",
      "    \n",
      "        .. versionadded:: 1.20.0\n",
      "    \n",
      "    Returns\n",
      "    -------\n",
      "    out : ndarray\n",
      "        Array of `fill_value` with the given shape, dtype, and order.\n",
      "    \n",
      "    See Also\n",
      "    --------\n",
      "    full_like : Return a new array with shape of input filled with value.\n",
      "    empty : Return a new uninitialized array.\n",
      "    ones : Return a new array setting values to one.\n",
      "    zeros : Return a new array setting values to zero.\n",
      "    \n",
      "    Examples\n",
      "    --------\n",
      "    >>> np.full((2, 2), np.inf)\n",
      "    array([[inf, inf],\n",
      "           [inf, inf]])\n",
      "    >>> np.full((2, 2), 10)\n",
      "    array([[10, 10],\n",
      "           [10, 10]])\n",
      "    \n",
      "    >>> np.full((2, 2), [1, 2])\n",
      "    array([[1, 2],\n",
      "           [1, 2]])\n",
      "\n"
     ]
    }
   ],
   "source": [
    "help(np.full)"
   ]
  },
  {
   "cell_type": "code",
   "execution_count": 93,
   "id": "174bda8b",
   "metadata": {},
   "outputs": [
    {
     "data": {
      "text/plain": [
       "array([2, 2, 2, 2, 2, 2, 2, 2, 2, 2])"
      ]
     },
     "execution_count": 93,
     "metadata": {},
     "output_type": "execute_result"
    }
   ],
   "source": [
    "# 1-D array\n",
    "np.full(10,fill_value=2)"
   ]
  },
  {
   "cell_type": "code",
   "execution_count": 94,
   "id": "5a1b39fe",
   "metadata": {},
   "outputs": [
    {
     "data": {
      "text/plain": [
       "array([[3, 3, 3],\n",
       "       [3, 3, 3]])"
      ]
     },
     "execution_count": 94,
     "metadata": {},
     "output_type": "execute_result"
    }
   ],
   "source": [
    "# 2-D array\n",
    "np.full((2,3),fill_value=3)"
   ]
  },
  {
   "cell_type": "code",
   "execution_count": 95,
   "id": "60f74a7f",
   "metadata": {
    "scrolled": true
   },
   "outputs": [
    {
     "data": {
      "text/plain": [
       "array([[[8, 8, 8, 8],\n",
       "        [8, 8, 8, 8],\n",
       "        [8, 8, 8, 8]],\n",
       "\n",
       "       [[8, 8, 8, 8],\n",
       "        [8, 8, 8, 8],\n",
       "        [8, 8, 8, 8]]])"
      ]
     },
     "execution_count": 95,
     "metadata": {},
     "output_type": "execute_result"
    }
   ],
   "source": [
    "# 3-D array\n",
    "np.full((2,3,4),fill_value=8)"
   ]
  },
  {
   "cell_type": "code",
   "execution_count": 96,
   "id": "ba023c76",
   "metadata": {
    "scrolled": true
   },
   "outputs": [
    {
     "data": {
      "text/plain": [
       "array([[[8, 8, 8, 8],\n",
       "        [8, 8, 8, 8],\n",
       "        [8, 8, 8, 8]],\n",
       "\n",
       "       [[8, 8, 8, 8],\n",
       "        [8, 8, 8, 8],\n",
       "        [8, 8, 8, 8]]])"
      ]
     },
     "execution_count": 96,
     "metadata": {},
     "output_type": "execute_result"
    }
   ],
   "source": [
    "np.full(shape=(2,3,4),fill_value=8)"
   ]
  },
  {
   "cell_type": "code",
   "execution_count": 97,
   "id": "0368e47a",
   "metadata": {
    "scrolled": true
   },
   "outputs": [
    {
     "data": {
      "text/plain": [
       "array([[[8, 8, 8, 8],\n",
       "        [8, 8, 8, 8],\n",
       "        [8, 8, 8, 8]],\n",
       "\n",
       "       [[8, 8, 8, 8],\n",
       "        [8, 8, 8, 8],\n",
       "        [8, 8, 8, 8]]])"
      ]
     },
     "execution_count": 97,
     "metadata": {},
     "output_type": "execute_result"
    }
   ],
   "source": [
    "np.full((2,3,4),8)"
   ]
  },
  {
   "cell_type": "code",
   "execution_count": 102,
   "id": "eb6cacb6",
   "metadata": {
    "scrolled": true
   },
   "outputs": [
    {
     "data": {
      "text/plain": [
       "array([[[8, 8, 8, 8],\n",
       "        [8, 8, 8, 8],\n",
       "        [8, 8, 8, 8]],\n",
       "\n",
       "       [[8, 8, 8, 8],\n",
       "        [8, 8, 8, 8],\n",
       "        [8, 8, 8, 8]]])"
      ]
     },
     "execution_count": 102,
     "metadata": {},
     "output_type": "execute_result"
    }
   ],
   "source": [
    "np.full((2,3,4),8,order='F')"
   ]
  },
  {
   "cell_type": "markdown",
   "id": "86d08441",
   "metadata": {},
   "source": [
    "eye()\n",
    "- To generate identity matrix\n",
    "- Return a 2-D array with ones on the diagonal and zeros elsewhere."
   ]
  },
  {
   "cell_type": "code",
   "execution_count": 103,
   "id": "6eb9278c",
   "metadata": {},
   "outputs": [
    {
     "name": "stdout",
     "output_type": "stream",
     "text": [
      "Help on function eye in module numpy:\n",
      "\n",
      "eye(N, M=None, k=0, dtype=<class 'float'>, order='C', *, like=None)\n",
      "    Return a 2-D array with ones on the diagonal and zeros elsewhere.\n",
      "    \n",
      "    Parameters\n",
      "    ----------\n",
      "    N : int\n",
      "      Number of rows in the output.\n",
      "    M : int, optional\n",
      "      Number of columns in the output. If None, defaults to `N`.\n",
      "    k : int, optional\n",
      "      Index of the diagonal: 0 (the default) refers to the main diagonal,\n",
      "      a positive value refers to an upper diagonal, and a negative value\n",
      "      to a lower diagonal.\n",
      "    dtype : data-type, optional\n",
      "      Data-type of the returned array.\n",
      "    order : {'C', 'F'}, optional\n",
      "        Whether the output should be stored in row-major (C-style) or\n",
      "        column-major (Fortran-style) order in memory.\n",
      "    \n",
      "        .. versionadded:: 1.14.0\n",
      "    like : array_like, optional\n",
      "        Reference object to allow the creation of arrays which are not\n",
      "        NumPy arrays. If an array-like passed in as ``like`` supports\n",
      "        the ``__array_function__`` protocol, the result will be defined\n",
      "        by it. In this case, it ensures the creation of an array object\n",
      "        compatible with that passed in via this argument.\n",
      "    \n",
      "        .. versionadded:: 1.20.0\n",
      "    \n",
      "    Returns\n",
      "    -------\n",
      "    I : ndarray of shape (N,M)\n",
      "      An array where all elements are equal to zero, except for the `k`-th\n",
      "      diagonal, whose values are equal to one.\n",
      "    \n",
      "    See Also\n",
      "    --------\n",
      "    identity : (almost) equivalent function\n",
      "    diag : diagonal 2-D array from a 1-D array specified by the user.\n",
      "    \n",
      "    Examples\n",
      "    --------\n",
      "    >>> np.eye(2, dtype=int)\n",
      "    array([[1, 0],\n",
      "           [0, 1]])\n",
      "    >>> np.eye(3, k=1)\n",
      "    array([[0.,  1.,  0.],\n",
      "           [0.,  0.,  1.],\n",
      "           [0.,  0.,  0.]])\n",
      "\n"
     ]
    }
   ],
   "source": [
    "help(np.eye)"
   ]
  },
  {
   "cell_type": "markdown",
   "id": "2c0f229f",
   "metadata": {},
   "source": [
    "eye(N, M=None, k=0, dtype=<class 'float'>, order='C', *, like=None)\n",
    "- Return a 2-D array with ones on the diagonal and zeros elsewhere."
   ]
  },
  {
   "cell_type": "code",
   "execution_count": 104,
   "id": "4a8d0b1a",
   "metadata": {},
   "outputs": [
    {
     "data": {
      "text/plain": [
       "array([[1., 0., 0.],\n",
       "       [0., 1., 0.]])"
      ]
     },
     "execution_count": 104,
     "metadata": {},
     "output_type": "execute_result"
    }
   ],
   "source": [
    "np.eye(2,3)"
   ]
  },
  {
   "cell_type": "code",
   "execution_count": 105,
   "id": "e1e7bf33",
   "metadata": {},
   "outputs": [
    {
     "data": {
      "text/plain": [
       "array([[0., 1., 0., 0., 0.],\n",
       "       [0., 0., 1., 0., 0.],\n",
       "       [0., 0., 0., 1., 0.],\n",
       "       [0., 0., 0., 0., 1.],\n",
       "       [0., 0., 0., 0., 0.]])"
      ]
     },
     "execution_count": 105,
     "metadata": {},
     "output_type": "execute_result"
    }
   ],
   "source": [
    "np.eye(5,k=1)"
   ]
  },
  {
   "cell_type": "code",
   "execution_count": 107,
   "id": "0a6f3e41",
   "metadata": {
    "scrolled": true
   },
   "outputs": [
    {
     "data": {
      "text/plain": [
       "array([[1., 0., 0., 0., 0.],\n",
       "       [0., 1., 0., 0., 0.],\n",
       "       [0., 0., 1., 0., 0.],\n",
       "       [0., 0., 0., 1., 0.],\n",
       "       [0., 0., 0., 0., 1.]])"
      ]
     },
     "execution_count": 107,
     "metadata": {},
     "output_type": "execute_result"
    }
   ],
   "source": [
    "np.eye(5)"
   ]
  },
  {
   "cell_type": "code",
   "execution_count": 129,
   "id": "2470701e",
   "metadata": {},
   "outputs": [
    {
     "data": {
      "text/plain": [
       "array([[1, 0, 0, 0, 0],\n",
       "       [0, 1, 0, 0, 0],\n",
       "       [0, 0, 1, 0, 0],\n",
       "       [0, 0, 0, 1, 0],\n",
       "       [0, 0, 0, 0, 1]])"
      ]
     },
     "execution_count": 129,
     "metadata": {},
     "output_type": "execute_result"
    }
   ],
   "source": [
    "np.eye(5,dtype=int)"
   ]
  },
  {
   "cell_type": "code",
   "execution_count": 106,
   "id": "3043140b",
   "metadata": {},
   "outputs": [
    {
     "data": {
      "text/plain": [
       "array([[0., 0., 0., 0., 0.],\n",
       "       [1., 0., 0., 0., 0.],\n",
       "       [0., 1., 0., 0., 0.],\n",
       "       [0., 0., 1., 0., 0.],\n",
       "       [0., 0., 0., 1., 0.]])"
      ]
     },
     "execution_count": 106,
     "metadata": {},
     "output_type": "execute_result"
    }
   ],
   "source": [
    "np.eye(5,k=-1)"
   ]
  },
  {
   "cell_type": "markdown",
   "id": "94401a01",
   "metadata": {},
   "source": [
    "eye() properties\n",
    "1. It will returns always 2-D arrays\n",
    "2. The number of rows and number of columns need not be same.\n",
    "3. If we omit the 'M' value then the value will be same as 'N'\n",
    "4. Bydefault main diagonal contains 1s. But we can customize the diagonal which has to contain 1s."
   ]
  },
  {
   "cell_type": "markdown",
   "id": "7df5422b",
   "metadata": {},
   "source": [
    "identity()\n",
    "exactly same as 'eye()' function except\n",
    "1. It is always square matrix(The number of rows and number of columns always same)\n",
    "2. only main diagonal contains 1s\n"
   ]
  },
  {
   "cell_type": "code",
   "execution_count": 130,
   "id": "ec7977d9",
   "metadata": {},
   "outputs": [
    {
     "name": "stdout",
     "output_type": "stream",
     "text": [
      "Help on function identity in module numpy:\n",
      "\n",
      "identity(n, dtype=None, *, like=None)\n",
      "    Return the identity array.\n",
      "    \n",
      "    The identity array is a square array with ones on\n",
      "    the main diagonal.\n",
      "    \n",
      "    Parameters\n",
      "    ----------\n",
      "    n : int\n",
      "        Number of rows (and columns) in `n` x `n` output.\n",
      "    dtype : data-type, optional\n",
      "        Data-type of the output.  Defaults to ``float``.\n",
      "    like : array_like, optional\n",
      "        Reference object to allow the creation of arrays which are not\n",
      "        NumPy arrays. If an array-like passed in as ``like`` supports\n",
      "        the ``__array_function__`` protocol, the result will be defined\n",
      "        by it. In this case, it ensures the creation of an array object\n",
      "        compatible with that passed in via this argument.\n",
      "    \n",
      "        .. versionadded:: 1.20.0\n",
      "    \n",
      "    Returns\n",
      "    -------\n",
      "    out : ndarray\n",
      "        `n` x `n` array with its main diagonal set to one,\n",
      "        and all other elements 0.\n",
      "    \n",
      "    Examples\n",
      "    --------\n",
      "    >>> np.identity(3)\n",
      "    array([[1.,  0.,  0.],\n",
      "           [0.,  1.,  0.],\n",
      "           [0.,  0.,  1.]])\n",
      "\n"
     ]
    }
   ],
   "source": [
    "help(np.identity)"
   ]
  },
  {
   "cell_type": "code",
   "execution_count": 131,
   "id": "f1672c60",
   "metadata": {},
   "outputs": [
    {
     "data": {
      "text/plain": [
       "array([[1, 0, 0],\n",
       "       [0, 1, 0],\n",
       "       [0, 0, 1]])"
      ]
     },
     "execution_count": 131,
     "metadata": {},
     "output_type": "execute_result"
    }
   ],
   "source": [
    "# identity(n, dtype=None, *, like=None)\n",
    "np.identity(3,dtype=int)"
   ]
  },
  {
   "cell_type": "code",
   "execution_count": 132,
   "id": "fa0482d2",
   "metadata": {
    "scrolled": true
   },
   "outputs": [
    {
     "data": {
      "text/plain": [
       "array([[1, 0, 0],\n",
       "       [0, 1, 0],\n",
       "       [0, 0, 1]])"
      ]
     },
     "execution_count": 132,
     "metadata": {},
     "output_type": "execute_result"
    }
   ],
   "source": [
    "np.identity(3,dtype=int,like=a)"
   ]
  },
  {
   "cell_type": "code",
   "execution_count": 135,
   "id": "b5e08a1b",
   "metadata": {
    "scrolled": true
   },
   "outputs": [
    {
     "name": "stdout",
     "output_type": "stream",
     "text": [
      "Original 2-D array ==> \n",
      " [[1 2 3]\n",
      " [4 5 6]\n",
      " [7 8 9]]\n"
     ]
    }
   ],
   "source": [
    "# Extract 2-D diagonal elements\n",
    "a = np.arange(1,10).reshape(3,3)\n",
    "print(f\"Original 2-D array ==> \\n {a}\")"
   ]
  },
  {
   "cell_type": "code",
   "execution_count": 138,
   "id": "c51a15d0",
   "metadata": {},
   "outputs": [
    {
     "name": "stdout",
     "output_type": "stream",
     "text": [
      "Elements prsent at 0-diagonal ==> [1 5 9]\n",
      "Elements prsent at 1-diagonal ==> [2 6]\n",
      "Elements prsent at 2-diagonal ==> [3]\n",
      "Elements prsent at -1-diagonal ==> [4 8]\n",
      "Elements prsent at -2-diagonal ==> [7]\n",
      "Elements prsent at 3-diagonal ==> []\n"
     ]
    }
   ],
   "source": [
    "print(f\"Elements prsent at 0-diagonal ==> {np.diag(a,k=0)}\")\n",
    "print(f\"Elements prsent at 1-diagonal ==> {np.diag(a,k=1)}\")\n",
    "print(f\"Elements prsent at 2-diagonal ==> {np.diag(a,k=2)}\")\n",
    "print(f\"Elements prsent at -1-diagonal ==> {np.diag(a,k=-1)}\")\n",
    "print(f\"Elements prsent at -2-diagonal ==> {np.diag(a,k=-2)}\")\n",
    "print(f\"Elements prsent at 3-diagonal ==> {np.diag(a,k=3)}\")"
   ]
  }
 ],
 "metadata": {
  "kernelspec": {
   "display_name": "Python 3 (ipykernel)",
   "language": "python",
   "name": "python3"
  },
  "language_info": {
   "codemirror_mode": {
    "name": "ipython",
    "version": 3
   },
   "file_extension": ".py",
   "mimetype": "text/x-python",
   "name": "python",
   "nbconvert_exporter": "python",
   "pygments_lexer": "ipython3",
   "version": "3.11.5"
  }
 },
 "nbformat": 4,
 "nbformat_minor": 5
}
