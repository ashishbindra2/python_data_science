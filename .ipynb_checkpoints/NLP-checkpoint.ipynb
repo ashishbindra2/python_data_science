{
 "cells": [
  {
   "cell_type": "code",
   "execution_count": 4,
   "id": "e421ef10",
   "metadata": {},
   "outputs": [],
   "source": [
    "import pandas as pd\n",
    "from random import randint"
   ]
  },
  {
   "cell_type": "code",
   "execution_count": 5,
   "id": "42893d4e",
   "metadata": {},
   "outputs": [],
   "source": [
    "data = pd.read_excel(\"data/NLP/Canva_reviews.xlsx\")"
   ]
  },
  {
   "cell_type": "code",
   "execution_count": 3,
   "id": "c7b8e97e",
   "metadata": {
    "scrolled": true
   },
   "outputs": [
    {
     "data": {
      "text/plain": [
       "(1500, 13)"
      ]
     },
     "execution_count": 3,
     "metadata": {},
     "output_type": "execute_result"
    }
   ],
   "source": [
    "data.shape"
   ]
  },
  {
   "cell_type": "code",
   "execution_count": 4,
   "id": "ceac7f63",
   "metadata": {},
   "outputs": [
    {
     "data": {
      "text/html": [
       "<div>\n",
       "<style scoped>\n",
       "    .dataframe tbody tr th:only-of-type {\n",
       "        vertical-align: middle;\n",
       "    }\n",
       "\n",
       "    .dataframe tbody tr th {\n",
       "        vertical-align: top;\n",
       "    }\n",
       "\n",
       "    .dataframe thead th {\n",
       "        text-align: right;\n",
       "    }\n",
       "</style>\n",
       "<table border=\"1\" class=\"dataframe\">\n",
       "  <thead>\n",
       "    <tr style=\"text-align: right;\">\n",
       "      <th></th>\n",
       "      <th>reviewId</th>\n",
       "      <th>userName</th>\n",
       "      <th>userImage</th>\n",
       "      <th>review</th>\n",
       "      <th>score</th>\n",
       "      <th>thumbsUpCount</th>\n",
       "      <th>reviewCreatedVersion</th>\n",
       "      <th>at</th>\n",
       "      <th>replyContent</th>\n",
       "      <th>repliedAt</th>\n",
       "      <th>Sentiment</th>\n",
       "      <th>Sub Category</th>\n",
       "      <th>Sub Category_test</th>\n",
       "    </tr>\n",
       "  </thead>\n",
       "  <tbody>\n",
       "    <tr>\n",
       "      <th>0</th>\n",
       "      <td>gp:AOqpTOFxf3fttcT5DSvFIn9KPp5FErgH9yC533Fmoxv...</td>\n",
       "      <td>Donna Caritero</td>\n",
       "      <td>https://play-lh.googleusercontent.com/a-/AOh14...</td>\n",
       "      <td>Overall it's really an amazing app. I've been ...</td>\n",
       "      <td>4</td>\n",
       "      <td>528</td>\n",
       "      <td>2.116.0</td>\n",
       "      <td>2021-06-17 07:18:54</td>\n",
       "      <td>Hi Donna. We are sorry that your text or desig...</td>\n",
       "      <td>2021-06-19 21:24:32</td>\n",
       "      <td>Negative</td>\n",
       "      <td>NaN</td>\n",
       "      <td>bug_picture_quality</td>\n",
       "    </tr>\n",
       "    <tr>\n",
       "      <th>1</th>\n",
       "      <td>gp:AOqpTOEq6rNIWLnPV4KFTctWvm0mpGEQljtD6mvy1H-...</td>\n",
       "      <td>Soumi Mukhopadhyay</td>\n",
       "      <td>https://play-lh.googleusercontent.com/a-/AOh14...</td>\n",
       "      <td>Hey! Yes I gave a 5 star rating... coz I belie...</td>\n",
       "      <td>5</td>\n",
       "      <td>351</td>\n",
       "      <td>2.116.0</td>\n",
       "      <td>2021-06-17 19:18:28</td>\n",
       "      <td>NaN</td>\n",
       "      <td>NaT</td>\n",
       "      <td>Positive</td>\n",
       "      <td>extremely_happy</td>\n",
       "      <td>NaN</td>\n",
       "    </tr>\n",
       "    <tr>\n",
       "      <th>2</th>\n",
       "      <td>gp:AOqpTOE86hSyPRHZgYt28Uk5zGe4FZGb1hkmtFDiYJ2...</td>\n",
       "      <td>Theknown _unknown</td>\n",
       "      <td>https://play-lh.googleusercontent.com/a-/AOh14...</td>\n",
       "      <td>Canva used to be a good app! But recently I've...</td>\n",
       "      <td>1</td>\n",
       "      <td>160</td>\n",
       "      <td>2.116.0</td>\n",
       "      <td>2021-06-23 19:13:28</td>\n",
       "      <td>Hi there. We're sorry to hear that you are hav...</td>\n",
       "      <td>2021-06-26 20:20:56</td>\n",
       "      <td>Negative</td>\n",
       "      <td>saving_downloading_issue</td>\n",
       "      <td>bug_saving_files</td>\n",
       "    </tr>\n",
       "    <tr>\n",
       "      <th>3</th>\n",
       "      <td>gp:AOqpTOHSuKkVTcM3QgCCKysHQlxEnk2ocOKsUMiMIJy...</td>\n",
       "      <td>Anthony Dean</td>\n",
       "      <td>https://play-lh.googleusercontent.com/a/AATXAJ...</td>\n",
       "      <td>It's a brilliant app, but I have just one prob...</td>\n",
       "      <td>5</td>\n",
       "      <td>145</td>\n",
       "      <td>2.116.0</td>\n",
       "      <td>2021-06-19 23:36:07</td>\n",
       "      <td>NaN</td>\n",
       "      <td>NaT</td>\n",
       "      <td>Negative</td>\n",
       "      <td>others</td>\n",
       "      <td>bug_app_crash</td>\n",
       "    </tr>\n",
       "    <tr>\n",
       "      <th>4</th>\n",
       "      <td>gp:AOqpTOEOrZt5H6jXPiplJyffCd5ZBnVXACTWgwNsF1R...</td>\n",
       "      <td>Neha Diana Wesley</td>\n",
       "      <td>https://play-lh.googleusercontent.com/a-/AOh14...</td>\n",
       "      <td>This was such a great app. I used to make BTS ...</td>\n",
       "      <td>4</td>\n",
       "      <td>142</td>\n",
       "      <td>2.116.0</td>\n",
       "      <td>2021-06-21 00:29:27</td>\n",
       "      <td>Hi Neha. Sorry to hear that you are unable to ...</td>\n",
       "      <td>2021-06-24 20:46:28</td>\n",
       "      <td>Negative</td>\n",
       "      <td>others</td>\n",
       "      <td>bug_other</td>\n",
       "    </tr>\n",
       "  </tbody>\n",
       "</table>\n",
       "</div>"
      ],
      "text/plain": [
       "                                            reviewId            userName  \\\n",
       "0  gp:AOqpTOFxf3fttcT5DSvFIn9KPp5FErgH9yC533Fmoxv...      Donna Caritero   \n",
       "1  gp:AOqpTOEq6rNIWLnPV4KFTctWvm0mpGEQljtD6mvy1H-...  Soumi Mukhopadhyay   \n",
       "2  gp:AOqpTOE86hSyPRHZgYt28Uk5zGe4FZGb1hkmtFDiYJ2...   Theknown _unknown   \n",
       "3  gp:AOqpTOHSuKkVTcM3QgCCKysHQlxEnk2ocOKsUMiMIJy...        Anthony Dean   \n",
       "4  gp:AOqpTOEOrZt5H6jXPiplJyffCd5ZBnVXACTWgwNsF1R...   Neha Diana Wesley   \n",
       "\n",
       "                                           userImage  \\\n",
       "0  https://play-lh.googleusercontent.com/a-/AOh14...   \n",
       "1  https://play-lh.googleusercontent.com/a-/AOh14...   \n",
       "2  https://play-lh.googleusercontent.com/a-/AOh14...   \n",
       "3  https://play-lh.googleusercontent.com/a/AATXAJ...   \n",
       "4  https://play-lh.googleusercontent.com/a-/AOh14...   \n",
       "\n",
       "                                              review  score  thumbsUpCount  \\\n",
       "0  Overall it's really an amazing app. I've been ...      4            528   \n",
       "1  Hey! Yes I gave a 5 star rating... coz I belie...      5            351   \n",
       "2  Canva used to be a good app! But recently I've...      1            160   \n",
       "3  It's a brilliant app, but I have just one prob...      5            145   \n",
       "4  This was such a great app. I used to make BTS ...      4            142   \n",
       "\n",
       "  reviewCreatedVersion                  at  \\\n",
       "0              2.116.0 2021-06-17 07:18:54   \n",
       "1              2.116.0 2021-06-17 19:18:28   \n",
       "2              2.116.0 2021-06-23 19:13:28   \n",
       "3              2.116.0 2021-06-19 23:36:07   \n",
       "4              2.116.0 2021-06-21 00:29:27   \n",
       "\n",
       "                                        replyContent           repliedAt  \\\n",
       "0  Hi Donna. We are sorry that your text or desig... 2021-06-19 21:24:32   \n",
       "1                                                NaN                 NaT   \n",
       "2  Hi there. We're sorry to hear that you are hav... 2021-06-26 20:20:56   \n",
       "3                                                NaN                 NaT   \n",
       "4  Hi Neha. Sorry to hear that you are unable to ... 2021-06-24 20:46:28   \n",
       "\n",
       "  Sentiment              Sub Category    Sub Category_test  \n",
       "0  Negative                       NaN  bug_picture_quality  \n",
       "1  Positive           extremely_happy                  NaN  \n",
       "2  Negative  saving_downloading_issue     bug_saving_files  \n",
       "3  Negative                    others        bug_app_crash  \n",
       "4  Negative                    others            bug_other  "
      ]
     },
     "execution_count": 4,
     "metadata": {},
     "output_type": "execute_result"
    }
   ],
   "source": [
    "data.head(5)"
   ]
  },
  {
   "cell_type": "code",
   "execution_count": 16,
   "id": "6f753442",
   "metadata": {},
   "outputs": [
    {
     "data": {
      "text/plain": [
       "'I absolutely love canvas. it has changed my business.❤❤❤'"
      ]
     },
     "execution_count": 16,
     "metadata": {},
     "output_type": "execute_result"
    }
   ],
   "source": [
    "number = randint(1,1500)\n",
    "\n",
    "data.loc[number,'review']\n"
   ]
  },
  {
   "cell_type": "code",
   "execution_count": 17,
   "id": "fc53b85d",
   "metadata": {},
   "outputs": [
    {
     "data": {
      "text/plain": [
       "'Positive'"
      ]
     },
     "execution_count": 17,
     "metadata": {},
     "output_type": "execute_result"
    }
   ],
   "source": [
    "data.loc[number,\"Sentiment\"]"
   ]
  },
  {
   "cell_type": "code",
   "execution_count": 13,
   "id": "e3e3fc39",
   "metadata": {
    "scrolled": true
   },
   "outputs": [
    {
     "data": {
      "text/plain": [
       "'Great app. Although I prefer the desktop version. Wish Canva had an option for closed captions in videos.'"
      ]
     },
     "execution_count": 13,
     "metadata": {},
     "output_type": "execute_result"
    }
   ],
   "source": [
    "data.loc[12,'review']"
   ]
  },
  {
   "cell_type": "code",
   "execution_count": 14,
   "id": "a294d47b",
   "metadata": {
    "scrolled": true
   },
   "outputs": [
    {
     "data": {
      "text/plain": [
       "'Positive'"
      ]
     },
     "execution_count": 14,
     "metadata": {},
     "output_type": "execute_result"
    }
   ],
   "source": [
    "data.loc[12,\"Sentiment\"]"
   ]
  },
  {
   "cell_type": "markdown",
   "id": "e2dbb6b3",
   "metadata": {},
   "source": [
    "#### Bar plot of Sentiment"
   ]
  },
  {
   "cell_type": "markdown",
   "id": "99957863",
   "metadata": {},
   "source": [
    "please use seaboan currently am using matplot beause i dont leanined at the time of doing this"
   ]
  },
  {
   "cell_type": "code",
   "execution_count": 33,
   "id": "9ea0a74c",
   "metadata": {},
   "outputs": [
    {
     "name": "stdout",
     "output_type": "stream",
     "text": [
      "Counter({'Positive': 1032, 'Negative': 468})\n",
      "('Negative', 'Positive')\n",
      "(468, 1032)\n"
     ]
    },
    {
     "data": {
      "image/png": "[encoded data removed]",
      "text/plain": [
       "<Figure size 640x480 with 1 Axes>"
      ]
     },
     "metadata": {},
     "output_type": "display_data"
    }
   ],
   "source": [
    "import matplotlib.pyplot as plt\n",
    "from collections import Counter\n",
    "\n",
    "# Assuming 'data' is a pandas DataFrame and 'sentiment' is the column of interest\n",
    "sentiment_counts = Counter(data['Sentiment'])\n",
    "\n",
    "# Get the labels and values\n",
    "labels, values = zip(*sentiment_counts.items())\n",
    "\n",
    "# Plotting\n",
    "fig, ax = plt.subplots()\n",
    "ax.bar(labels, values)\n",
    "\n",
    "# Adding labels and title\n",
    "ax.set_xlabel('Sentiment')\n",
    "ax.set_ylabel('Count')\n",
    "ax.set_title('Count of Sentiments')\n",
    "\n",
    "# Display the plot\n",
    "plt.show()"
   ]
  },
  {
   "cell_type": "code",
   "execution_count": 6,
   "id": "bfc4b3f4",
   "metadata": {},
   "outputs": [
    {
     "data": {
      "image/png": "[encoded data removed]",
      "text/plain": [
       "<Figure size 640x480 with 1 Axes>"
      ]
     },
     "metadata": {},
     "output_type": "display_data"
    }
   ],
   "source": [
    "import matplotlib.pyplot as plt\n",
    "from collections import Counter\n",
    " \n",
    "sentiment_counts = data['Sentiment'].value_counts()\n",
    "\n",
    "# Get the labels and values\n",
    "labels = sentiment_counts.index.tolist()\n",
    "values = sentiment_counts.values.tolist()\n",
    "\n",
    "plt.bar(labels, values,color=(\"red\",\"green\"))\n",
    "\n",
    "\n",
    "# Display the plot\n",
    "plt.show()\n"
   ]
  },
  {
   "cell_type": "code",
   "execution_count": 7,
   "id": "8b50ddc7",
   "metadata": {},
   "outputs": [
    {
     "data": {
      "text/plain": [
       "Sentiment\n",
       "Positive    1032\n",
       "Negative     468\n",
       "Name: count, dtype: int64"
      ]
     },
     "execution_count": 7,
     "metadata": {},
     "output_type": "execute_result"
    }
   ],
   "source": [
    "data['Sentiment'].value_counts()"
   ]
  },
  {
   "cell_type": "code",
   "execution_count": 8,
   "id": "5096f1aa",
   "metadata": {},
   "outputs": [
    {
     "data": {
      "text/plain": [
       "31.2"
      ]
     },
     "execution_count": 8,
     "metadata": {},
     "output_type": "execute_result"
    }
   ],
   "source": [
    "468/(1032+468)*100"
   ]
  },
  {
   "cell_type": "markdown",
   "id": "08990e19",
   "metadata": {},
   "source": [
    "### Bar plot of \"score\""
   ]
  },
  {
   "cell_type": "code",
   "execution_count": 9,
   "id": "90066252",
   "metadata": {
    "scrolled": true
   },
   "outputs": [
    {
     "data": {
      "text/plain": [
       "0       4\n",
       "1       5\n",
       "2       1\n",
       "3       5\n",
       "4       4\n",
       "       ..\n",
       "1495    5\n",
       "1496    3\n",
       "1497    1\n",
       "1498    5\n",
       "1499    5\n",
       "Name: score, Length: 1500, dtype: int64"
      ]
     },
     "execution_count": 9,
     "metadata": {},
     "output_type": "execute_result"
    }
   ],
   "source": [
    "data[\"score\"]"
   ]
  },
  {
   "cell_type": "code",
   "execution_count": 13,
   "id": "abb9ad9c",
   "metadata": {
    "scrolled": true
   },
   "outputs": [
    {
     "data": {
      "text/plain": [
       "score\n",
       "5    952\n",
       "4    227\n",
       "1    170\n",
       "3     91\n",
       "2     60\n",
       "Name: count, dtype: int64"
      ]
     },
     "execution_count": 13,
     "metadata": {},
     "output_type": "execute_result"
    }
   ],
   "source": [
    "data[\"score\"].value_counts()"
   ]
  },
  {
   "cell_type": "code",
   "execution_count": 19,
   "id": "1582cea9",
   "metadata": {},
   "outputs": [],
   "source": [
    "count = data[\"score\"].value_counts()\n",
    "rating = count.index\n",
    "rating_count = count.values"
   ]
  },
  {
   "cell_type": "code",
   "execution_count": 20,
   "id": "1cb75e20",
   "metadata": {
    "scrolled": true
   },
   "outputs": [
    {
     "data": {
      "text/plain": [
       "<BarContainer object of 5 artists>"
      ]
     },
     "execution_count": 20,
     "metadata": {},
     "output_type": "execute_result"
    },
    {
     "data": {
      "image/png": "[encoded data removed]",
      "text/plain": [
       "<Figure size 640x480 with 1 Axes>"
      ]
     },
     "metadata": {},
     "output_type": "display_data"
    }
   ],
   "source": [
    "import matplotlib.pyplot as plt\n",
    "\n",
    "plt.bar(rating, rating_count)\n"
   ]
  },
  {
   "cell_type": "code",
   "execution_count": 21,
   "id": "abf533e1",
   "metadata": {},
   "outputs": [],
   "source": [
    "c = ['r','b','k','g','orange']"
   ]
  },
  {
   "cell_type": "code",
   "execution_count": 23,
   "id": "f7e1ec31",
   "metadata": {
    "scrolled": true
   },
   "outputs": [
    {
     "data": {
      "text/plain": [
       "<BarContainer object of 5 artists>"
      ]
     },
     "execution_count": 23,
     "metadata": {},
     "output_type": "execute_result"
    },
    {
     "data": {
      "image/png": "[encoded data removed]",
      "text/plain": [
       "<Figure size 640x480 with 1 Axes>"
      ]
     },
     "metadata": {},
     "output_type": "display_data"
    }
   ],
   "source": [
    "plt.bar(rating, rating_count,color=c)\n"
   ]
  },
  {
   "cell_type": "code",
   "execution_count": 27,
   "id": "9efb6e8c",
   "metadata": {},
   "outputs": [
    {
     "data": {
      "text/plain": [
       "<BarContainer object of 5 artists>"
      ]
     },
     "execution_count": 27,
     "metadata": {},
     "output_type": "execute_result"
    },
    {
     "data": {
      "image/png": "[encoded data removed]",
      "text/plain": [
       "<Figure size 640x480 with 1 Axes>"
      ]
     },
     "metadata": {},
     "output_type": "display_data"
    }
   ],
   "source": [
    "plt.xlabel('Rating',color='b',fontsize=15)\n",
    "plt.ylabel('Number of Movireviews',color='b',fontsize=15)\n",
    "plt.title('Rating wise number of Reviews',color='r',fontsize=15)\n",
    "plt.bar(rating, rating_count,color=c)\n"
   ]
  },
  {
   "cell_type": "markdown",
   "id": "caf13a28",
   "metadata": {},
   "source": [
    "#### Check relationship between \"score\" and \"Sentiment\""
   ]
  },
  {
   "cell_type": "code",
   "execution_count": 30,
   "id": "84444f71",
   "metadata": {},
   "outputs": [],
   "source": [
    "sent_value = data['Sentiment'].value_counts()"
   ]
  },
  {
   "cell_type": "code",
   "execution_count": 34,
   "id": "a9c06d19",
   "metadata": {},
   "outputs": [
    {
     "data": {
      "text/plain": [
       "Index(['Positive', 'Negative'], dtype='object', name='Sentiment')"
      ]
     },
     "execution_count": 34,
     "metadata": {},
     "output_type": "execute_result"
    }
   ],
   "source": [
    "sent_value.index"
   ]
  },
  {
   "cell_type": "code",
   "execution_count": null,
   "id": "b9014c0c",
   "metadata": {},
   "outputs": [],
   "source": [
    "plt.bar(rating, rating_count)\n",
    "plt.bar(rating, rating_count)\n",
    "\n",
    "plt.legend(sent_value.index)"
   ]
  },
  {
   "cell_type": "code",
   "execution_count": null,
   "id": "df3ca3d1",
   "metadata": {},
   "outputs": [],
   "source": []
  },
  {
   "cell_type": "code",
   "execution_count": null,
   "id": "ec4ad597",
   "metadata": {},
   "outputs": [],
   "source": []
  }
 ],
 "metadata": {
  "kernelspec": {
   "display_name": "Python 3 (ipykernel)",
   "language": "python",
   "name": "python3"
  },
  "language_info": {
   "codemirror_mode": {
    "name": "ipython",
    "version": 3
   },
   "file_extension": ".py",
   "mimetype": "text/x-python",
   "name": "python",
   "nbconvert_exporter": "python",
   "pygments_lexer": "ipython3",
   "version": "3.11.5"
  }
 },
 "nbformat": 4,
 "nbformat_minor": 5
}
