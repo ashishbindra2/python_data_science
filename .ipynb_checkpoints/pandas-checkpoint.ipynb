{
 "cells": [
  {
   "cell_type": "code",
   "execution_count": 2,
   "id": "0f8c72ae",
   "metadata": {},
   "outputs": [
    {
     "data": {
      "text/plain": [
       "'1.5.3'"
      ]
     },
     "execution_count": 2,
     "metadata": {},
     "output_type": "execute_result"
    }
   ],
   "source": [
    "import pandas as pd\n",
    "pd.__version__"
   ]
  },
  {
   "cell_type": "markdown",
   "id": "651f4688",
   "metadata": {},
   "source": [
    "Important data structures\n",
    "- series\n",
    "- DataFrames\n"
   ]
  },
  {
   "cell_type": "markdown",
   "id": "c053e8a8",
   "metadata": {},
   "source": [
    "Series\n",
    "- It is one-dimentional labeled arrays"
   ]
  },
  {
   "cell_type": "code",
   "execution_count": 4,
   "id": "00044b9c",
   "metadata": {},
   "outputs": [
    {
     "name": "stdout",
     "output_type": "stream",
     "text": [
      "0         python\n",
      "1           java\n",
      "2    datascience\n",
      "dtype: object\n"
     ]
    }
   ],
   "source": [
    "# creation of Series from the pyhton list\n",
    "books_list = ['python','java','datascience']\n",
    "s= pd.Series(books_list) # series is class\n",
    "print(s)\n",
    "# bydefault index (labels) are zero"
   ]
  },
  {
   "cell_type": "code",
   "execution_count": 6,
   "id": "4dbb6fa8",
   "metadata": {},
   "outputs": [
    {
     "name": "stdout",
     "output_type": "stream",
     "text": [
      "0    70\n",
      "1    80\n",
      "2    90\n",
      "dtype: int64\n"
     ]
    }
   ],
   "source": [
    "# eg-2:\n",
    "import pandas as pd\n",
    "marks_list = [70,80,90]\n",
    "s = pd.Series(marks_list)\n",
    "print(s)"
   ]
  },
  {
   "cell_type": "code",
   "execution_count": 7,
   "id": "a595a79d",
   "metadata": {},
   "outputs": [
    {
     "name": "stdout",
     "output_type": "stream",
     "text": [
      "0    1000.5\n",
      "1    2000.6\n",
      "2    3000.7\n",
      "dtype: float64\n"
     ]
    }
   ],
   "source": [
    "import pandas as pd\n",
    "salaries_list = [1000.5,2000.6,3000.7]\n",
    "s = pd.Series(salaries_list)\n",
    "print(s)"
   ]
  },
  {
   "cell_type": "code",
   "execution_count": 8,
   "id": "d7f614de",
   "metadata": {},
   "outputs": [
    {
     "name": "stdout",
     "output_type": "stream",
     "text": [
      "0       10\n",
      "1    durga\n",
      "2     10.5\n",
      "3     True\n",
      "dtype: object\n"
     ]
    }
   ],
   "source": [
    "import pandas as pd\n",
    "hetero_list = [10,'durga',10.5,True]\n",
    "s = pd.Series(hetero_list)\n",
    "print(s)"
   ]
  },
  {
   "cell_type": "markdown",
   "id": "9f0e8e55",
   "metadata": {},
   "source": [
    "***Note:*** The values in Series can be any type even heterogeneous also."
   ]
  },
  {
   "cell_type": "code",
   "execution_count": 5,
   "id": "8e94dbb7",
   "metadata": {},
   "outputs": [
    {
     "name": "stdout",
     "output_type": "stream",
     "text": [
      "0    python\n",
      "1      java\n",
      "2      mava\n",
      "dtype: object\n"
     ]
    }
   ],
   "source": [
    "# Creation of series from python dict\n",
    "books_dict = {0:\"python\",1:\"java\",2:\"mava\"}\n",
    "d = pd.Series(books_dict)\n",
    "print(d)"
   ]
  },
  {
   "cell_type": "code",
   "execution_count": 9,
   "id": "eeaf16d4",
   "metadata": {
    "scrolled": true
   },
   "outputs": [
    {
     "name": "stdout",
     "output_type": "stream",
     "text": [
      "Book-1         Python\n",
      "Book-2           Java\n",
      "Book-3    DataScience\n",
      "dtype: object\n"
     ]
    }
   ],
   "source": [
    "# eg-2:\n",
    "import pandas as pd\n",
    "books_dict = {'Book-1':'Python','Book-2':'Java','Book-3':'DataScience'}\n",
    "s = pd.Series(books_dict)\n",
    "print(s)"
   ]
  },
  {
   "cell_type": "code",
   "execution_count": 12,
   "id": "03ea345b",
   "metadata": {
    "scrolled": true
   },
   "outputs": [
    {
     "name": "stdout",
     "output_type": "stream",
     "text": [
      "Book-1         Python\n",
      "10                 20\n",
      "10.5             20.3\n",
      "Book-3    DataScience\n",
      "dtype: object\n"
     ]
    }
   ],
   "source": [
    "import pandas as pd\n",
    "books_dict = {'Book-1':'Python',10:20,10.5:20.6,'Book-3':'DataScience',10.5:20.3}\n",
    "s = pd.Series(books_dict)\n",
    "print(s)"
   ]
  },
  {
   "cell_type": "markdown",
   "id": "37a34c55",
   "metadata": {},
   "source": [
    "***Note:***\n",
    "1. Index labels and values need not be homogeneneous.\n",
    "2. Index labels need not be unique."
   ]
  },
  {
   "cell_type": "markdown",
   "id": "f846a8d0",
   "metadata": {},
   "source": [
    "# Series class\n",
    "class Series(base.IndexOpsMixin, generic.NDFrame):\n",
    "\"\"\"\n",
    "One-dimensional ndarray with axis labels (including time series).\n",
    "Parameters\n",
    "----------\n",
    "data : array-like, Iterable, dict, or scalar value"
   ]
  },
  {
   "cell_type": "code",
   "execution_count": 14,
   "id": "d6d85f15",
   "metadata": {},
   "outputs": [
    {
     "data": {
      "text/plain": [
       "a    1\n",
       "b    2\n",
       "c    3\n",
       "dtype: int64"
      ]
     },
     "execution_count": 14,
     "metadata": {},
     "output_type": "execute_result"
    }
   ],
   "source": [
    "# Constructing Series from a dictionary with an\n",
    "d = {'a': 1, 'b': 2, 'c': 3}\n",
    "ser = pd.Series(data=d, index=['a', 'b', 'c'])\n",
    "ser\n"
   ]
  },
  {
   "cell_type": "code",
   "execution_count": 16,
   "id": "83c49ce1",
   "metadata": {},
   "outputs": [
    {
     "data": {
      "text/plain": [
       "x   NaN\n",
       "y   NaN\n",
       "z   NaN\n",
       "dtype: float64"
      ]
     },
     "execution_count": 16,
     "metadata": {},
     "output_type": "execute_result"
    }
   ],
   "source": [
    "d = {'a': 1, 'b': 2, 'c': 3}\n",
    "ser = pd.Series(data=d, index=['x', 'y', 'z'])\n",
    "ser"
   ]
  },
  {
   "cell_type": "markdown",
   "id": "03d39d41",
   "metadata": {},
   "source": [
    "**Note**\n",
    "that the Index is first build with the keys from the dictionary.\n",
    "After this the Series is reindexed with the given Index values, hence\n",
    "we get all NaN as a result."
   ]
  },
  {
   "cell_type": "code",
   "execution_count": 18,
   "id": "8b37b7e3",
   "metadata": {},
   "outputs": [
    {
     "data": {
      "text/plain": [
       "b    2\n",
       "a    1\n",
       "c    3\n",
       "dtype: int64"
      ]
     },
     "execution_count": 18,
     "metadata": {},
     "output_type": "execute_result"
    }
   ],
   "source": [
    "d = {'a': 1, 'b': 2, 'c': 3}\n",
    "ser = pd.Series(data=d, index=['b', 'a', 'c'])\n",
    "ser\n"
   ]
  },
  {
   "cell_type": "code",
   "execution_count": 19,
   "id": "2b7ec8f6",
   "metadata": {},
   "outputs": [
    {
     "data": {
      "text/plain": [
       "[1, 2]"
      ]
     },
     "execution_count": 19,
     "metadata": {},
     "output_type": "execute_result"
    }
   ],
   "source": [
    "# Constructing Series from a list with `copy=False`.\n",
    "r = [1, 2]\n",
    "ser = pd.Series(r, copy=False)\n",
    "ser.iloc[0] = 999\n",
    "r\n",
    "# Due to input data type the Series has a `copy` of\n",
    "# 11the original data even though `copy=False`, so\n",
    "# the data is unchanged."
   ]
  },
  {
   "cell_type": "code",
   "execution_count": null,
   "id": "55a6d000",
   "metadata": {},
   "outputs": [],
   "source": []
  },
  {
   "cell_type": "code",
   "execution_count": null,
   "id": "dec97d22",
   "metadata": {},
   "outputs": [],
   "source": []
  },
  {
   "cell_type": "code",
   "execution_count": null,
   "id": "b072aff9",
   "metadata": {},
   "outputs": [],
   "source": []
  },
  {
   "cell_type": "code",
   "execution_count": null,
   "id": "f931af91",
   "metadata": {},
   "outputs": [],
   "source": []
  }
 ],
 "metadata": {
  "kernelspec": {
   "display_name": "Python 3 (ipykernel)",
   "language": "python",
   "name": "python3"
  },
  "language_info": {
   "codemirror_mode": {
    "name": "ipython",
    "version": 3
   },
   "file_extension": ".py",
   "mimetype": "text/x-python",
   "name": "python",
   "nbconvert_exporter": "python",
   "pygments_lexer": "ipython3",
   "version": "3.11.4"
  }
 },
 "nbformat": 4,
 "nbformat_minor": 5
}
