{
 "cells": [
  {
   "cell_type": "markdown",
   "id": "69ec768e",
   "metadata": {},
   "source": [
    "### Data Pre-processing / Data Cleaning / Data Wrangling\n",
    "The process of converting or mapping data from the intial \"raw\" form into another formate, in order to prepare the data for  future analysis"
   ]
  },
  {
   "cell_type": "markdown",
   "id": "109c7fe7",
   "metadata": {},
   "source": [
    "### Learning Objectives\n",
    "- Identify and handle missing values\n",
    "- Data formatting techniques\n",
    "- Data normalization(centering/scaling) and standardization\n",
    "- Data binning\n",
    "- Turning categotical variables to numeric variable"
   ]
  },
  {
   "cell_type": "code",
   "execution_count": null,
   "id": "3ab4c7cf",
   "metadata": {},
   "outputs": [],
   "source": []
  },
  {
   "cell_type": "code",
   "execution_count": null,
   "id": "44aef07b",
   "metadata": {},
   "outputs": [],
   "source": []
  },
  {
   "cell_type": "code",
   "execution_count": null,
   "id": "08f2f64a",
   "metadata": {},
   "outputs": [],
   "source": []
  }
 ],
 "metadata": {
  "kernelspec": {
   "display_name": "Python 3 (ipykernel)",
   "language": "python",
   "name": "python3"
  },
  "language_info": {
   "codemirror_mode": {
    "name": "ipython",
    "version": 3
   },
   "file_extension": ".py",
   "mimetype": "text/x-python",
   "name": "python",
   "nbconvert_exporter": "python",
   "pygments_lexer": "ipython3",
   "version": "3.11.5"
  }
 },
 "nbformat": 4,
 "nbformat_minor": 5
}
