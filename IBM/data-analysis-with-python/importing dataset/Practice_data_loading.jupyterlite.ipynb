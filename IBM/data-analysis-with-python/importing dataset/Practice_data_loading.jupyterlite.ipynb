{
 "cells": [
  {
   "cell_type": "markdown",
   "id": "e1ff70cf-4d5a-4750-8921-26aed6042e78",
   "metadata": {},
   "source": [
    "<p style=\"text-align:center\">\n",
    "    <a href=\"https://skills.network\" target=\"_blank\">\n",
    "    <img src=\"https://cf-courses-data.s3.us.cloud-object-storage.appdomain.cloud/assets/logos/SN_web_lightmode.png\" width=\"300\" alt=\"Skills Network Logo\">\n",
    "    </a>\n",
    "</p>\n"
   ]
  },
  {
   "cell_type": "markdown",
   "id": "d189af1f-3479-42c0-93bc-ae3fba9bf391",
   "metadata": {},
   "source": [
    "# **Hands-on Practice Lab: Importing Dataset - Laptops Pricing**\n",
    "\n",
    "Estimated time needed: **20** minutes\n",
    "\n",
    "In this lab, you will practice the process of loading and drawing basic insights on a dataset as learnt through the module. You are being provided with a fresh dataset on 'Laptop Pricing' which will be used for all the practice labs throughout the course.\n"
   ]
  },
  {
   "cell_type": "markdown",
   "id": "45993487-03e4-453f-b344-2592316567ad",
   "metadata": {},
   "source": [
    "# Objectives\n",
    "\n",
    "After completing this lab you will be able to:\n",
    "\n",
    " - Import a dataset from a CSV file to a Pandas dataframe\n",
    " - Develop some basic insights about the dataset\n"
   ]
  },
  {
   "cell_type": "markdown",
   "id": "911bd4fa-33e2-48a0-b029-d61f61fe4d8d",
   "metadata": {},
   "source": [
    "# Setup\n"
   ]
  },
  {
   "cell_type": "markdown",
   "id": "52260602-5c74-4068-b461-521a2a3af489",
   "metadata": {},
   "source": [
    "For this lab, we will be using the following libraries:\n",
    "\n",
    "* `skillsnetwork` for downloading the daataset\n",
    "\n",
    "*   [`pandas`](https://pandas.pydata.org/?utm_medium=Exinfluencer&utm_source=Exinfluencer&utm_content=000026UJ&utm_term=10006555&utm_id=NA-SkillsNetwork-Channel-SkillsNetworkCoursesIBMML0187ENSkillsNetwork31430127-2021-01-01) for managing the data.\n",
    "*   [`numpy`](https://numpy.org/?utm_medium=Exinfluencer&utm_source=Exinfluencer&utm_content=000026UJ&utm_term=10006555&utm_id=NA-SkillsNetwork-Channel-SkillsNetworkCoursesIBMML0187ENSkillsNetwork31430127-2021-01-01) for mathematical operations.\n"
   ]
  },
  {
   "cell_type": "markdown",
   "id": "36f6ff98-f051-4c6f-95a9-c317ef1a55ee",
   "metadata": {},
   "source": [
    "### Importing Required Libraries\n"
   ]
  },
  {
   "cell_type": "code",
   "execution_count": 1,
   "id": "e11d2a16-5c3c-4b6c-8338-4f7f89eafa2f",
   "metadata": {},
   "outputs": [],
   "source": [
    "import pandas as pd\n",
    "import numpy as np"
   ]
  },
  {
   "cell_type": "markdown",
   "id": "cc48b607-ffd4-4dfc-9165-89863712305e",
   "metadata": {},
   "source": [
    "The data set to be used is available on the link below.\n"
   ]
  },
  {
   "cell_type": "markdown",
   "id": "3538f57c-a22c-4d51-acd1-aad799b38bc8",
   "metadata": {},
   "source": [
    "The functions below will download the dataset into your browser:\n"
   ]
  },
  {
   "cell_type": "code",
   "execution_count": 15,
   "id": "e8591218-17c4-4c5e-9c31-2b44d1151092",
   "metadata": {},
   "outputs": [],
   "source": [
    "import urllib.request\n",
    "\n",
    "\n",
    "def download(url, filename):\n",
    "    response =  urllib.request.urlopen(url)\n",
    "    if response.status == 200:\n",
    "        with open(filename, \"wb\") as f:\n",
    "            f.write(response.read())"
   ]
  },
  {
   "cell_type": "code",
   "execution_count": 4,
   "id": "35bd934c-8453-4d9c-b881-29b95ab2a760",
   "metadata": {},
   "outputs": [],
   "source": [
    "file_path = \"https://cf-courses-data.s3.us.cloud-object-storage.appdomain.cloud/IBMDeveloperSkillsNetwork-DA0101EN-Coursera/laptop_pricing_dataset_base.csv\""
   ]
  },
  {
   "cell_type": "markdown",
   "id": "78392040-eb0c-4832-b49e-1fc63288d48d",
   "metadata": {},
   "source": [
    "To obtain the dataset, utilize the download() function as defined above:\n"
   ]
  },
  {
   "cell_type": "code",
   "execution_count": 16,
   "id": "d9bfe60c-5da5-4c0d-8620-b91b2026b1d5",
   "metadata": {},
   "outputs": [],
   "source": [
    "download(file_path, \"laptops.csv\")\n",
    "file_name=\"laptops.csv\""
   ]
  },
  {
   "cell_type": "code",
   "execution_count": 17,
   "id": "ce393740-223d-4386-9b09-84c967ab06c1",
   "metadata": {},
   "outputs": [],
   "source": [
    "df = pd.read_csv(file_name)"
   ]
  },
  {
   "cell_type": "markdown",
   "id": "088f5217-d115-4604-a31d-d46a47d879bd",
   "metadata": {},
   "source": [
    "> Note: This version of the lab is working on JupyterLite, which requires the dataset to be downloaded to the interface. While working on the downloaded version of this notebook on their local machines, the learners can simply **skip the steps above**, and simply use the URL directly in the `pandas.read_csv()` function. You can uncomment and run the statements in the cell below.\n"
   ]
  },
  {
   "cell_type": "code",
   "execution_count": null,
   "id": "be88b3cb-e22c-4f4a-a3ee-79d46980ea83",
   "metadata": {},
   "outputs": [],
   "source": [
    "#filepath = \"https://cf-courses-data.s3.us.cloud-object-storage.appdomain.cloud/IBMDeveloperSkillsNetwork-DA0101EN-Coursera/laptop_pricing_dataset_base.csv\"\n",
    "#df = pd.read_csv(filepath, header=None)"
   ]
  },
  {
   "cell_type": "markdown",
   "id": "271dc1e4-a285-4cb4-984c-d71d40589586",
   "metadata": {},
   "source": [
    "<h1> Task #1: </h1>\n",
    "<h3>Load the dataset to a pandas dataframe named 'df'</h3>\n",
    "Print the first 5 entries of the dataset to confirm loading.\n"
   ]
  },
  {
   "cell_type": "code",
   "execution_count": 18,
   "id": "63737082-49ca-4b7b-9ea9-3c9fb4279159",
   "metadata": {},
   "outputs": [
    {
     "name": "stdout",
     "output_type": "stream",
     "text": [
      "     0   1          2   3   4   5       6    7   8    9     10    11\n",
      "0  Acer   4  IPS Panel   2   1   5   35.56  1.6   8  256   1.6   978\n",
      "1  Dell   3    Full HD   1   1   3  39.624  2.0   4  256   2.2   634\n",
      "2  Dell   3    Full HD   1   1   7  39.624  2.7   8  256   2.2   946\n",
      "3  Dell   4  IPS Panel   2   1   5  33.782  1.6   8  128  1.22  1244\n",
      "4    HP   4    Full HD   2   1   7  39.624  1.8   8  256  1.91   837\n"
     ]
    }
   ],
   "source": [
    "# Write your code below and press Shift+Enter to execute.\n",
    "df = pd.read_csv(file_name, header=None)\n",
    "print(df.head())"
   ]
  },
  {
   "cell_type": "markdown",
   "id": "37514c8a-4f03-45fe-b6d2-403cd8bf41da",
   "metadata": {},
   "source": [
    "<details><summary>Click here for solution</summary>\n",
    "\n",
    "```python\n",
    "df = pd.read_csv(file_name, header=None)\n",
    "print(df.head())\n",
    "```\n",
    "</details>\n"
   ]
  },
  {
   "cell_type": "markdown",
   "id": "e7755f18-7a1d-4abe-aeb3-4f278f2d8f6d",
   "metadata": {},
   "source": [
    "<h1> Task #2: </h1>\n",
    "<h3>Add headers to the dataframe</h3>\n",
    "The headers for the dataset, in sequence, are \"Manufacturer\", \"Category\", \"Screen\", \"GPU\", \"OS\", \"CPU_core\",\n",
    "\"Screen_Size_inch\", \"CPU_frequency\", \"RAM_GB\", \"Storage_GB_SSD\", \"Weight_kg\" and \"Price\".\n",
    "\n",
    "Confirm insertion by printing the first 10 rows of the dataset.\n"
   ]
  },
  {
   "cell_type": "code",
   "execution_count": 30,
   "id": "3e953772-244a-494e-9068-f7dbf5a5da91",
   "metadata": {},
   "outputs": [
    {
     "data": {
      "text/html": [
       "<div>\n",
       "<style scoped>\n",
       "    .dataframe tbody tr th:only-of-type {\n",
       "        vertical-align: middle;\n",
       "    }\n",
       "\n",
       "    .dataframe tbody tr th {\n",
       "        vertical-align: top;\n",
       "    }\n",
       "\n",
       "    .dataframe thead th {\n",
       "        text-align: right;\n",
       "    }\n",
       "</style>\n",
       "<table border=\"1\" class=\"dataframe\">\n",
       "  <thead>\n",
       "    <tr style=\"text-align: right;\">\n",
       "      <th></th>\n",
       "      <th>Manufacturer</th>\n",
       "      <th>Category</th>\n",
       "      <th>Screen</th>\n",
       "      <th>GPU</th>\n",
       "      <th>OS</th>\n",
       "      <th>CPU_core</th>\n",
       "      <th>Screen_Size_inch</th>\n",
       "      <th>CPU_frequency</th>\n",
       "      <th>RAM_GB</th>\n",
       "      <th>Storage_GB_SSD</th>\n",
       "      <th>Weight_kg</th>\n",
       "      <th>Price</th>\n",
       "    </tr>\n",
       "  </thead>\n",
       "  <tbody>\n",
       "    <tr>\n",
       "      <th>0</th>\n",
       "      <td>Acer</td>\n",
       "      <td>4</td>\n",
       "      <td>IPS Panel</td>\n",
       "      <td>2</td>\n",
       "      <td>1</td>\n",
       "      <td>5</td>\n",
       "      <td>35.56</td>\n",
       "      <td>1.6</td>\n",
       "      <td>8</td>\n",
       "      <td>256</td>\n",
       "      <td>1.6</td>\n",
       "      <td>978</td>\n",
       "    </tr>\n",
       "    <tr>\n",
       "      <th>1</th>\n",
       "      <td>Dell</td>\n",
       "      <td>3</td>\n",
       "      <td>Full HD</td>\n",
       "      <td>1</td>\n",
       "      <td>1</td>\n",
       "      <td>3</td>\n",
       "      <td>39.624</td>\n",
       "      <td>2.0</td>\n",
       "      <td>4</td>\n",
       "      <td>256</td>\n",
       "      <td>2.2</td>\n",
       "      <td>634</td>\n",
       "    </tr>\n",
       "    <tr>\n",
       "      <th>2</th>\n",
       "      <td>Dell</td>\n",
       "      <td>3</td>\n",
       "      <td>Full HD</td>\n",
       "      <td>1</td>\n",
       "      <td>1</td>\n",
       "      <td>7</td>\n",
       "      <td>39.624</td>\n",
       "      <td>2.7</td>\n",
       "      <td>8</td>\n",
       "      <td>256</td>\n",
       "      <td>2.2</td>\n",
       "      <td>946</td>\n",
       "    </tr>\n",
       "    <tr>\n",
       "      <th>3</th>\n",
       "      <td>Dell</td>\n",
       "      <td>4</td>\n",
       "      <td>IPS Panel</td>\n",
       "      <td>2</td>\n",
       "      <td>1</td>\n",
       "      <td>5</td>\n",
       "      <td>33.782</td>\n",
       "      <td>1.6</td>\n",
       "      <td>8</td>\n",
       "      <td>128</td>\n",
       "      <td>1.22</td>\n",
       "      <td>1244</td>\n",
       "    </tr>\n",
       "    <tr>\n",
       "      <th>4</th>\n",
       "      <td>HP</td>\n",
       "      <td>4</td>\n",
       "      <td>Full HD</td>\n",
       "      <td>2</td>\n",
       "      <td>1</td>\n",
       "      <td>7</td>\n",
       "      <td>39.624</td>\n",
       "      <td>1.8</td>\n",
       "      <td>8</td>\n",
       "      <td>256</td>\n",
       "      <td>1.91</td>\n",
       "      <td>837</td>\n",
       "    </tr>\n",
       "  </tbody>\n",
       "</table>\n",
       "</div>"
      ],
      "text/plain": [
       "  Manufacturer  Category     Screen  GPU  OS  CPU_core Screen_Size_inch  \\\n",
       "0         Acer         4  IPS Panel    2   1         5            35.56   \n",
       "1         Dell         3    Full HD    1   1         3           39.624   \n",
       "2         Dell         3    Full HD    1   1         7           39.624   \n",
       "3         Dell         4  IPS Panel    2   1         5           33.782   \n",
       "4           HP         4    Full HD    2   1         7           39.624   \n",
       "\n",
       "   CPU_frequency  RAM_GB  Storage_GB_SSD Weight_kg  Price  \n",
       "0            1.6       8             256       1.6    978  \n",
       "1            2.0       4             256       2.2    634  \n",
       "2            2.7       8             256       2.2    946  \n",
       "3            1.6       8             128      1.22   1244  \n",
       "4            1.8       8             256      1.91    837  "
      ]
     },
     "execution_count": 30,
     "metadata": {},
     "output_type": "execute_result"
    }
   ],
   "source": [
    "# Write your code below and press Shift+Enter to execute.\n",
    "headers = [\"Manufacturer\", \"Category\", \"Screen\", \"GPU\", \"OS\", \"CPU_core\", \"Screen_Size_inch\",\n",
    "           \"CPU_frequency\", \"RAM_GB\", \"Storage_GB_SSD\", \"Weight_kg\" , \"Price\"]\n",
    "df.columns = headers\n",
    "df.head()"
   ]
  },
  {
   "cell_type": "markdown",
   "id": "175e4555-28de-4b51-903c-a63ea32ac8d9",
   "metadata": {},
   "source": [
    "<details><summary>Click here for solution</summary>\n",
    "\n",
    "```python\n",
    "# create headers list\n",
    "headers = [\"Manufacturer\", \"Category\", \"Screen\", \"GPU\", \"OS\", \"CPU_core\", \"Screen_Size_inch\", \"CPU_frequency\", \"RAM_GB\", \"Storage_GB_SSD\", \"Weight_kg\", \"Price\"]\n",
    "df.columns = headers\n",
    "print(df.head(10))\n",
    "```\n",
    "</details>\n"
   ]
  },
  {
   "cell_type": "markdown",
   "id": "781eca93-3216-4e07-aeca-a79842e113b3",
   "metadata": {},
   "source": [
    "<h1> Task #3: </h1>\n",
    "<h3>Replace '?' with 'NaN'</h3>\n",
    "Replace the '?' entries in the dataset with NaN value, recevied from the Numpy package.\n"
   ]
  },
  {
   "cell_type": "code",
   "execution_count": 57,
   "id": "0600228b-0c8f-4f51-9d6e-dcc1b0768f60",
   "metadata": {},
   "outputs": [
    {
     "data": {
      "text/plain": [
       "0       1.6\n",
       "1       2.2\n",
       "2       2.2\n",
       "3      1.22\n",
       "4      1.91\n",
       "       ... \n",
       "233     1.7\n",
       "234     1.2\n",
       "235    1.36\n",
       "236     2.4\n",
       "237    1.95\n",
       "Name: Weight_kg, Length: 238, dtype: object"
      ]
     },
     "execution_count": 57,
     "metadata": {},
     "output_type": "execute_result"
    }
   ],
   "source": [
    "# Write your code below and press Shift+Enter to execute.\n",
    "# df.describe(include=\"all\")\n",
    "# df[df.eq(\"?\")]\n",
    "df[df.eq(\"?\").any(axis=1)]\n",
    "df.replace(\"?\", np.nan, inplace = True)\n",
    "df[\"Weight_kg\"]"
   ]
  },
  {
   "cell_type": "markdown",
   "id": "00615384-b6d9-4cf5-b810-11e187057550",
   "metadata": {},
   "source": [
    "<details><summary>Click here for solution</summary>\n",
    "\n",
    "```python\n",
    "df.replace('?',np.nan, inplace = True)\n",
    "```\n",
    "</details>\n"
   ]
  },
  {
   "cell_type": "markdown",
   "id": "984935d3-f42f-4a77-a00c-d766436d51e3",
   "metadata": {},
   "source": [
    "<h1> Task #4: </h1>\n",
    "<h3>Print the data types of the dataframe columns</h3>\n",
    "Make a note of the data types of the different columns of the dataset.\n"
   ]
  },
  {
   "cell_type": "code",
   "execution_count": 60,
   "id": "9524ba4c-9268-479d-8423-a6238ac28627",
   "metadata": {},
   "outputs": [
    {
     "name": "stdout",
     "output_type": "stream",
     "text": [
      "Manufacturer         object\n",
      "Category              int64\n",
      "Screen               object\n",
      "GPU                   int64\n",
      "OS                    int64\n",
      "CPU_core              int64\n",
      "Screen_Size_inch     object\n",
      "CPU_frequency       float64\n",
      "RAM_GB                int64\n",
      "Storage_GB_SSD        int64\n",
      "Weight_kg            object\n",
      "Price                 int64\n",
      "dtype: object\n"
     ]
    }
   ],
   "source": [
    "# Write your code below and press Shift+Enter to execute.\n",
    "# df.info()\n",
    "print(df.dtypes)"
   ]
  },
  {
   "cell_type": "markdown",
   "id": "7e62c0b8-6919-4a3a-b83f-641293ff4d0e",
   "metadata": {},
   "source": [
    "<details><summary>Click here for solution</summary>\n",
    "\n",
    "```python\n",
    "print(df.dtypes)\n",
    "```\n",
    "</details>\n"
   ]
  },
  {
   "cell_type": "markdown",
   "id": "953a8b55-3dad-4874-89a6-d2638deffefe",
   "metadata": {},
   "source": [
    "<h1> Task #5: </h1>\n",
    "<h3>Print the statistical description of the dataset, including that of 'object' data types.</h3>\n"
   ]
  },
  {
   "cell_type": "code",
   "execution_count": 61,
   "id": "99b53b23-26ef-43bd-8151-446ab7929663",
   "metadata": {},
   "outputs": [
    {
     "data": {
      "text/html": [
       "<div>\n",
       "<style scoped>\n",
       "    .dataframe tbody tr th:only-of-type {\n",
       "        vertical-align: middle;\n",
       "    }\n",
       "\n",
       "    .dataframe tbody tr th {\n",
       "        vertical-align: top;\n",
       "    }\n",
       "\n",
       "    .dataframe thead th {\n",
       "        text-align: right;\n",
       "    }\n",
       "</style>\n",
       "<table border=\"1\" class=\"dataframe\">\n",
       "  <thead>\n",
       "    <tr style=\"text-align: right;\">\n",
       "      <th></th>\n",
       "      <th>Manufacturer</th>\n",
       "      <th>Category</th>\n",
       "      <th>Screen</th>\n",
       "      <th>GPU</th>\n",
       "      <th>OS</th>\n",
       "      <th>CPU_core</th>\n",
       "      <th>Screen_Size_inch</th>\n",
       "      <th>CPU_frequency</th>\n",
       "      <th>RAM_GB</th>\n",
       "      <th>Storage_GB_SSD</th>\n",
       "      <th>Weight_kg</th>\n",
       "      <th>Price</th>\n",
       "    </tr>\n",
       "  </thead>\n",
       "  <tbody>\n",
       "    <tr>\n",
       "      <th>count</th>\n",
       "      <td>238</td>\n",
       "      <td>238.000000</td>\n",
       "      <td>238</td>\n",
       "      <td>238.000000</td>\n",
       "      <td>238.000000</td>\n",
       "      <td>238.000000</td>\n",
       "      <td>234</td>\n",
       "      <td>238.000000</td>\n",
       "      <td>238.000000</td>\n",
       "      <td>238.000000</td>\n",
       "      <td>233</td>\n",
       "      <td>238.000000</td>\n",
       "    </tr>\n",
       "    <tr>\n",
       "      <th>unique</th>\n",
       "      <td>11</td>\n",
       "      <td>NaN</td>\n",
       "      <td>2</td>\n",
       "      <td>NaN</td>\n",
       "      <td>NaN</td>\n",
       "      <td>NaN</td>\n",
       "      <td>9</td>\n",
       "      <td>NaN</td>\n",
       "      <td>NaN</td>\n",
       "      <td>NaN</td>\n",
       "      <td>77</td>\n",
       "      <td>NaN</td>\n",
       "    </tr>\n",
       "    <tr>\n",
       "      <th>top</th>\n",
       "      <td>Dell</td>\n",
       "      <td>NaN</td>\n",
       "      <td>Full HD</td>\n",
       "      <td>NaN</td>\n",
       "      <td>NaN</td>\n",
       "      <td>NaN</td>\n",
       "      <td>39.624</td>\n",
       "      <td>NaN</td>\n",
       "      <td>NaN</td>\n",
       "      <td>NaN</td>\n",
       "      <td>2.2</td>\n",
       "      <td>NaN</td>\n",
       "    </tr>\n",
       "    <tr>\n",
       "      <th>freq</th>\n",
       "      <td>71</td>\n",
       "      <td>NaN</td>\n",
       "      <td>161</td>\n",
       "      <td>NaN</td>\n",
       "      <td>NaN</td>\n",
       "      <td>NaN</td>\n",
       "      <td>89</td>\n",
       "      <td>NaN</td>\n",
       "      <td>NaN</td>\n",
       "      <td>NaN</td>\n",
       "      <td>21</td>\n",
       "      <td>NaN</td>\n",
       "    </tr>\n",
       "    <tr>\n",
       "      <th>mean</th>\n",
       "      <td>NaN</td>\n",
       "      <td>3.205882</td>\n",
       "      <td>NaN</td>\n",
       "      <td>2.151261</td>\n",
       "      <td>1.058824</td>\n",
       "      <td>5.630252</td>\n",
       "      <td>NaN</td>\n",
       "      <td>2.360084</td>\n",
       "      <td>7.882353</td>\n",
       "      <td>245.781513</td>\n",
       "      <td>NaN</td>\n",
       "      <td>1462.344538</td>\n",
       "    </tr>\n",
       "    <tr>\n",
       "      <th>std</th>\n",
       "      <td>NaN</td>\n",
       "      <td>0.776533</td>\n",
       "      <td>NaN</td>\n",
       "      <td>0.638282</td>\n",
       "      <td>0.235790</td>\n",
       "      <td>1.241787</td>\n",
       "      <td>NaN</td>\n",
       "      <td>0.411393</td>\n",
       "      <td>2.482603</td>\n",
       "      <td>34.765316</td>\n",
       "      <td>NaN</td>\n",
       "      <td>574.607699</td>\n",
       "    </tr>\n",
       "    <tr>\n",
       "      <th>min</th>\n",
       "      <td>NaN</td>\n",
       "      <td>1.000000</td>\n",
       "      <td>NaN</td>\n",
       "      <td>1.000000</td>\n",
       "      <td>1.000000</td>\n",
       "      <td>3.000000</td>\n",
       "      <td>NaN</td>\n",
       "      <td>1.200000</td>\n",
       "      <td>4.000000</td>\n",
       "      <td>128.000000</td>\n",
       "      <td>NaN</td>\n",
       "      <td>527.000000</td>\n",
       "    </tr>\n",
       "    <tr>\n",
       "      <th>25%</th>\n",
       "      <td>NaN</td>\n",
       "      <td>3.000000</td>\n",
       "      <td>NaN</td>\n",
       "      <td>2.000000</td>\n",
       "      <td>1.000000</td>\n",
       "      <td>5.000000</td>\n",
       "      <td>NaN</td>\n",
       "      <td>2.000000</td>\n",
       "      <td>8.000000</td>\n",
       "      <td>256.000000</td>\n",
       "      <td>NaN</td>\n",
       "      <td>1066.500000</td>\n",
       "    </tr>\n",
       "    <tr>\n",
       "      <th>50%</th>\n",
       "      <td>NaN</td>\n",
       "      <td>3.000000</td>\n",
       "      <td>NaN</td>\n",
       "      <td>2.000000</td>\n",
       "      <td>1.000000</td>\n",
       "      <td>5.000000</td>\n",
       "      <td>NaN</td>\n",
       "      <td>2.500000</td>\n",
       "      <td>8.000000</td>\n",
       "      <td>256.000000</td>\n",
       "      <td>NaN</td>\n",
       "      <td>1333.000000</td>\n",
       "    </tr>\n",
       "    <tr>\n",
       "      <th>75%</th>\n",
       "      <td>NaN</td>\n",
       "      <td>4.000000</td>\n",
       "      <td>NaN</td>\n",
       "      <td>3.000000</td>\n",
       "      <td>1.000000</td>\n",
       "      <td>7.000000</td>\n",
       "      <td>NaN</td>\n",
       "      <td>2.700000</td>\n",
       "      <td>8.000000</td>\n",
       "      <td>256.000000</td>\n",
       "      <td>NaN</td>\n",
       "      <td>1777.000000</td>\n",
       "    </tr>\n",
       "    <tr>\n",
       "      <th>max</th>\n",
       "      <td>NaN</td>\n",
       "      <td>5.000000</td>\n",
       "      <td>NaN</td>\n",
       "      <td>3.000000</td>\n",
       "      <td>2.000000</td>\n",
       "      <td>7.000000</td>\n",
       "      <td>NaN</td>\n",
       "      <td>2.900000</td>\n",
       "      <td>16.000000</td>\n",
       "      <td>256.000000</td>\n",
       "      <td>NaN</td>\n",
       "      <td>3810.000000</td>\n",
       "    </tr>\n",
       "  </tbody>\n",
       "</table>\n",
       "</div>"
      ],
      "text/plain": [
       "       Manufacturer    Category   Screen         GPU          OS    CPU_core  \\\n",
       "count           238  238.000000      238  238.000000  238.000000  238.000000   \n",
       "unique           11         NaN        2         NaN         NaN         NaN   \n",
       "top            Dell         NaN  Full HD         NaN         NaN         NaN   \n",
       "freq             71         NaN      161         NaN         NaN         NaN   \n",
       "mean            NaN    3.205882      NaN    2.151261    1.058824    5.630252   \n",
       "std             NaN    0.776533      NaN    0.638282    0.235790    1.241787   \n",
       "min             NaN    1.000000      NaN    1.000000    1.000000    3.000000   \n",
       "25%             NaN    3.000000      NaN    2.000000    1.000000    5.000000   \n",
       "50%             NaN    3.000000      NaN    2.000000    1.000000    5.000000   \n",
       "75%             NaN    4.000000      NaN    3.000000    1.000000    7.000000   \n",
       "max             NaN    5.000000      NaN    3.000000    2.000000    7.000000   \n",
       "\n",
       "       Screen_Size_inch  CPU_frequency      RAM_GB  Storage_GB_SSD Weight_kg  \\\n",
       "count               234     238.000000  238.000000      238.000000       233   \n",
       "unique                9            NaN         NaN             NaN        77   \n",
       "top              39.624            NaN         NaN             NaN       2.2   \n",
       "freq                 89            NaN         NaN             NaN        21   \n",
       "mean                NaN       2.360084    7.882353      245.781513       NaN   \n",
       "std                 NaN       0.411393    2.482603       34.765316       NaN   \n",
       "min                 NaN       1.200000    4.000000      128.000000       NaN   \n",
       "25%                 NaN       2.000000    8.000000      256.000000       NaN   \n",
       "50%                 NaN       2.500000    8.000000      256.000000       NaN   \n",
       "75%                 NaN       2.700000    8.000000      256.000000       NaN   \n",
       "max                 NaN       2.900000   16.000000      256.000000       NaN   \n",
       "\n",
       "              Price  \n",
       "count    238.000000  \n",
       "unique          NaN  \n",
       "top             NaN  \n",
       "freq            NaN  \n",
       "mean    1462.344538  \n",
       "std      574.607699  \n",
       "min      527.000000  \n",
       "25%     1066.500000  \n",
       "50%     1333.000000  \n",
       "75%     1777.000000  \n",
       "max     3810.000000  "
      ]
     },
     "execution_count": 61,
     "metadata": {},
     "output_type": "execute_result"
    }
   ],
   "source": [
    "# Write your code below and press Shift+Enter to execute\n",
    "df.describe(include=\"all\")"
   ]
  },
  {
   "cell_type": "markdown",
   "id": "8d9a1d75-daea-4eda-82fb-d4031b206c44",
   "metadata": {},
   "source": [
    "<details><summary>Click here for solution</summary>\n",
    "\n",
    "```python\n",
    "print(df.describe(include='all'))\n",
    "```\n",
    "</details>\n"
   ]
  },
  {
   "cell_type": "markdown",
   "id": "261662a5-e15a-4db7-8931-2e22d0ea2c42",
   "metadata": {},
   "source": [
    "<h1> Task #6: </h1>\n",
    "<h3>Print the summary information of the dataset.</h3>\n"
   ]
  },
  {
   "cell_type": "code",
   "execution_count": 62,
   "id": "43f81d4b-8cbe-459f-89eb-6ac26236fa47",
   "metadata": {},
   "outputs": [
    {
     "name": "stdout",
     "output_type": "stream",
     "text": [
      "<class 'pandas.core.frame.DataFrame'>\n",
      "RangeIndex: 238 entries, 0 to 237\n",
      "Data columns (total 12 columns):\n",
      " #   Column            Non-Null Count  Dtype  \n",
      "---  ------            --------------  -----  \n",
      " 0   Manufacturer      238 non-null    object \n",
      " 1   Category          238 non-null    int64  \n",
      " 2   Screen            238 non-null    object \n",
      " 3   GPU               238 non-null    int64  \n",
      " 4   OS                238 non-null    int64  \n",
      " 5   CPU_core          238 non-null    int64  \n",
      " 6   Screen_Size_inch  234 non-null    object \n",
      " 7   CPU_frequency     238 non-null    float64\n",
      " 8   RAM_GB            238 non-null    int64  \n",
      " 9   Storage_GB_SSD    238 non-null    int64  \n",
      " 10  Weight_kg         233 non-null    object \n",
      " 11  Price             238 non-null    int64  \n",
      "dtypes: float64(1), int64(7), object(4)\n",
      "memory usage: 22.4+ KB\n"
     ]
    }
   ],
   "source": [
    "# Write your code below and press Shift+Enter to execute.\n",
    "df.info()"
   ]
  },
  {
   "cell_type": "markdown",
   "id": "049cb263-241b-4879-a130-5b66572c9360",
   "metadata": {},
   "source": [
    "<details><summary>Click here for solution</summary>\n",
    "\n",
    "```python\n",
    "print(df.info())\n",
    "```\n",
    "</details>\n"
   ]
  },
  {
   "cell_type": "markdown",
   "id": "1dde3631-6222-48f2-bf37-3147442b9b2a",
   "metadata": {},
   "source": [
    "---\n"
   ]
  },
  {
   "cell_type": "markdown",
   "id": "23b48e94-8200-4d1c-8ba0-9ca3a178be80",
   "metadata": {},
   "source": [
    "# Congratulations! You have completed the lab\n"
   ]
  },
  {
   "cell_type": "markdown",
   "id": "e83a89e3-11a9-4ba5-ac13-71fd67c8a82e",
   "metadata": {},
   "source": [
    "## Authors\n"
   ]
  },
  {
   "cell_type": "markdown",
   "id": "fb5989ca-aec3-415b-9a09-e885a1be89e1",
   "metadata": {},
   "source": [
    "[Abhishek Gagneja](https://www.coursera.org/instructor/~129186572)\n",
    "\n",
    "[Vicky Kuo](https://author.skills.network/instructors/vicky_kuo)\n"
   ]
  },
  {
   "cell_type": "markdown",
   "id": "abe149ad-12bc-48d7-8c7b-9dfa9d97a47d",
   "metadata": {},
   "source": [
    "Copyright © 2023 IBM Corporation. All rights reserved.\n"
   ]
  },
  {
   "cell_type": "markdown",
   "id": "8d27f7bf-1404-497c-b56e-b4104bd0dcdc",
   "metadata": {},
   "source": [
    "<!--## Change Log\n"
   ]
  },
  {
   "cell_type": "markdown",
   "id": "c5597a9f-3057-4f39-82e6-99273d4b5f31",
   "metadata": {},
   "source": [
    "<!--|Date (YYYY-MM-DD)|Version|Changed By|Change Description|\n",
    "|-|-|-|-|\n",
    "|2023-09-15|0.1|Abhishek Gagneja|Initial Version Created|\n",
    "|2023-09-18|0.2|Vicky Kuo|Reviewed and Revised|--!>\n"
   ]
  }
 ],
 "metadata": {
  "kernelspec": {
   "display_name": "Python 3 (ipykernel)",
   "language": "python",
   "name": "python3"
  },
  "language_info": {
   "codemirror_mode": {
    "name": "ipython",
    "version": 3
   },
   "file_extension": ".py",
   "mimetype": "text/x-python",
   "name": "python",
   "nbconvert_exporter": "python",
   "pygments_lexer": "ipython3",
   "version": "3.11.5"
  },
  "prev_pub_hash": "7997b8a71ae7e2680cb74e72fc353601a4a722981b15b6b93a8bf964c115ec58"
 },
 "nbformat": 4,
 "nbformat_minor": 4
}
