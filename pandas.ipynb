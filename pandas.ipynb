{
 "cells": [
  {
   "cell_type": "code",
   "execution_count": 2,
   "id": "74efc8da",
   "metadata": {},
   "outputs": [
    {
     "data": {
      "text/plain": [
       "'1.5.3'"
      ]
     },
     "execution_count": 2,
     "metadata": {},
     "output_type": "execute_result"
    }
   ],
   "source": [
    "import pandas as pd\n",
    "pd.__version__"
   ]
  },
  {
   "cell_type": "markdown",
   "id": "31af732d",
   "metadata": {},
   "source": [
    "Important data structures\n",
    "- series\n",
    "- DataFrames\n"
   ]
  },
  {
   "cell_type": "markdown",
   "id": "d1a8e9e8",
   "metadata": {},
   "source": [
    "Series\n",
    "- It is one-dimentional labeled arrays"
   ]
  },
  {
   "cell_type": "code",
   "execution_count": 4,
   "id": "33988940",
   "metadata": {},
   "outputs": [
    {
     "name": "stdout",
     "output_type": "stream",
     "text": [
      "0         python\n",
      "1           java\n",
      "2    datascience\n",
      "dtype: object\n"
     ]
    }
   ],
   "source": [
    "# creation of Series from the pyhton list\n",
    "books_list = ['python','java','datascience']\n",
    "s= pd.Series(books_list) # series is class\n",
    "print(s)\n",
    "# bydefault index (labels) are zero"
   ]
  },
  {
   "cell_type": "code",
   "execution_count": 6,
   "id": "12fd9e55",
   "metadata": {},
   "outputs": [
    {
     "name": "stdout",
     "output_type": "stream",
     "text": [
      "0    70\n",
      "1    80\n",
      "2    90\n",
      "dtype: int64\n"
     ]
    }
   ],
   "source": [
    "# eg-2:\n",
    "import pandas as pd\n",
    "marks_list = [70,80,90]\n",
    "s = pd.Series(marks_list)\n",
    "print(s)"
   ]
  },
  {
   "cell_type": "code",
   "execution_count": 7,
   "id": "00aca22b",
   "metadata": {},
   "outputs": [
    {
     "name": "stdout",
     "output_type": "stream",
     "text": [
      "0    1000.5\n",
      "1    2000.6\n",
      "2    3000.7\n",
      "dtype: float64\n"
     ]
    }
   ],
   "source": [
    "import pandas as pd\n",
    "salaries_list = [1000.5,2000.6,3000.7]\n",
    "s = pd.Series(salaries_list)\n",
    "print(s)"
   ]
  },
  {
   "cell_type": "code",
   "execution_count": 8,
   "id": "dfa52350",
   "metadata": {},
   "outputs": [
    {
     "name": "stdout",
     "output_type": "stream",
     "text": [
      "0       10\n",
      "1    durga\n",
      "2     10.5\n",
      "3     True\n",
      "dtype: object\n"
     ]
    }
   ],
   "source": [
    "import pandas as pd\n",
    "hetero_list = [10,'durga',10.5,True]\n",
    "s = pd.Series(hetero_list)\n",
    "print(s)"
   ]
  },
  {
   "cell_type": "markdown",
   "id": "0fb69162",
   "metadata": {},
   "source": [
    "***Note:*** The values in Series can be any type even heterogeneous also."
   ]
  },
  {
   "cell_type": "code",
   "execution_count": 5,
   "id": "9cdbc726",
   "metadata": {},
   "outputs": [
    {
     "name": "stdout",
     "output_type": "stream",
     "text": [
      "0    python\n",
      "1      java\n",
      "2      mava\n",
      "dtype: object\n"
     ]
    }
   ],
   "source": [
    "# Creation of series from python dict\n",
    "books_dict = {0:\"python\",1:\"java\",2:\"mava\"}\n",
    "d = pd.Series(books_dict)\n",
    "print(d)"
   ]
  },
  {
   "cell_type": "code",
   "execution_count": 9,
   "id": "d6bde2eb",
   "metadata": {
    "scrolled": true
   },
   "outputs": [
    {
     "name": "stdout",
     "output_type": "stream",
     "text": [
      "Book-1         Python\n",
      "Book-2           Java\n",
      "Book-3    DataScience\n",
      "dtype: object\n"
     ]
    }
   ],
   "source": [
    "# eg-2:\n",
    "import pandas as pd\n",
    "books_dict = {'Book-1':'Python','Book-2':'Java','Book-3':'DataScience'}\n",
    "s = pd.Series(books_dict)\n",
    "print(s)"
   ]
  },
  {
   "cell_type": "code",
   "execution_count": 12,
   "id": "cb32c51d",
   "metadata": {
    "scrolled": true
   },
   "outputs": [
    {
     "name": "stdout",
     "output_type": "stream",
     "text": [
      "Book-1         Python\n",
      "10                 20\n",
      "10.5             20.3\n",
      "Book-3    DataScience\n",
      "dtype: object\n"
     ]
    }
   ],
   "source": [
    "import pandas as pd\n",
    "books_dict = {'Book-1':'Python',10:20,10.5:20.6,'Book-3':'DataScience',10.5:20.3}\n",
    "s = pd.Series(books_dict)\n",
    "print(s)"
   ]
  },
  {
   "cell_type": "markdown",
   "id": "5dee4be1",
   "metadata": {},
   "source": [
    "***Note:***\n",
    "1. Index labels and values need not be homogeneneous.\n",
    "2. Index labels need not be unique."
   ]
  },
  {
   "cell_type": "markdown",
   "id": "f29662d6",
   "metadata": {},
   "source": [
    "# Series class\n",
    "class Series(base.IndexOpsMixin, generic.NDFrame):\n",
    "\"\"\"\n",
    "One-dimensional ndarray with axis labels (including time series).\n",
    "Parameters\n",
    "----------\n",
    "data : array-like, Iterable, dict, or scalar value"
   ]
  },
  {
   "cell_type": "code",
   "execution_count": 14,
   "id": "0f93d58b",
   "metadata": {},
   "outputs": [
    {
     "data": {
      "text/plain": [
       "a    1\n",
       "b    2\n",
       "c    3\n",
       "dtype: int64"
      ]
     },
     "execution_count": 14,
     "metadata": {},
     "output_type": "execute_result"
    }
   ],
   "source": [
    "# Constructing Series from a dictionary with an\n",
    "d = {'a': 1, 'b': 2, 'c': 3}\n",
    "ser = pd.Series(data=d, index=['a', 'b', 'c'])\n",
    "ser\n"
   ]
  },
  {
   "cell_type": "code",
   "execution_count": 16,
   "id": "805f2082",
   "metadata": {},
   "outputs": [
    {
     "data": {
      "text/plain": [
       "x   NaN\n",
       "y   NaN\n",
       "z   NaN\n",
       "dtype: float64"
      ]
     },
     "execution_count": 16,
     "metadata": {},
     "output_type": "execute_result"
    }
   ],
   "source": [
    "d = {'a': 1, 'b': 2, 'c': 3}\n",
    "ser = pd.Series(data=d, index=['x', 'y', 'z'])\n",
    "ser"
   ]
  },
  {
   "cell_type": "markdown",
   "id": "a5785985",
   "metadata": {},
   "source": [
    "**Note**\n",
    "that the Index is first build with the keys from the dictionary.\n",
    "After this the Series is reindexed with the given Index values, hence\n",
    "we get all NaN as a result."
   ]
  },
  {
   "cell_type": "code",
   "execution_count": 18,
   "id": "cbad365c",
   "metadata": {},
   "outputs": [
    {
     "data": {
      "text/plain": [
       "b    2\n",
       "a    1\n",
       "c    3\n",
       "dtype: int64"
      ]
     },
     "execution_count": 18,
     "metadata": {},
     "output_type": "execute_result"
    }
   ],
   "source": [
    "d = {'a': 1, 'b': 2, 'c': 3}\n",
    "ser = pd.Series(data=d, index=['b', 'a', 'c'])\n",
    "ser\n"
   ]
  },
  {
   "cell_type": "code",
   "execution_count": 19,
   "id": "a82860a6",
   "metadata": {},
   "outputs": [
    {
     "data": {
      "text/plain": [
       "[1, 2]"
      ]
     },
     "execution_count": 19,
     "metadata": {},
     "output_type": "execute_result"
    }
   ],
   "source": [
    "# Constructing Series from a list with `copy=False`.\n",
    "r = [1, 2]\n",
    "ser = pd.Series(r, copy=False)\n",
    "ser.iloc[0] = 999\n",
    "r\n",
    "# Due to input data type the Series has a `copy` of\n",
    "# 11the original data even though `copy=False`, so\n",
    "# the data is unchanged."
   ]
  },
  {
   "cell_type": "markdown",
   "id": "d812bddb",
   "metadata": {},
   "source": [
    "The 5 Parameters of Series Constructor:\n",
    "----------------------------------------\n",
    "1. data parameter\n",
    "2. index parameter\n",
    "3. dtype parameter\n",
    "4. name parameter\n",
    "5. copy parameter"
   ]
  },
  {
   "cell_type": "code",
   "execution_count": 21,
   "id": "b1672083",
   "metadata": {},
   "outputs": [
    {
     "name": "stdout",
     "output_type": "stream",
     "text": [
      "Book-1         Python\n",
      "10                 20\n",
      "10.5             20.6\n",
      "Book-3    DataScience\n",
      "dtype: object\n"
     ]
    }
   ],
   "source": [
    "# 1. data parameter:\n",
    "books_dict = {'Book-1':'Python',10:20,10.5:20.6,'Book-3':'DataScience'}\n",
    "s = pd.Series(data=books_dict)\n",
    "print(s)"
   ]
  },
  {
   "cell_type": "code",
   "execution_count": 23,
   "id": "4a1042a1",
   "metadata": {},
   "outputs": [
    {
     "data": {
      "text/plain": [
       "0    durga\n",
       "dtype: object"
      ]
     },
     "execution_count": 23,
     "metadata": {},
     "output_type": "execute_result"
    }
   ],
   "source": [
    "# Note:\n",
    "# The following are valid.\n",
    "import numpy as np\n",
    "pd.Series(data=[10,20,30])\n",
    "pd.Series(data={0:'A',1:'B',2:'C'})\n",
    "pd.Series(data={'A':'Apple','B':'Ball','C':'Cat'})\n",
    "pd.Series(data=np.array([10,20,30]))\n",
    "pd.Series(data=10)\n",
    "pd.Series(data='durga')"
   ]
  },
  {
   "cell_type": "code",
   "execution_count": 25,
   "id": "f6263f95",
   "metadata": {},
   "outputs": [
    {
     "name": "stdout",
     "output_type": "stream",
     "text": [
      "0    10\n",
      "1    20\n",
      "2    30\n",
      "dtype: int64\n",
      "0    10\n",
      "dtype: int64\n"
     ]
    }
   ],
   "source": [
    "s1 = pd.Series(data=np.array([10,20,30]))\n",
    "print(s1)\n"
   ]
  },
  {
   "cell_type": "code",
   "execution_count": 26,
   "id": "c93aa058",
   "metadata": {},
   "outputs": [
    {
     "name": "stdout",
     "output_type": "stream",
     "text": [
      "0    10\n",
      "dtype: int64\n"
     ]
    }
   ],
   "source": [
    "s2 = pd.Series(data=10)\n",
    "print(s2)"
   ]
  },
  {
   "cell_type": "code",
   "execution_count": 27,
   "id": "ea9e4bf3",
   "metadata": {},
   "outputs": [
    {
     "name": "stdout",
     "output_type": "stream",
     "text": [
      "0    Durga\n",
      "dtype: object\n"
     ]
    }
   ],
   "source": [
    "s3 = pd.Series(data='Durga')\n",
    "print(s3)"
   ]
  },
  {
   "cell_type": "markdown",
   "id": "f548a882",
   "metadata": {},
   "source": [
    "# 2. index parameter:\n",
    "The values need not be unique. If we are not using index, then pandas\n",
    "will generate default index labels which are integers starts from 0.\n",
    "The number of index values should be same as the number of values\n",
    "of data parameter."
   ]
  },
  {
   "cell_type": "code",
   "execution_count": 28,
   "id": "8098baa3",
   "metadata": {},
   "outputs": [
    {
     "name": "stdout",
     "output_type": "stream",
     "text": [
      "S     Sunny\n",
      "B     Bunny\n",
      "C    Chinny\n",
      "dtype: object\n"
     ]
    }
   ],
   "source": [
    "name_list = ['Sunny','Bunny','Chinny']\n",
    "s = pd.Series(data=name_list,index=['S','B','C'])\n",
    "print(s)"
   ]
  },
  {
   "cell_type": "markdown",
   "id": "defeba4f",
   "metadata": {},
   "source": [
    "Note:\n",
    "1. The number of data values and index values should be matched,\n",
    "otherwise error."
   ]
  },
  {
   "cell_type": "code",
   "execution_count": 30,
   "id": "fca8b85a",
   "metadata": {},
   "outputs": [
    {
     "ename": "ValueError",
     "evalue": "Length of values (3) does not match length of index (2)",
     "output_type": "error",
     "traceback": [
      "\u001b[0;31m---------------------------------------------------------------------------\u001b[0m",
      "\u001b[0;31mValueError\u001b[0m                                Traceback (most recent call last)",
      "Cell \u001b[0;32mIn[30], line 2\u001b[0m\n\u001b[1;32m      1\u001b[0m name_list \u001b[38;5;241m=\u001b[39m [\u001b[38;5;124m'\u001b[39m\u001b[38;5;124mSunny\u001b[39m\u001b[38;5;124m'\u001b[39m,\u001b[38;5;124m'\u001b[39m\u001b[38;5;124mBunny\u001b[39m\u001b[38;5;124m'\u001b[39m,\u001b[38;5;124m'\u001b[39m\u001b[38;5;124mChinny\u001b[39m\u001b[38;5;124m'\u001b[39m]\n\u001b[0;32m----> 2\u001b[0m s \u001b[38;5;241m=\u001b[39m pd\u001b[38;5;241m.\u001b[39mSeries(data\u001b[38;5;241m=\u001b[39mname_list,index\u001b[38;5;241m=\u001b[39m[\u001b[38;5;124m'\u001b[39m\u001b[38;5;124mS\u001b[39m\u001b[38;5;124m'\u001b[39m,\u001b[38;5;124m'\u001b[39m\u001b[38;5;124mB\u001b[39m\u001b[38;5;124m'\u001b[39m])\n\u001b[1;32m      3\u001b[0m \u001b[38;5;28mprint\u001b[39m(s)\n",
      "File \u001b[0;32m~/anaconda3/lib/python3.11/site-packages/pandas/core/series.py:461\u001b[0m, in \u001b[0;36mSeries.__init__\u001b[0;34m(self, data, index, dtype, name, copy, fastpath)\u001b[0m\n\u001b[1;32m    459\u001b[0m     index \u001b[38;5;241m=\u001b[39m default_index(\u001b[38;5;28mlen\u001b[39m(data))\n\u001b[1;32m    460\u001b[0m \u001b[38;5;28;01melif\u001b[39;00m is_list_like(data):\n\u001b[0;32m--> 461\u001b[0m     com\u001b[38;5;241m.\u001b[39mrequire_length_match(data, index)\n\u001b[1;32m    463\u001b[0m \u001b[38;5;66;03m# create/copy the manager\u001b[39;00m\n\u001b[1;32m    464\u001b[0m \u001b[38;5;28;01mif\u001b[39;00m \u001b[38;5;28misinstance\u001b[39m(data, (SingleBlockManager, SingleArrayManager)):\n",
      "File \u001b[0;32m~/anaconda3/lib/python3.11/site-packages/pandas/core/common.py:571\u001b[0m, in \u001b[0;36mrequire_length_match\u001b[0;34m(data, index)\u001b[0m\n\u001b[1;32m    567\u001b[0m \u001b[38;5;250m\u001b[39m\u001b[38;5;124;03m\"\"\"\u001b[39;00m\n\u001b[1;32m    568\u001b[0m \u001b[38;5;124;03mCheck the length of data matches the length of the index.\u001b[39;00m\n\u001b[1;32m    569\u001b[0m \u001b[38;5;124;03m\"\"\"\u001b[39;00m\n\u001b[1;32m    570\u001b[0m \u001b[38;5;28;01mif\u001b[39;00m \u001b[38;5;28mlen\u001b[39m(data) \u001b[38;5;241m!=\u001b[39m \u001b[38;5;28mlen\u001b[39m(index):\n\u001b[0;32m--> 571\u001b[0m     \u001b[38;5;28;01mraise\u001b[39;00m \u001b[38;5;167;01mValueError\u001b[39;00m(\n\u001b[1;32m    572\u001b[0m         \u001b[38;5;124m\"\u001b[39m\u001b[38;5;124mLength of values \u001b[39m\u001b[38;5;124m\"\u001b[39m\n\u001b[1;32m    573\u001b[0m         \u001b[38;5;124mf\u001b[39m\u001b[38;5;124m\"\u001b[39m\u001b[38;5;124m(\u001b[39m\u001b[38;5;132;01m{\u001b[39;00m\u001b[38;5;28mlen\u001b[39m(data)\u001b[38;5;132;01m}\u001b[39;00m\u001b[38;5;124m) \u001b[39m\u001b[38;5;124m\"\u001b[39m\n\u001b[1;32m    574\u001b[0m         \u001b[38;5;124m\"\u001b[39m\u001b[38;5;124mdoes not match length of index \u001b[39m\u001b[38;5;124m\"\u001b[39m\n\u001b[1;32m    575\u001b[0m         \u001b[38;5;124mf\u001b[39m\u001b[38;5;124m\"\u001b[39m\u001b[38;5;124m(\u001b[39m\u001b[38;5;132;01m{\u001b[39;00m\u001b[38;5;28mlen\u001b[39m(index)\u001b[38;5;132;01m}\u001b[39;00m\u001b[38;5;124m)\u001b[39m\u001b[38;5;124m\"\u001b[39m\n\u001b[1;32m    576\u001b[0m     )\n",
      "\u001b[0;31mValueError\u001b[0m: Length of values (3) does not match length of index (2)"
     ]
    }
   ],
   "source": [
    "name_list = ['Sunny','Bunny','Chinny']\n",
    "s = pd.Series(data=name_list,index=['S','B'])\n",
    "print(s)\n",
    "# ValueError: Length of values (3) does not match length of index (2)"
   ]
  },
  {
   "cell_type": "code",
   "execution_count": 31,
   "id": "f7004b60",
   "metadata": {},
   "outputs": [
    {
     "name": "stdout",
     "output_type": "stream",
     "text": [
      "S     Sunny\n",
      "B     Bunny\n",
      "C    Chinny\n",
      "B     Binny\n",
      "dtype: object\n"
     ]
    }
   ],
   "source": [
    "# 2. Duplicate index labels possible\n",
    "name_list = ['Sunny','Bunny','Chinny','Binny']\n",
    "s = pd.Series(data=name_list,index=['S','B','C','B'])\n",
    "print(s)"
   ]
  },
  {
   "cell_type": "code",
   "execution_count": 32,
   "id": "b9930441",
   "metadata": {},
   "outputs": [
    {
     "name": "stdout",
     "output_type": "stream",
     "text": [
      "S    Sunny\n",
      "B    Bunny\n",
      "dtype: object\n"
     ]
    }
   ],
   "source": [
    "# 3. If data is dict, then matched indexes only will be considered from\n",
    "# the dict.\n",
    "name_dict = {'S':'Sunny','B':'Bunny','C':'Chinny','N':'Nikhil'}\n",
    "s = pd.Series(data=name_dict,index=['S','B'])\n",
    "print(s)"
   ]
  },
  {
   "cell_type": "code",
   "execution_count": 33,
   "id": "0335cc81",
   "metadata": {},
   "outputs": [
    {
     "name": "stdout",
     "output_type": "stream",
     "text": [
      "S    Sunny\n",
      "B    Bunny\n",
      "A      NaN\n",
      "B    Bunny\n",
      "dtype: object\n"
     ]
    }
   ],
   "source": [
    "name_dict = {'S':'Sunny','B':'Bunny','C':'Chinny','N':'Nikhil'}\n",
    "s = pd.Series(data=name_dict,index=['S','B','A','B'])\n",
    "print(s)"
   ]
  },
  {
   "cell_type": "code",
   "execution_count": 34,
   "id": "ac80b700",
   "metadata": {},
   "outputs": [
    {
     "data": {
      "text/plain": [
       "x   NaN\n",
       "y   NaN\n",
       "z   NaN\n",
       "dtype: float64"
      ]
     },
     "execution_count": 34,
     "metadata": {},
     "output_type": "execute_result"
    }
   ],
   "source": [
    "d = {'a': 1, 'b': 2, 'c': 3}\n",
    "ser = pd.Series(data=d, index=['x', 'y', 'z'])\n",
    "ser #Note that the Index is first build with the keys from the dictionary."
   ]
  },
  {
   "cell_type": "code",
   "execution_count": null,
   "id": "69aace9a",
   "metadata": {},
   "outputs": [],
   "source": []
  },
  {
   "cell_type": "code",
   "execution_count": null,
   "id": "b8262857",
   "metadata": {},
   "outputs": [],
   "source": []
  }
 ],
 "metadata": {
  "kernelspec": {
   "display_name": "Python 3 (ipykernel)",
   "language": "python",
   "name": "python3"
  },
  "language_info": {
   "codemirror_mode": {
    "name": "ipython",
    "version": 3
   },
   "file_extension": ".py",
   "mimetype": "text/x-python",
   "name": "python",
   "nbconvert_exporter": "python",
   "pygments_lexer": "ipython3",
   "version": "3.11.4"
  }
 },
 "nbformat": 4,
 "nbformat_minor": 5
}
