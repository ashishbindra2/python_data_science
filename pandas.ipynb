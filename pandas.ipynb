{
 "cells": [
  {
   "cell_type": "markdown",
   "id": "b9137d60",
   "metadata": {},
   "source": [
    "It allows fast analysis, data cleaning and preparation"
   ]
  },
  {
   "cell_type": "code",
   "execution_count": 2,
   "id": "74efc8da",
   "metadata": {},
   "outputs": [
    {
     "data": {
      "text/plain": [
       "'2.0.3'"
      ]
     },
     "execution_count": 2,
     "metadata": {},
     "output_type": "execute_result"
    }
   ],
   "source": [
    "import pandas as pd\n",
    "pd.__version__"
   ]
  },
  {
   "cell_type": "markdown",
   "id": "31af732d",
   "metadata": {},
   "source": [
    "Important data structures\n",
    "- series\n",
    "- DataFrames\n"
   ]
  },
  {
   "cell_type": "markdown",
   "id": "d1a8e9e8",
   "metadata": {},
   "source": [
    "Series\n",
    "- It is one-dimentional labeled arrays"
   ]
  },
  {
   "cell_type": "code",
   "execution_count": 4,
   "id": "33988940",
   "metadata": {},
   "outputs": [
    {
     "name": "stdout",
     "output_type": "stream",
     "text": [
      "0         python\n",
      "1           java\n",
      "2    datascience\n",
      "dtype: object\n"
     ]
    }
   ],
   "source": [
    "# creation of Series from the pyhton list\n",
    "books_list = ['python','java','datascience']\n",
    "s= pd.Series(books_list) # series is class\n",
    "print(s)\n",
    "# bydefault index (labels) are zero"
   ]
  },
  {
   "cell_type": "code",
   "execution_count": 6,
   "id": "12fd9e55",
   "metadata": {},
   "outputs": [
    {
     "name": "stdout",
     "output_type": "stream",
     "text": [
      "0    70\n",
      "1    80\n",
      "2    90\n",
      "dtype: int64\n"
     ]
    }
   ],
   "source": [
    "# eg-2:\n",
    "import pandas as pd\n",
    "marks_list = [70,80,90]\n",
    "s = pd.Series(marks_list)\n",
    "print(s)"
   ]
  },
  {
   "cell_type": "code",
   "execution_count": 7,
   "id": "00aca22b",
   "metadata": {},
   "outputs": [
    {
     "name": "stdout",
     "output_type": "stream",
     "text": [
      "0    1000.5\n",
      "1    2000.6\n",
      "2    3000.7\n",
      "dtype: float64\n"
     ]
    }
   ],
   "source": [
    "import pandas as pd\n",
    "salaries_list = [1000.5,2000.6,3000.7]\n",
    "s = pd.Series(salaries_list)\n",
    "print(s)"
   ]
  },
  {
   "cell_type": "code",
   "execution_count": 8,
   "id": "dfa52350",
   "metadata": {},
   "outputs": [
    {
     "name": "stdout",
     "output_type": "stream",
     "text": [
      "0       10\n",
      "1    durga\n",
      "2     10.5\n",
      "3     True\n",
      "dtype: object\n"
     ]
    }
   ],
   "source": [
    "import pandas as pd\n",
    "hetero_list = [10,'durga',10.5,True]\n",
    "s = pd.Series(hetero_list)\n",
    "print(s)"
   ]
  },
  {
   "cell_type": "markdown",
   "id": "0fb69162",
   "metadata": {},
   "source": [
    "***Note:*** The values in Series can be any type even heterogeneous also."
   ]
  },
  {
   "cell_type": "code",
   "execution_count": 5,
   "id": "9cdbc726",
   "metadata": {},
   "outputs": [
    {
     "name": "stdout",
     "output_type": "stream",
     "text": [
      "0    python\n",
      "1      java\n",
      "2      mava\n",
      "dtype: object\n"
     ]
    }
   ],
   "source": [
    "# Creation of series from python dict\n",
    "books_dict = {0:\"python\",1:\"java\",2:\"mava\"}\n",
    "d = pd.Series(books_dict)\n",
    "print(d)"
   ]
  },
  {
   "cell_type": "code",
   "execution_count": 9,
   "id": "d6bde2eb",
   "metadata": {
    "scrolled": true
   },
   "outputs": [
    {
     "name": "stdout",
     "output_type": "stream",
     "text": [
      "Book-1         Python\n",
      "Book-2           Java\n",
      "Book-3    DataScience\n",
      "dtype: object\n"
     ]
    }
   ],
   "source": [
    "# eg-2:\n",
    "import pandas as pd\n",
    "books_dict = {'Book-1':'Python','Book-2':'Java','Book-3':'DataScience'}\n",
    "s = pd.Series(books_dict)\n",
    "print(s)"
   ]
  },
  {
   "cell_type": "code",
   "execution_count": 12,
   "id": "cb32c51d",
   "metadata": {
    "scrolled": true
   },
   "outputs": [
    {
     "name": "stdout",
     "output_type": "stream",
     "text": [
      "Book-1         Python\n",
      "10                 20\n",
      "10.5             20.3\n",
      "Book-3    DataScience\n",
      "dtype: object\n"
     ]
    }
   ],
   "source": [
    "import pandas as pd\n",
    "books_dict = {'Book-1':'Python',10:20,10.5:20.6,'Book-3':'DataScience',10.5:20.3}\n",
    "s = pd.Series(books_dict)\n",
    "print(s)"
   ]
  },
  {
   "cell_type": "markdown",
   "id": "5dee4be1",
   "metadata": {},
   "source": [
    "***Note:***\n",
    "1. Index labels and values need not be homogeneneous.\n",
    "2. Index labels need not be unique."
   ]
  },
  {
   "cell_type": "markdown",
   "id": "f29662d6",
   "metadata": {},
   "source": [
    "# Series class\n",
    "class Series(base.IndexOpsMixin, generic.NDFrame):\n",
    "\"\"\"\n",
    "One-dimensional ndarray with axis labels (including time series).\n",
    "Parameters\n",
    "----------\n",
    "data : array-like, Iterable, dict, or scalar value"
   ]
  },
  {
   "cell_type": "code",
   "execution_count": 14,
   "id": "0f93d58b",
   "metadata": {},
   "outputs": [
    {
     "data": {
      "text/plain": [
       "a    1\n",
       "b    2\n",
       "c    3\n",
       "dtype: int64"
      ]
     },
     "execution_count": 14,
     "metadata": {},
     "output_type": "execute_result"
    }
   ],
   "source": [
    "# Constructing Series from a dictionary with an\n",
    "d = {'a': 1, 'b': 2, 'c': 3}\n",
    "ser = pd.Series(data=d, index=['a', 'b', 'c'])\n",
    "ser\n"
   ]
  },
  {
   "cell_type": "code",
   "execution_count": 3,
   "id": "173765f4",
   "metadata": {},
   "outputs": [
    {
     "data": {
      "text/plain": [
       "a    1\n",
       "c    3\n",
       "dtype: int64"
      ]
     },
     "execution_count": 3,
     "metadata": {},
     "output_type": "execute_result"
    }
   ],
   "source": [
    "# Constructing Series from a dictionary with an\n",
    "d = {'a': 1, 'b': 2, 'c': 3}\n",
    "ser = pd.Series(data=d, index=['a', 'c'])\n",
    "ser\n"
   ]
  },
  {
   "cell_type": "code",
   "execution_count": 16,
   "id": "805f2082",
   "metadata": {},
   "outputs": [
    {
     "data": {
      "text/plain": [
       "x   NaN\n",
       "y   NaN\n",
       "z   NaN\n",
       "dtype: float64"
      ]
     },
     "execution_count": 16,
     "metadata": {},
     "output_type": "execute_result"
    }
   ],
   "source": [
    "d = {'a': 1, 'b': 2, 'c': 3}\n",
    "ser = pd.Series(data=d, index=['x', 'y', 'z'])\n",
    "ser"
   ]
  },
  {
   "cell_type": "markdown",
   "id": "a5785985",
   "metadata": {},
   "source": [
    "**Note**\n",
    "that the Index is first build with the keys from the dictionary.\n",
    "After this the Series is reindexed with the given Index values, hence\n",
    "we get all NaN as a result."
   ]
  },
  {
   "cell_type": "code",
   "execution_count": 18,
   "id": "cbad365c",
   "metadata": {},
   "outputs": [
    {
     "data": {
      "text/plain": [
       "b    2\n",
       "a    1\n",
       "c    3\n",
       "dtype: int64"
      ]
     },
     "execution_count": 18,
     "metadata": {},
     "output_type": "execute_result"
    }
   ],
   "source": [
    "d = {'a': 1, 'b': 2, 'c': 3}\n",
    "ser = pd.Series(data=d, index=['b', 'a', 'c'])\n",
    "ser\n"
   ]
  },
  {
   "cell_type": "code",
   "execution_count": 19,
   "id": "a82860a6",
   "metadata": {},
   "outputs": [
    {
     "data": {
      "text/plain": [
       "[1, 2]"
      ]
     },
     "execution_count": 19,
     "metadata": {},
     "output_type": "execute_result"
    }
   ],
   "source": [
    "# Constructing Series from a list with `copy=False`.\n",
    "r = [1, 2]\n",
    "ser = pd.Series(r, copy=False)\n",
    "ser.iloc[0] = 999\n",
    "r\n",
    "# Due to input data type the Series has a `copy` of\n",
    "# 11the original data even though `copy=False`, so\n",
    "# the data is unchanged."
   ]
  },
  {
   "cell_type": "markdown",
   "id": "d812bddb",
   "metadata": {},
   "source": [
    "The 5 Parameters of Series Constructor:\n",
    "----------------------------------------\n",
    "1. data parameter\n",
    "2. index parameter\n",
    "3. dtype parameter\n",
    "4. name parameter\n",
    "5. copy parameter"
   ]
  },
  {
   "cell_type": "code",
   "execution_count": 21,
   "id": "b1672083",
   "metadata": {},
   "outputs": [
    {
     "name": "stdout",
     "output_type": "stream",
     "text": [
      "Book-1         Python\n",
      "10                 20\n",
      "10.5             20.6\n",
      "Book-3    DataScience\n",
      "dtype: object\n"
     ]
    }
   ],
   "source": [
    "# 1. data parameter:\n",
    "books_dict = {'Book-1':'Python',10:20,10.5:20.6,'Book-3':'DataScience'}\n",
    "s = pd.Series(data=books_dict)\n",
    "print(s)"
   ]
  },
  {
   "cell_type": "code",
   "execution_count": 23,
   "id": "4a1042a1",
   "metadata": {},
   "outputs": [
    {
     "data": {
      "text/plain": [
       "0    durga\n",
       "dtype: object"
      ]
     },
     "execution_count": 23,
     "metadata": {},
     "output_type": "execute_result"
    }
   ],
   "source": [
    "# Note:\n",
    "# The following are valid.\n",
    "import numpy as np\n",
    "pd.Series(data=[10,20,30])\n",
    "pd.Series(data={0:'A',1:'B',2:'C'})\n",
    "pd.Series(data={'A':'Apple','B':'Ball','C':'Cat'})\n",
    "pd.Series(data=np.array([10,20,30]))\n",
    "pd.Series(data=10)\n",
    "pd.Series(data='durga')"
   ]
  },
  {
   "cell_type": "code",
   "execution_count": 25,
   "id": "f6263f95",
   "metadata": {},
   "outputs": [
    {
     "name": "stdout",
     "output_type": "stream",
     "text": [
      "0    10\n",
      "1    20\n",
      "2    30\n",
      "dtype: int64\n",
      "0    10\n",
      "dtype: int64\n"
     ]
    }
   ],
   "source": [
    "s1 = pd.Series(data=np.array([10,20,30]))\n",
    "print(s1)\n"
   ]
  },
  {
   "cell_type": "code",
   "execution_count": 26,
   "id": "c93aa058",
   "metadata": {},
   "outputs": [
    {
     "name": "stdout",
     "output_type": "stream",
     "text": [
      "0    10\n",
      "dtype: int64\n"
     ]
    }
   ],
   "source": [
    "s2 = pd.Series(data=10)\n",
    "print(s2)"
   ]
  },
  {
   "cell_type": "code",
   "execution_count": 27,
   "id": "ea9e4bf3",
   "metadata": {},
   "outputs": [
    {
     "name": "stdout",
     "output_type": "stream",
     "text": [
      "0    Durga\n",
      "dtype: object\n"
     ]
    }
   ],
   "source": [
    "s3 = pd.Series(data='Durga')\n",
    "print(s3)"
   ]
  },
  {
   "cell_type": "markdown",
   "id": "f548a882",
   "metadata": {},
   "source": [
    "# 2. index parameter:\n",
    "The values need not be unique. If we are not using index, then pandas\n",
    "will generate default index labels which are integers starts from 0.\n",
    "The number of index values should be same as the number of values\n",
    "of data parameter."
   ]
  },
  {
   "cell_type": "code",
   "execution_count": 28,
   "id": "8098baa3",
   "metadata": {},
   "outputs": [
    {
     "name": "stdout",
     "output_type": "stream",
     "text": [
      "S     Sunny\n",
      "B     Bunny\n",
      "C    Chinny\n",
      "dtype: object\n"
     ]
    }
   ],
   "source": [
    "name_list = ['Sunny','Bunny','Chinny']\n",
    "s = pd.Series(data=name_list,index=['S','B','C'])\n",
    "print(s)"
   ]
  },
  {
   "cell_type": "markdown",
   "id": "defeba4f",
   "metadata": {},
   "source": [
    "Note:\n",
    "1. The number of data values and index values should be matched,\n",
    "otherwise error."
   ]
  },
  {
   "cell_type": "code",
   "execution_count": 30,
   "id": "fca8b85a",
   "metadata": {},
   "outputs": [
    {
     "ename": "ValueError",
     "evalue": "Length of values (3) does not match length of index (2)",
     "output_type": "error",
     "traceback": [
      "\u001b[0;31m---------------------------------------------------------------------------\u001b[0m",
      "\u001b[0;31mValueError\u001b[0m                                Traceback (most recent call last)",
      "Cell \u001b[0;32mIn[30], line 2\u001b[0m\n\u001b[1;32m      1\u001b[0m name_list \u001b[38;5;241m=\u001b[39m [\u001b[38;5;124m'\u001b[39m\u001b[38;5;124mSunny\u001b[39m\u001b[38;5;124m'\u001b[39m,\u001b[38;5;124m'\u001b[39m\u001b[38;5;124mBunny\u001b[39m\u001b[38;5;124m'\u001b[39m,\u001b[38;5;124m'\u001b[39m\u001b[38;5;124mChinny\u001b[39m\u001b[38;5;124m'\u001b[39m]\n\u001b[0;32m----> 2\u001b[0m s \u001b[38;5;241m=\u001b[39m pd\u001b[38;5;241m.\u001b[39mSeries(data\u001b[38;5;241m=\u001b[39mname_list,index\u001b[38;5;241m=\u001b[39m[\u001b[38;5;124m'\u001b[39m\u001b[38;5;124mS\u001b[39m\u001b[38;5;124m'\u001b[39m,\u001b[38;5;124m'\u001b[39m\u001b[38;5;124mB\u001b[39m\u001b[38;5;124m'\u001b[39m])\n\u001b[1;32m      3\u001b[0m \u001b[38;5;28mprint\u001b[39m(s)\n",
      "File \u001b[0;32m~/anaconda3/lib/python3.11/site-packages/pandas/core/series.py:461\u001b[0m, in \u001b[0;36mSeries.__init__\u001b[0;34m(self, data, index, dtype, name, copy, fastpath)\u001b[0m\n\u001b[1;32m    459\u001b[0m     index \u001b[38;5;241m=\u001b[39m default_index(\u001b[38;5;28mlen\u001b[39m(data))\n\u001b[1;32m    460\u001b[0m \u001b[38;5;28;01melif\u001b[39;00m is_list_like(data):\n\u001b[0;32m--> 461\u001b[0m     com\u001b[38;5;241m.\u001b[39mrequire_length_match(data, index)\n\u001b[1;32m    463\u001b[0m \u001b[38;5;66;03m# create/copy the manager\u001b[39;00m\n\u001b[1;32m    464\u001b[0m \u001b[38;5;28;01mif\u001b[39;00m \u001b[38;5;28misinstance\u001b[39m(data, (SingleBlockManager, SingleArrayManager)):\n",
      "File \u001b[0;32m~/anaconda3/lib/python3.11/site-packages/pandas/core/common.py:571\u001b[0m, in \u001b[0;36mrequire_length_match\u001b[0;34m(data, index)\u001b[0m\n\u001b[1;32m    567\u001b[0m \u001b[38;5;250m\u001b[39m\u001b[38;5;124;03m\"\"\"\u001b[39;00m\n\u001b[1;32m    568\u001b[0m \u001b[38;5;124;03mCheck the length of data matches the length of the index.\u001b[39;00m\n\u001b[1;32m    569\u001b[0m \u001b[38;5;124;03m\"\"\"\u001b[39;00m\n\u001b[1;32m    570\u001b[0m \u001b[38;5;28;01mif\u001b[39;00m \u001b[38;5;28mlen\u001b[39m(data) \u001b[38;5;241m!=\u001b[39m \u001b[38;5;28mlen\u001b[39m(index):\n\u001b[0;32m--> 571\u001b[0m     \u001b[38;5;28;01mraise\u001b[39;00m \u001b[38;5;167;01mValueError\u001b[39;00m(\n\u001b[1;32m    572\u001b[0m         \u001b[38;5;124m\"\u001b[39m\u001b[38;5;124mLength of values \u001b[39m\u001b[38;5;124m\"\u001b[39m\n\u001b[1;32m    573\u001b[0m         \u001b[38;5;124mf\u001b[39m\u001b[38;5;124m\"\u001b[39m\u001b[38;5;124m(\u001b[39m\u001b[38;5;132;01m{\u001b[39;00m\u001b[38;5;28mlen\u001b[39m(data)\u001b[38;5;132;01m}\u001b[39;00m\u001b[38;5;124m) \u001b[39m\u001b[38;5;124m\"\u001b[39m\n\u001b[1;32m    574\u001b[0m         \u001b[38;5;124m\"\u001b[39m\u001b[38;5;124mdoes not match length of index \u001b[39m\u001b[38;5;124m\"\u001b[39m\n\u001b[1;32m    575\u001b[0m         \u001b[38;5;124mf\u001b[39m\u001b[38;5;124m\"\u001b[39m\u001b[38;5;124m(\u001b[39m\u001b[38;5;132;01m{\u001b[39;00m\u001b[38;5;28mlen\u001b[39m(index)\u001b[38;5;132;01m}\u001b[39;00m\u001b[38;5;124m)\u001b[39m\u001b[38;5;124m\"\u001b[39m\n\u001b[1;32m    576\u001b[0m     )\n",
      "\u001b[0;31mValueError\u001b[0m: Length of values (3) does not match length of index (2)"
     ]
    }
   ],
   "source": [
    "name_list = ['Sunny','Bunny','Chinny']\n",
    "s = pd.Series(data=name_list,index=['S','B'])\n",
    "print(s)\n",
    "# ValueError: Length of values (3) does not match length of index (2)"
   ]
  },
  {
   "cell_type": "code",
   "execution_count": 31,
   "id": "f7004b60",
   "metadata": {},
   "outputs": [
    {
     "name": "stdout",
     "output_type": "stream",
     "text": [
      "S     Sunny\n",
      "B     Bunny\n",
      "C    Chinny\n",
      "B     Binny\n",
      "dtype: object\n"
     ]
    }
   ],
   "source": [
    "# 2. Duplicate index labels possible\n",
    "name_list = ['Sunny','Bunny','Chinny','Binny']\n",
    "s = pd.Series(data=name_list,index=['S','B','C','B'])\n",
    "print(s)"
   ]
  },
  {
   "cell_type": "code",
   "execution_count": 32,
   "id": "b9930441",
   "metadata": {},
   "outputs": [
    {
     "name": "stdout",
     "output_type": "stream",
     "text": [
      "S    Sunny\n",
      "B    Bunny\n",
      "dtype: object\n"
     ]
    }
   ],
   "source": [
    "# 3. If data is dict, then matched indexes only will be considered from\n",
    "# the dict.\n",
    "name_dict = {'S':'Sunny','B':'Bunny','C':'Chinny','N':'Nikhil'}\n",
    "s = pd.Series(data=name_dict,index=['S','B'])\n",
    "print(s)"
   ]
  },
  {
   "cell_type": "code",
   "execution_count": 33,
   "id": "0335cc81",
   "metadata": {},
   "outputs": [
    {
     "name": "stdout",
     "output_type": "stream",
     "text": [
      "S    Sunny\n",
      "B    Bunny\n",
      "A      NaN\n",
      "B    Bunny\n",
      "dtype: object\n"
     ]
    }
   ],
   "source": [
    "name_dict = {'S':'Sunny','B':'Bunny','C':'Chinny','N':'Nikhil'}\n",
    "s = pd.Series(data=name_dict,index=['S','B','A','B'])\n",
    "print(s)"
   ]
  },
  {
   "cell_type": "code",
   "execution_count": 34,
   "id": "ac80b700",
   "metadata": {},
   "outputs": [
    {
     "data": {
      "text/plain": [
       "x   NaN\n",
       "y   NaN\n",
       "z   NaN\n",
       "dtype: float64"
      ]
     },
     "execution_count": 34,
     "metadata": {},
     "output_type": "execute_result"
    }
   ],
   "source": [
    "d = {'a': 1, 'b': 2, 'c': 3}\n",
    "ser = pd.Series(data=d, index=['x', 'y', 'z'])\n",
    "ser #Note that the Index is first build with the keys from the dictionary."
   ]
  },
  {
   "cell_type": "markdown",
   "id": "91850af1",
   "metadata": {},
   "source": [
    "RangeIndex:\n",
    "-----------\n",
    "If we are not providing index parameter, then pandas will consider\n",
    "default index values from RangeIndex (0, 1, 2, ..., n) object internally."
   ]
  },
  {
   "cell_type": "code",
   "execution_count": 1,
   "id": "b8262857",
   "metadata": {
    "scrolled": true
   },
   "outputs": [
    {
     "name": "stdout",
     "output_type": "stream",
     "text": [
      "RangeIndex(start=0, stop=4, step=1)\n"
     ]
    }
   ],
   "source": [
    "import pandas as pd\n",
    "name_list = ['Sunny','Bunny','Chinny','Binny']\n",
    "s = pd.Series(data=name_list)\n",
    "print(s.index) #RangeIndex(start=0, stop=4, step=1)"
   ]
  },
  {
   "cell_type": "code",
   "execution_count": 2,
   "id": "02b98f37",
   "metadata": {},
   "outputs": [
    {
     "name": "stdout",
     "output_type": "stream",
     "text": [
      "RangeIndex(start=10, stop=14, step=1)\n",
      "10     Sunny\n",
      "11     Bunny\n",
      "12    Chinny\n",
      "13     Binny\n",
      "dtype: object\n"
     ]
    }
   ],
   "source": [
    "name_list = ['Sunny','Bunny','Chinny','Binny']\n",
    "s = pd.Series(data=name_list)\n",
    "s.index = pd.RangeIndex(start=10,stop=14,step=1)\n",
    "print(s.index)\n",
    "print(s)"
   ]
  },
  {
   "cell_type": "code",
   "execution_count": 3,
   "id": "48162975",
   "metadata": {},
   "outputs": [
    {
     "name": "stdout",
     "output_type": "stream",
     "text": [
      "RangeIndex(start=10, stop=17, step=2)\n",
      "10     Sunny\n",
      "12     Bunny\n",
      "14    Chinny\n",
      "16     Binny\n",
      "dtype: object\n"
     ]
    }
   ],
   "source": [
    "name_list = ['Sunny','Bunny','Chinny','Binny']\n",
    "s = pd.Series(data=name_list)\n",
    "s.index = pd.RangeIndex(start=10,stop=17,step=2)\n",
    "print(s.index)\n",
    "print(s)"
   ]
  },
  {
   "cell_type": "markdown",
   "id": "705cc0a5",
   "metadata": {},
   "source": [
    "3. dtype parameter:\n",
    "-------------------\n",
    "We can use dtype parameter to specify data type for the output\n",
    "Series."
   ]
  },
  {
   "cell_type": "code",
   "execution_count": 4,
   "id": "43d439a9",
   "metadata": {},
   "outputs": [
    {
     "name": "stdout",
     "output_type": "stream",
     "text": [
      "0    10.0\n",
      "1    20.0\n",
      "2    30.0\n",
      "3    40.0\n",
      "dtype: float64\n"
     ]
    }
   ],
   "source": [
    "num_list = [10,20,30,40]\n",
    "s = pd.Series(data=num_list,dtype='float')\n",
    "print(s)"
   ]
  },
  {
   "cell_type": "code",
   "execution_count": 5,
   "id": "b83f91ab",
   "metadata": {},
   "outputs": [
    {
     "name": "stdout",
     "output_type": "stream",
     "text": [
      "0     True\n",
      "1     True\n",
      "2     True\n",
      "3     True\n",
      "4    False\n",
      "dtype: bool\n"
     ]
    }
   ],
   "source": [
    "num_list = [10,20,30,40,0]\n",
    "s = pd.Series(data=num_list,dtype='bool')\n",
    "print(s)"
   ]
  },
  {
   "cell_type": "code",
   "execution_count": 6,
   "id": "3974a797",
   "metadata": {},
   "outputs": [
    {
     "name": "stdout",
     "output_type": "stream",
     "text": [
      "0    10\n",
      "1    20\n",
      "2    30\n",
      "3    40\n",
      "4     0\n",
      "dtype: object\n"
     ]
    }
   ],
   "source": [
    "num_list = [10,20,30,40,0]\n",
    "s = pd.Series(data=num_list,dtype='str')\n",
    "print(s)"
   ]
  },
  {
   "cell_type": "markdown",
   "id": "c4934823",
   "metadata": {},
   "source": [
    "4. name parameter:\n",
    "------------------\n",
    "We can assign name also to the Series. For this we have to use name\n",
    "parameter. The default name is None."
   ]
  },
  {
   "cell_type": "code",
   "execution_count": 7,
   "id": "d04ee156",
   "metadata": {},
   "outputs": [
    {
     "name": "stdout",
     "output_type": "stream",
     "text": [
      "None\n"
     ]
    }
   ],
   "source": [
    "import pandas as pd\n",
    "\n",
    "num_list = [10,20,30,40,0]\n",
    "s = pd.Series(data=num_list)\n",
    "\n",
    "print(s.name) #None"
   ]
  },
  {
   "cell_type": "code",
   "execution_count": 8,
   "id": "12ed51d2",
   "metadata": {},
   "outputs": [
    {
     "name": "stdout",
     "output_type": "stream",
     "text": [
      "0    10\n",
      "1    20\n",
      "2    30\n",
      "3    40\n",
      "4     0\n",
      "Name: My Favourite Numbers, dtype: int64\n"
     ]
    }
   ],
   "source": [
    "import pandas as pd\n",
    "\n",
    "num_list = [10,20,30,40,0]\n",
    "s = pd.Series(data=num_list,name='My Favourite Numbers')\n",
    "\n",
    "#print(s.name) #My Favourite Numbers\n",
    "print(s)"
   ]
  },
  {
   "cell_type": "code",
   "execution_count": 10,
   "id": "e540c1c7",
   "metadata": {},
   "outputs": [
    {
     "data": {
      "text/plain": [
       "'ugly number'"
      ]
     },
     "execution_count": 10,
     "metadata": {},
     "output_type": "execute_result"
    }
   ],
   "source": [
    "s.name = \"ugly number\"\n",
    "s.name"
   ]
  },
  {
   "cell_type": "code",
   "execution_count": 13,
   "id": "c251c070",
   "metadata": {},
   "outputs": [
    {
     "name": "stdout",
     "output_type": "stream",
     "text": [
      "0    10\n",
      "1    20\n",
      "2    30\n",
      "3    40\n",
      "4     0\n",
      "Name: My Favourite Numbers, dtype: int64\n"
     ]
    }
   ],
   "source": [
    "import pandas as pd\n",
    "num_list = [10,20,30,40,0]\n",
    "s = pd.Series(data=num_list)\n",
    "s.name='My Favourite Numbers'\n",
    "print(s)"
   ]
  },
  {
   "cell_type": "markdown",
   "id": "bde37fb8",
   "metadata": {},
   "source": [
    "Setting Name to the indexes:\n",
    "----------------------------\n",
    "We can also set name to the indexes.\n",
    "s.index.name = 'Default Indexes"
   ]
  },
  {
   "cell_type": "code",
   "execution_count": 14,
   "id": "b810edcd",
   "metadata": {},
   "outputs": [
    {
     "name": "stdout",
     "output_type": "stream",
     "text": [
      "Default Indexes\n",
      "0    10\n",
      "1    20\n",
      "2    30\n",
      "3    40\n",
      "4     0\n",
      "Name: My Favourite Numbers, dtype: int64\n"
     ]
    }
   ],
   "source": [
    "import pandas as pd\n",
    "\n",
    "num_list = [10,20,30,40,0]\n",
    "\n",
    "s = pd.Series(data=num_list)\n",
    "\n",
    "s.name='My Favourite Numbers'\n",
    "s.index.name = 'Default Indexes'\n",
    "\n",
    "print(s)"
   ]
  },
  {
   "cell_type": "markdown",
   "id": "85f6a283",
   "metadata": {},
   "source": [
    "### 5. copy parameter:\n",
    "-------------------\n",
    "This parameter decides whether it is required to create View or Copy.\n",
    "The default value is False, ie new object won't be created.\n",
    "It is applicable only for ndarray input."
   ]
  },
  {
   "cell_type": "code",
   "execution_count": 15,
   "id": "3d8b1996",
   "metadata": {},
   "outputs": [
    {
     "name": "stdout",
     "output_type": "stream",
     "text": [
      "0    999\n",
      "1     20\n",
      "dtype: int64\n",
      "[10, 20]\n"
     ]
    }
   ],
   "source": [
    "# Even we changed Series content, that change not reflected to the list input.\n",
    "\n",
    "import pandas as pd\n",
    "import numpy as np\n",
    "\n",
    "num_list = [10,20]\n",
    "\n",
    "s = pd.Series(data=num_list,copy=False)\n",
    "s.iloc[0]=999\n",
    "\n",
    "print(s)\n",
    "print(num_list)"
   ]
  },
  {
   "cell_type": "code",
   "execution_count": 18,
   "id": "dd95d36b",
   "metadata": {},
   "outputs": [
    {
     "name": "stdout",
     "output_type": "stream",
     "text": [
      "0    999\n",
      "1     20\n",
      "dtype: int32\n",
      "[999  20]\n"
     ]
    }
   ],
   "source": [
    "# The changes of Series object reflected automatically inside ndarray input.\n",
    "# eg-2: For ndarray input\n",
    "import pandas as pd\n",
    "import numpy as np\n",
    "\n",
    "arr = np.array([10,20])\n",
    "s = pd.Series(data=arr,copy=False)\n",
    "s.iloc[0]=999\n",
    "\n",
    "print(s)\n",
    "print(arr)"
   ]
  },
  {
   "cell_type": "code",
   "execution_count": 19,
   "id": "92182183",
   "metadata": {},
   "outputs": [
    {
     "name": "stdout",
     "output_type": "stream",
     "text": [
      "0    9999\n",
      "1      20\n",
      "2      30\n",
      "3      40\n",
      "dtype: int32\n",
      "[10 20 30 40]\n"
     ]
    }
   ],
   "source": [
    "import pandas as pd\n",
    "import numpy as np\n",
    "\n",
    "arr = np.array([10,20,30,40])\n",
    "\n",
    "s = pd.Series(data=arr,copy=True)\n",
    "\n",
    "s[0]=9999\n",
    "print(s)\n",
    "print(arr)\n",
    "# Even input is ndarray, separate copy got created because copy=True."
   ]
  },
  {
   "cell_type": "markdown",
   "id": "bce75734",
   "metadata": {},
   "source": [
    "Exercise:\n",
    "---------\n",
    "1. Create a python list named with student_list with 5 student names?\n",
    "2. Create another Python list named with marks_list with\n",
    "corresponding student marks?\n",
    "3. Create a Series object that stores student marks as values and\n",
    "student names as index labels. Assign name 'students' for this series?\n",
    "4. Create a python dictionary with student_list and marks_list and\n",
    "Create a Series object with that dictionary?\n"
   ]
  },
  {
   "cell_type": "code",
   "execution_count": 20,
   "id": "b5aa2e5f",
   "metadata": {},
   "outputs": [
    {
     "name": "stdout",
     "output_type": "stream",
     "text": [
      "Sunny    40\n",
      "Bunny    50\n",
      "Vinny    60\n",
      "Binny    70\n",
      "Pinny    80\n",
      "Name: students, dtype: int64\n"
     ]
    }
   ],
   "source": [
    "# solution:\n",
    "# --------\n",
    "import pandas as pd\n",
    "student_list = ['Sunny', 'Bunny','Vinny','Binny','Pinny']\n",
    "marks_list = [40,50,60,70,80]\n",
    "ser = pd.Series(data=marks_list , index=student_list, name='students')\n",
    "print(ser)"
   ]
  },
  {
   "cell_type": "code",
   "execution_count": 22,
   "id": "baff7551",
   "metadata": {},
   "outputs": [
    {
     "name": "stdout",
     "output_type": "stream",
     "text": [
      "Sunny    40\n",
      "Bunny    50\n",
      "Vinny    60\n",
      "Binny    70\n",
      "Pinny    80\n",
      "Name: students, dtype: int64\n"
     ]
    }
   ],
   "source": [
    "import pandas as pd\n",
    "student_list = ['Sunny', 'Bunny','Vinny','Binny','Pinny']\n",
    "marks_list = [40,50,60,70,80]\n",
    "#students_dict = dict(zip(student_list,marks_list))\n",
    "students_dict = {name:marks for name,marks in zip(student_list,marks_list)}\n",
    "ser = pd.Series(data=students_dict,name='students')\n",
    "print(ser)"
   ]
  },
  {
   "cell_type": "markdown",
   "id": "7ca9dc9b",
   "metadata": {},
   "source": [
    "Accessing values from Series by using head() and tail() methods:\n",
    "------------------------------------------------------------------------------\n",
    "head():\n",
    "-------\n",
    "Series.head(n=5)\n",
    "Return the first n rows. The default value for n is 5\n",
    "This function returns the first n rows for the object based on position.\n",
    "It is useful for quickly testing if your object has the right type of data\n",
    "in it."
   ]
  },
  {
   "cell_type": "code",
   "execution_count": 23,
   "id": "147820b5",
   "metadata": {},
   "outputs": [
    {
     "name": "stdout",
     "output_type": "stream",
     "text": [
      "0    0\n",
      "1    1\n",
      "2    2\n",
      "3    3\n",
      "4    4\n",
      "dtype: int64\n"
     ]
    }
   ],
   "source": [
    "import pandas as pd\n",
    "\n",
    "s = pd.Series([i for i in range(50)])\n",
    "print(s.head()) # Returns first 5 values"
   ]
  },
  {
   "cell_type": "code",
   "execution_count": 24,
   "id": "748142a6",
   "metadata": {},
   "outputs": [
    {
     "name": "stdout",
     "output_type": "stream",
     "text": [
      "0    0\n",
      "1    1\n",
      "2    2\n",
      "dtype: int64\n"
     ]
    }
   ],
   "source": [
    "import pandas as pd\n",
    "\n",
    "s = pd.Series([i for i in range(50)])\n",
    "print(s.head(3)) # Returns first 3 values"
   ]
  },
  {
   "cell_type": "code",
   "execution_count": 25,
   "id": "28d59a37",
   "metadata": {},
   "outputs": [
    {
     "name": "stdout",
     "output_type": "stream",
     "text": [
      "0    0\n",
      "1    1\n",
      "2    2\n",
      "3    3\n",
      "dtype: int64\n"
     ]
    }
   ],
   "source": [
    "import pandas as pd\n",
    "\n",
    "s = pd.Series([i for i in range(50)])\n",
    "print(s.head(n=-46)) # Returns the rows except last 46 rows. ie first 4 rows"
   ]
  },
  {
   "cell_type": "markdown",
   "id": "db18d43b",
   "metadata": {},
   "source": [
    "tail():\n",
    "-------\n",
    "Series.tail(n=5)\n",
    "Return the last n rows. The default value is 5\n",
    "This function returns last n rows from the object based on position. It\n",
    "is useful for quickly verifying data, for example, after sorting or\n",
    "appending rows."
   ]
  },
  {
   "cell_type": "code",
   "execution_count": 26,
   "id": "ae75d3b4",
   "metadata": {},
   "outputs": [
    {
     "name": "stdout",
     "output_type": "stream",
     "text": [
      "3      3\n",
      "4      4\n",
      "5      5\n",
      "6      6\n",
      "7      7\n",
      "8      8\n",
      "9      9\n",
      "10    10\n",
      "11    11\n",
      "12    12\n",
      "13    13\n",
      "14    14\n",
      "15    15\n",
      "16    16\n",
      "17    17\n",
      "18    18\n",
      "19    19\n",
      "20    20\n",
      "21    21\n",
      "22    22\n",
      "23    23\n",
      "24    24\n",
      "25    25\n",
      "26    26\n",
      "27    27\n",
      "28    28\n",
      "29    29\n",
      "30    30\n",
      "31    31\n",
      "32    32\n",
      "33    33\n",
      "34    34\n",
      "35    35\n",
      "36    36\n",
      "37    37\n",
      "38    38\n",
      "39    39\n",
      "40    40\n",
      "41    41\n",
      "42    42\n",
      "43    43\n",
      "44    44\n",
      "45    45\n",
      "46    46\n",
      "47    47\n",
      "48    48\n",
      "49    49\n",
      "dtype: int64\n"
     ]
    }
   ],
   "source": [
    "import pandas as pd\n",
    "s = pd.Series([i for i in range(50)])\n",
    "#print(s.tail()) # Returns the last 5 rows\n",
    "#print(s.tail(3)) # Returns the last 3 rows\n",
    "print(s.tail(n=-3)) # Returns all rows except first 3 rows"
   ]
  },
  {
   "cell_type": "code",
   "execution_count": 1,
   "id": "1e388a5f",
   "metadata": {},
   "outputs": [
    {
     "name": "stdout",
     "output_type": "stream",
     "text": [
      "9      9\n",
      "10    10\n",
      "11    11\n",
      "12    12\n",
      "13    13\n",
      "14    14\n",
      "dtype: int64\n"
     ]
    }
   ],
   "source": [
    "# Q. Returns values from 10th to 15th by using head() and tail() methods?\n",
    "import pandas as pd\n",
    "s = pd.Series([i for i in range(50)])\n",
    "print(s.head(15).tail(6))"
   ]
  },
  {
   "cell_type": "markdown",
   "id": "3f5f93a9",
   "metadata": {},
   "source": [
    "Extract Values from Series by index position(Index Based Selection):\n",
    "-------------------------------------------------------------------\n",
    "Syntax: s[x]\n",
    "- x can be index value\n",
    "- x can be list of indices\n",
    "- x can be slice also\n",
    "\n",
    "eg:\n",
    "---\n",
    "- s[5] --->Returns value present at index 5\n",
    "- s[[1,3,5]]---->Returns Series of values present at indices 1,3 and 5.\n",
    "- s[2:6]--->Returns Series fo values from 2nd index to 5th index"
   ]
  },
  {
   "cell_type": "code",
   "execution_count": 2,
   "id": "f6de8efc",
   "metadata": {},
   "outputs": [
    {
     "name": "stdout",
     "output_type": "stream",
     "text": [
      "0     A\n",
      "1     B\n",
      "2     C\n",
      "3     D\n",
      "4     E\n",
      "5     F\n",
      "6     G\n",
      "7     H\n",
      "8     I\n",
      "9     J\n",
      "10    K\n",
      "11    L\n",
      "12    M\n",
      "13    N\n",
      "14    O\n",
      "15    P\n",
      "16    Q\n",
      "17    R\n",
      "18    S\n",
      "19    T\n",
      "20    U\n",
      "21    V\n",
      "22    W\n",
      "23    X\n",
      "24    Y\n",
      "25    Z\n",
      "dtype: object\n"
     ]
    }
   ],
   "source": [
    "# eg: Series contains all upper case alphabet symbols as values.\n",
    "# 1st way:\n",
    "# -------\n",
    "import pandas as pd\n",
    "\n",
    "alphabets=list('ABCDEFGHIJKLMNOPQRSTUVWXYZ') #['A','B',....]\n",
    "\n",
    "s = pd.Series(data=alphabets)\n",
    "\n",
    "print(s)"
   ]
  },
  {
   "cell_type": "code",
   "execution_count": 3,
   "id": "d865c436",
   "metadata": {},
   "outputs": [
    {
     "name": "stdout",
     "output_type": "stream",
     "text": [
      "0     A\n",
      "1     B\n",
      "2     C\n",
      "3     D\n",
      "4     E\n",
      "5     F\n",
      "6     G\n",
      "7     H\n",
      "8     I\n",
      "9     J\n",
      "10    K\n",
      "11    L\n",
      "12    M\n",
      "13    N\n",
      "14    O\n",
      "15    P\n",
      "16    Q\n",
      "17    R\n",
      "18    S\n",
      "19    T\n",
      "20    U\n",
      "21    V\n",
      "22    W\n",
      "23    X\n",
      "24    Y\n",
      "25    Z\n",
      "dtype: object\n"
     ]
    }
   ],
   "source": [
    "import pandas as pd\n",
    "from string import ascii_uppercase\n",
    "\n",
    "alphabets = list(ascii_uppercase)\n",
    "s = pd.Series(alphabets)\n",
    "\n",
    "print(s)"
   ]
  },
  {
   "cell_type": "code",
   "execution_count": 4,
   "id": "66e55cda",
   "metadata": {},
   "outputs": [
    {
     "data": {
      "text/plain": [
       "'A'"
      ]
     },
     "execution_count": 4,
     "metadata": {},
     "output_type": "execute_result"
    }
   ],
   "source": [
    "# Q1. To get First Character?\n",
    "s[0]"
   ]
  },
  {
   "cell_type": "code",
   "execution_count": 5,
   "id": "62695f68",
   "metadata": {},
   "outputs": [
    {
     "data": {
      "text/plain": [
       "'Z'"
      ]
     },
     "execution_count": 5,
     "metadata": {},
     "output_type": "execute_result"
    }
   ],
   "source": [
    "# Q2. To get Last Character?\n",
    "s[25]"
   ]
  },
  {
   "cell_type": "code",
   "execution_count": 6,
   "id": "a092212a",
   "metadata": {},
   "outputs": [
    {
     "data": {
      "text/plain": [
       "'Z'"
      ]
     },
     "execution_count": 6,
     "metadata": {},
     "output_type": "execute_result"
    }
   ],
   "source": [
    "s[s.size-1]"
   ]
  },
  {
   "cell_type": "code",
   "execution_count": 7,
   "id": "fc6add85",
   "metadata": {},
   "outputs": [
    {
     "data": {
      "text/plain": [
       "'K'"
      ]
     },
     "execution_count": 7,
     "metadata": {},
     "output_type": "execute_result"
    }
   ],
   "source": [
    "# Q3. To get Character present at 10th index position?\n",
    "s[10]"
   ]
  },
  {
   "cell_type": "code",
   "execution_count": 8,
   "id": "1547012c",
   "metadata": {},
   "outputs": [
    {
     "data": {
      "text/plain": [
       "5     F\n",
       "10    K\n",
       "15    P\n",
       "20    U\n",
       "dtype: object"
      ]
     },
     "execution_count": 8,
     "metadata": {},
     "output_type": "execute_result"
    }
   ],
   "source": [
    "# Q4. To get characters present at indices:5,10,15,20\n",
    "s[[5,10,15,20]]"
   ]
  },
  {
   "cell_type": "code",
   "execution_count": 4,
   "id": "ffb80478",
   "metadata": {},
   "outputs": [
    {
     "name": "stdout",
     "output_type": "stream",
     "text": [
      "5     F\n",
      "10    K\n",
      "15    P\n",
      "20    U\n",
      "dtype: object\n"
     ]
    }
   ],
   "source": [
    "import pandas as pd\n",
    "alphabets = list('ABCDEFGHIJKLMNOPQRSTUVWXYZ')\n",
    "s = pd.Series(data=alphabets)\n",
    "print(s[[5,10,15,20]])"
   ]
  },
  {
   "cell_type": "code",
   "execution_count": 10,
   "id": "29108954",
   "metadata": {},
   "outputs": [
    {
     "data": {
      "text/plain": [
       "10    K\n",
       "11    L\n",
       "12    M\n",
       "13    N\n",
       "14    O\n",
       "15    P\n",
       "16    Q\n",
       "dtype: object"
      ]
     },
     "execution_count": 10,
     "metadata": {},
     "output_type": "execute_result"
    }
   ],
   "source": [
    "# Q5. To get characters from 10th index to 16th index?\n",
    "s[10:17]"
   ]
  },
  {
   "cell_type": "code",
   "execution_count": 4,
   "id": "fac37e8e",
   "metadata": {},
   "outputs": [
    {
     "name": "stdout",
     "output_type": "stream",
     "text": [
      "10    K\n",
      "11    L\n",
      "12    M\n",
      "13    N\n",
      "14    O\n",
      "15    P\n",
      "16    Q\n",
      "dtype: object\n"
     ]
    }
   ],
   "source": [
    "alphabets = list('ABCDEFGHIJKLMNOPQRSTUVWXYZ')\n",
    "s = pd.Series(data=alphabets)\n",
    "print(s[10:17])"
   ]
  },
  {
   "cell_type": "code",
   "execution_count": 12,
   "id": "4c615228",
   "metadata": {},
   "outputs": [
    {
     "data": {
      "text/plain": [
       "0     A\n",
       "2     C\n",
       "4     E\n",
       "6     G\n",
       "8     I\n",
       "10    K\n",
       "12    M\n",
       "14    O\n",
       "16    Q\n",
       "18    S\n",
       "20    U\n",
       "22    W\n",
       "24    Y\n",
       "dtype: object"
      ]
     },
     "execution_count": 12,
     "metadata": {},
     "output_type": "execute_result"
    }
   ],
   "source": [
    "# Q6. To get every other character ie every alternative character?\n",
    "s[::2]"
   ]
  },
  {
   "cell_type": "code",
   "execution_count": 14,
   "id": "f435d382",
   "metadata": {},
   "outputs": [
    {
     "data": {
      "text/plain": [
       "0    A\n",
       "1    B\n",
       "2    C\n",
       "3    D\n",
       "4    E\n",
       "dtype: object"
      ]
     },
     "execution_count": 14,
     "metadata": {},
     "output_type": "execute_result"
    }
   ],
   "source": [
    "# Q7. To get first 5 characters?\n",
    "# s[0:5] or s[:5] or s.head() or s.head(5) or s.head(n=5)\n",
    "s.head()"
   ]
  },
  {
   "cell_type": "code",
   "execution_count": 15,
   "id": "5a288517",
   "metadata": {
    "scrolled": true
   },
   "outputs": [
    {
     "data": {
      "text/plain": [
       "23    X\n",
       "24    Y\n",
       "25    Z\n",
       "dtype: object"
      ]
     },
     "execution_count": 15,
     "metadata": {},
     "output_type": "execute_result"
    }
   ],
   "source": [
    "# Q8. To get last 3 characters?\n",
    "# s[-3:] or s[s.size-3:] or s.tail(3) or s.tail(n=3)\n",
    "s.tail(n=3)"
   ]
  },
  {
   "cell_type": "markdown",
   "id": "a9593d7f",
   "metadata": {},
   "source": [
    "Note: -ve indexing is applicable only for slice input.\n",
    "- s[-1] ---->invalid\n",
    "- s[[-1,-2,-3]]--->invalid\n",
    "- s[-3:]--->valid\n",
    "\n",
    "Note: Accessing based on position is applicable even for custom\n",
    "labeled Series also"
   ]
  },
  {
   "cell_type": "code",
   "execution_count": null,
   "id": "99a6621a",
   "metadata": {},
   "outputs": [],
   "source": [
    "# Extract Values from Series by labels(Label based Selection):\n",
    "# ------------------------------------------------------------\n",
    "# Syntax:\n",
    "# s['label']\n",
    "# s[['label-1','label-2','label-3']]\n",
    "# s[label1:label2]"
   ]
  },
  {
   "cell_type": "code",
   "execution_count": 1,
   "id": "25eed71a",
   "metadata": {},
   "outputs": [
    {
     "name": "stdout",
     "output_type": "stream",
     "text": [
      "['Label_A', 'Label_B', 'Label_C', 'Label_D', 'Label_E', 'Label_F', 'Label_G', 'Label_H', 'Label_I', 'Label_J', 'Label_K', 'Label_L', 'Label_M', 'Label_N', 'Label_O', 'Label_P', 'Label_Q', 'Label_R', 'Label_S', 'Label_T', 'Label_U', 'Label_V', 'Label_W', 'Label_X', 'Label_Y', 'Label_Z']\n",
      "['Label_A', 'Label_B', 'Label_C', 'Label_D', 'Label_E', 'Label_F', 'Label_G', 'Label_H', 'Label_I', 'Label_J', 'Label_K', 'Label_L', 'Label_M', 'Label_N', 'Label_O', 'Label_P', 'Label_Q', 'Label_R', 'Label_S', 'Label_T', 'Label_U', 'Label_V', 'Label_W', 'Label_X', 'Label_Y', 'Label_Z']\n"
     ]
    }
   ],
   "source": [
    "# sample code to append 'Label_' for every index:\n",
    "# ----------------------------------------------\n",
    "alphabets = list('ABCDEFGHIJKLMNOPQRSTUVWXYZ')\n",
    "print(list(map(lambda x:'Label_'+x,alphabets)))\n",
    "print(['Label_'+x for x in alphabets])"
   ]
  },
  {
   "cell_type": "code",
   "execution_count": 6,
   "id": "05f152dd",
   "metadata": {},
   "outputs": [
    {
     "name": "stdout",
     "output_type": "stream",
     "text": [
      "A_Label    A\n",
      "B_Label    B\n",
      "C_Label    C\n",
      "D_Label    D\n",
      "E_Label    E\n",
      "F_Label    F\n",
      "G_Label    G\n",
      "H_Label    H\n",
      "I_Label    I\n",
      "J_Label    J\n",
      "K_Label    K\n",
      "L_Label    L\n",
      "M_Label    M\n",
      "N_Label    N\n",
      "O_Label    O\n",
      "P_Label    P\n",
      "Q_Label    Q\n",
      "R_Label    R\n",
      "S_Label    S\n",
      "T_Label    T\n",
      "U_Label    U\n",
      "V_Label    V\n",
      "W_Label    W\n",
      "X_Label    X\n",
      "Y_Label    Y\n",
      "Z_Label    Z\n",
      "dtype: object\n"
     ]
    }
   ],
   "source": [
    "# pandas inbuilt add_prefix() and add_suffix() methods: video 4 or 5\n",
    "# -----------------------------------------------------\n",
    "import pandas as pd\n",
    "alphabets = list('ABCDEFGHIJKLMNOPQRSTUVWXYZ')\n",
    "s = pd.Series(data=alphabets,index=alphabets)\n",
    "#s = s.add_prefix('Label_')\n",
    "s = s.add_suffix('_Label')\n",
    "print(s)"
   ]
  },
  {
   "cell_type": "code",
   "execution_count": 7,
   "id": "3d7c540f",
   "metadata": {},
   "outputs": [
    {
     "data": {
      "text/plain": [
       "'W'"
      ]
     },
     "execution_count": 7,
     "metadata": {},
     "output_type": "execute_result"
    }
   ],
   "source": [
    "s['W_Label']"
   ]
  },
  {
   "cell_type": "code",
   "execution_count": 8,
   "id": "6ce11451",
   "metadata": {},
   "outputs": [
    {
     "name": "stdout",
     "output_type": "stream",
     "text": [
      "Label_A    A\n",
      "Label_B    B\n",
      "Label_C    C\n",
      "Label_D    D\n",
      "Label_E    E\n",
      "Label_F    F\n",
      "Label_G    G\n",
      "Label_H    H\n",
      "Label_I    I\n",
      "Label_J    J\n",
      "Label_K    K\n",
      "Label_L    L\n",
      "Label_M    M\n",
      "Label_N    N\n",
      "Label_O    O\n",
      "Label_P    P\n",
      "Label_Q    Q\n",
      "Label_R    R\n",
      "Label_S    S\n",
      "Label_T    T\n",
      "Label_U    U\n",
      "Label_V    V\n",
      "Label_W    W\n",
      "Label_X    X\n",
      "Label_Y    Y\n",
      "Label_Z    Z\n",
      "dtype: object\n"
     ]
    }
   ],
   "source": [
    "# Questions:\n",
    "import pandas as pd\n",
    "alphabets = list('ABCDEFGHIJKLMNOPQRSTUVWXYZ')\n",
    "s = pd.Series(data=alphabets,index=alphabets)\n",
    "s = s.add_prefix('Label_')\n",
    "print(s)"
   ]
  },
  {
   "cell_type": "code",
   "execution_count": 10,
   "id": "01449d8e",
   "metadata": {},
   "outputs": [
    {
     "data": {
      "text/plain": [
       "'A'"
      ]
     },
     "execution_count": 10,
     "metadata": {},
     "output_type": "execute_result"
    }
   ],
   "source": [
    "# Q1. To get first character?\n",
    "s[0]\n",
    "# or\n",
    "s['Label_A']"
   ]
  },
  {
   "cell_type": "code",
   "execution_count": 11,
   "id": "9fdf6111",
   "metadata": {},
   "outputs": [
    {
     "name": "stdout",
     "output_type": "stream",
     "text": [
      "J J\n"
     ]
    }
   ],
   "source": [
    "# Q2. To get 10th character?\n",
    "# s[9] or s['Label_J']\n",
    "print(s[9] ,s['Label_J'])"
   ]
  },
  {
   "cell_type": "code",
   "execution_count": 12,
   "id": "835e66aa",
   "metadata": {},
   "outputs": [
    {
     "data": {
      "text/plain": [
       "Label_K    K\n",
       "Label_S    S\n",
       "Label_X    X\n",
       "dtype: object"
      ]
     },
     "execution_count": 12,
     "metadata": {},
     "output_type": "execute_result"
    }
   ],
   "source": [
    "# Q3. To get values associated with the labels:\n",
    "# 'Label_K','Label_S','Label_X'\n",
    "s[['Label_K','Label_S','Label_X']]"
   ]
  },
  {
   "cell_type": "code",
   "execution_count": 13,
   "id": "d82d75a6",
   "metadata": {},
   "outputs": [
    {
     "data": {
      "text/plain": [
       "Label_H    H\n",
       "Label_I    I\n",
       "Label_J    J\n",
       "Label_K    K\n",
       "Label_L    L\n",
       "Label_M    M\n",
       "Label_N    N\n",
       "Label_O    O\n",
       "Label_P    P\n",
       "Label_Q    Q\n",
       "Label_R    R\n",
       "Label_S    S\n",
       "dtype: object"
      ]
     },
     "execution_count": 13,
     "metadata": {},
     "output_type": "execute_result"
    }
   ],
   "source": [
    "# Q4. To get values from 'Label_H' to 'Label_S'?\n",
    "s['Label_H':'Label_S']"
   ]
  },
  {
   "cell_type": "code",
   "execution_count": 14,
   "id": "be2f59ef",
   "metadata": {},
   "outputs": [
    {
     "name": "stdout",
     "output_type": "stream",
     "text": [
      "Label_H    H\n",
      "Label_I    I\n",
      "Label_J    J\n",
      "Label_K    K\n",
      "Label_L    L\n",
      "Label_M    M\n",
      "Label_N    N\n",
      "Label_O    O\n",
      "Label_P    P\n",
      "Label_Q    Q\n",
      "Label_R    R\n",
      "Label_S    S\n",
      "dtype: object\n"
     ]
    }
   ],
   "source": [
    "import pandas as pd\n",
    "alphabets = list('ABCDEFGHIJKLMNOPQRSTUVWXYZ')\n",
    "s = pd.Series(data=alphabets,index=alphabets)\n",
    "s = s.add_prefix('Label_')\n",
    "print(s['Label_H':'Label_S'])"
   ]
  },
  {
   "cell_type": "markdown",
   "id": "3735edf0",
   "metadata": {},
   "source": [
    "Note:\n",
    "1. In the index based slicing, end/stop attribute is not inclusive\n",
    "s[2:5] here 5 is not inclusive and it returns values from 2nd index to\n",
    "4th index\n",
    "2. But in Label based slicing, end/stop attribute is inclusive.\n",
    "s['Label_H':'Label_S']--->'Label_S' is inclusive"
   ]
  },
  {
   "cell_type": "markdown",
   "id": "eda90c9f",
   "metadata": {},
   "source": [
    "Using dot notation to access data by labels:\n",
    "--------------------------------------------\n",
    "Syntax:\n",
    "s.label\n",
    "Returns the value associated with specified label\n",
    "\n",
    "eg:\n",
    "print(s.Label_Z) #Z\n",
    "Limitation: But this approach is not applicable for index and here we\n",
    "cannot use slice operator.\n",
    "\n",
    "eg:\n",
    "- s.0 ---->invalid\n",
    "- s.Label1:Label5 --->Invalid"
   ]
  },
  {
   "cell_type": "code",
   "execution_count": 15,
   "id": "e4110a39",
   "metadata": {},
   "outputs": [
    {
     "name": "stdout",
     "output_type": "stream",
     "text": [
      "Z\n"
     ]
    }
   ],
   "source": [
    "print(s.Label_Z)"
   ]
  },
  {
   "cell_type": "markdown",
   "id": "4eaa7bec",
   "metadata": {},
   "source": [
    "Extracting values by using get() method:\n",
    "----------------------------------------\n",
    "In position based selection or label based selection if the specified\n",
    "index or label is not available then we will get error."
   ]
  },
  {
   "cell_type": "code",
   "execution_count": 17,
   "id": "bfd1cfea",
   "metadata": {},
   "outputs": [
    {
     "ename": "IndexError",
     "evalue": "index 100 is out of bounds for axis 0 with size 26",
     "output_type": "error",
     "traceback": [
      "\u001b[1;31m---------------------------------------------------------------------------\u001b[0m",
      "\u001b[1;31mIndexError\u001b[0m                                Traceback (most recent call last)",
      "Cell \u001b[1;32mIn[17], line 5\u001b[0m\n\u001b[0;32m      3\u001b[0m s \u001b[38;5;241m=\u001b[39m pd\u001b[38;5;241m.\u001b[39mSeries(data\u001b[38;5;241m=\u001b[39malphabets,index\u001b[38;5;241m=\u001b[39malphabets)\n\u001b[0;32m      4\u001b[0m s \u001b[38;5;241m=\u001b[39m s\u001b[38;5;241m.\u001b[39madd_prefix(\u001b[38;5;124m'\u001b[39m\u001b[38;5;124mLabel_\u001b[39m\u001b[38;5;124m'\u001b[39m)\n\u001b[1;32m----> 5\u001b[0m \u001b[38;5;28mprint\u001b[39m(s[\u001b[38;5;241m100\u001b[39m]) \u001b[38;5;66;03m#IndexError: index 100 is out of bounds for axis 0 with size 26\u001b[39;00m\n\u001b[0;32m      6\u001b[0m \u001b[38;5;28mprint\u001b[39m(s[\u001b[38;5;124m'\u001b[39m\u001b[38;5;124mLabel_ZZ\u001b[39m\u001b[38;5;124m'\u001b[39m])\n",
      "File \u001b[1;32m~\\anaconda3\\Lib\\site-packages\\pandas\\core\\series.py:1004\u001b[0m, in \u001b[0;36mSeries.__getitem__\u001b[1;34m(self, key)\u001b[0m\n\u001b[0;32m   1001\u001b[0m     key \u001b[38;5;241m=\u001b[39m unpack_1tuple(key)\n\u001b[0;32m   1003\u001b[0m \u001b[38;5;28;01mif\u001b[39;00m is_integer(key) \u001b[38;5;129;01mand\u001b[39;00m \u001b[38;5;28mself\u001b[39m\u001b[38;5;241m.\u001b[39mindex\u001b[38;5;241m.\u001b[39m_should_fallback_to_positional:\n\u001b[1;32m-> 1004\u001b[0m     \u001b[38;5;28;01mreturn\u001b[39;00m \u001b[38;5;28mself\u001b[39m\u001b[38;5;241m.\u001b[39m_values[key]\n\u001b[0;32m   1006\u001b[0m \u001b[38;5;28;01melif\u001b[39;00m key_is_scalar:\n\u001b[0;32m   1007\u001b[0m     \u001b[38;5;28;01mreturn\u001b[39;00m \u001b[38;5;28mself\u001b[39m\u001b[38;5;241m.\u001b[39m_get_value(key)\n",
      "\u001b[1;31mIndexError\u001b[0m: index 100 is out of bounds for axis 0 with size 26"
     ]
    }
   ],
   "source": [
    "import pandas as pd\n",
    "\n",
    "alphabets = list('ABCDEFGHIJKLMNOPQRSTUVWXYZ')\n",
    "\n",
    "s = pd.Series(data=alphabets,index=alphabets)\n",
    "s = s.add_prefix('Label_')\n",
    "\n",
    "print(s[100]) #IndexError: index 100 is out of bounds for axis 0 with size 26\n",
    "\n",
    "print(s['Label_ZZ']) #KeyError: 'Label_ZZ'"
   ]
  },
  {
   "cell_type": "markdown",
   "id": "c7dd88c3",
   "metadata": {},
   "source": [
    "To overcome this problem we should go for get() method. If the\n",
    "specified index or label is not available then we will get None but not\n",
    "Error.\n",
    "Even in the case of get() method, we have the facility to provide\n",
    "default value if the specified index or lable is not available.\n",
    "\n",
    "Syntax:\n",
    "s.get(0)\n",
    "s.get([0,3,5])\n",
    "s.get('Label-1')\n",
    "s.get(['Label-1','Label-2','Label-3'])"
   ]
  },
  {
   "cell_type": "code",
   "execution_count": 18,
   "id": "57dec463",
   "metadata": {},
   "outputs": [
    {
     "name": "stdout",
     "output_type": "stream",
     "text": [
      "None\n",
      "None\n"
     ]
    }
   ],
   "source": [
    "# Eventhough index/label not available, we won't get any error.\n",
    "import pandas as pd\n",
    "alphabets = list('ABCDEFGHIJKLMNOPQRSTUVWXYZ')\n",
    "s = pd.Series(data=alphabets,index=alphabets)\n",
    "s = s.add_prefix('Label_')\n",
    "print(s.get(100)) #None\n",
    "print(s.get('Label_ZZ')) #None"
   ]
  },
  {
   "cell_type": "code",
   "execution_count": 19,
   "id": "f5861909",
   "metadata": {},
   "outputs": [
    {
     "name": "stdout",
     "output_type": "stream",
     "text": [
      "default value\n",
      "default value\n"
     ]
    }
   ],
   "source": [
    "# eg: Here default value will be considered because specified key and label are not available\n",
    "import pandas as pd\n",
    "alphabets = list('ABCDEFGHIJKLMNOPQRSTUVWXYZ')\n",
    "s = pd.Series(data=alphabets,index=alphabets)\n",
    "s = s.add_prefix('Label_')\n",
    "print(s.get(100,default='default value')) #default value\n",
    "print(s.get('Label_ZZ',default='default value')) #default value\n"
   ]
  },
  {
   "cell_type": "code",
   "execution_count": 20,
   "id": "ae73e5b6",
   "metadata": {},
   "outputs": [
    {
     "name": "stdout",
     "output_type": "stream",
     "text": [
      "A\n",
      "Label_A    A\n",
      "Label_D    D\n",
      "Label_H    H\n",
      "dtype: object\n",
      "D\n",
      "Label_D    D\n",
      "Label_G    G\n",
      "Label_M    M\n",
      "dtype: object\n"
     ]
    }
   ],
   "source": [
    "import pandas as pd\n",
    "alphabets = list('ABCDEFGHIJKLMNOPQRSTUVWXYZ')\n",
    "s = pd.Series(data=alphabets,index=alphabets)\n",
    "s = s.add_prefix('Label_')\n",
    "print(s.get(0)) #A\n",
    "print(s.get([0,3,7]))\n",
    "print(s.get('Label_D')) #D\n",
    "print(s.get(['Label_D','Label_G','Label_M']))"
   ]
  },
  {
   "cell_type": "markdown",
   "id": "cad6d921",
   "metadata": {},
   "source": [
    "Extracting values by using loc and iloc indexers:\n",
    "-------------------------------------------------\n",
    "loc indexer --->For Label based selection\n",
    "iloc indexer--->For position based selection\n",
    "iloc --->integer loc\n",
    "\n",
    "iloc indexer:\n",
    "-------------\n",
    "For position based selection. The argument should be index.\n",
    "Syntax:\n",
    "s.iloc[i]\n",
    "s.iloc[[0,1,2]]\n",
    "s.iloc[m:n]"
   ]
  },
  {
   "cell_type": "code",
   "execution_count": 8,
   "id": "5f132967",
   "metadata": {},
   "outputs": [
    {
     "name": "stdout",
     "output_type": "stream",
     "text": [
      "0    10\n",
      "1    20\n",
      "2    30\n",
      "3    40\n",
      "4    50\n",
      "dtype: int64\n"
     ]
    }
   ],
   "source": [
    "import pandas as pd\n",
    "s = pd.Series([10,20,30,40,50])\n",
    "print(s)"
   ]
  },
  {
   "cell_type": "code",
   "execution_count": 3,
   "id": "0328ebb5",
   "metadata": {},
   "outputs": [
    {
     "data": {
      "text/plain": [
       "10"
      ]
     },
     "execution_count": 3,
     "metadata": {},
     "output_type": "execute_result"
    }
   ],
   "source": [
    "# Q1. To get first value?\n",
    "s[0]\n",
    "s.iloc[0]\n"
   ]
  },
  {
   "cell_type": "code",
   "execution_count": 5,
   "id": "ed5e02ff",
   "metadata": {
    "scrolled": true
   },
   "outputs": [
    {
     "data": {
      "text/plain": [
       "0    10\n",
       "1    20\n",
       "2    30\n",
       "dtype: int64"
      ]
     },
     "execution_count": 5,
     "metadata": {},
     "output_type": "execute_result"
    }
   ],
   "source": [
    "# Q2. To get values at indies: 0,1,2\n",
    "s.iloc[[0,1,2]]"
   ]
  },
  {
   "cell_type": "code",
   "execution_count": 6,
   "id": "7d692b3e",
   "metadata": {},
   "outputs": [
    {
     "data": {
      "text/plain": [
       "0    10\n",
       "1    20\n",
       "2    30\n",
       "dtype: int64"
      ]
     },
     "execution_count": 6,
     "metadata": {},
     "output_type": "execute_result"
    }
   ],
   "source": [
    "# Q3. To get first 3 values:\n",
    "s.iloc[:3]"
   ]
  },
  {
   "cell_type": "code",
   "execution_count": 11,
   "id": "f61fb5d7",
   "metadata": {},
   "outputs": [
    {
     "data": {
      "text/plain": [
       "50"
      ]
     },
     "execution_count": 11,
     "metadata": {},
     "output_type": "execute_result"
    }
   ],
   "source": [
    "# Q4. To get last value?\n",
    "# s[-1] #--->invalid\n",
    "s.iloc[-1] #--->valid"
   ]
  },
  {
   "cell_type": "code",
   "execution_count": 12,
   "id": "9dacd569",
   "metadata": {},
   "outputs": [
    {
     "name": "stdout",
     "output_type": "stream",
     "text": [
      "10\n",
      "0    10\n",
      "1    20\n",
      "2    30\n",
      "dtype: int64\n",
      "0    10\n",
      "1    20\n",
      "2    30\n",
      "dtype: int64\n",
      "50\n"
     ]
    }
   ],
   "source": [
    "import pandas as pd\n",
    "s = pd.Series([10,20,30,40,50])\n",
    "print(s.iloc[0])\n",
    "print(s.iloc[[0,1,2]])\n",
    "print(s.iloc[:3])\n",
    "print(s.iloc[-1])"
   ]
  },
  {
   "cell_type": "markdown",
   "id": "b5d31736",
   "metadata": {},
   "source": [
    "loc indexer:\n",
    "-----------\n",
    "For label based selection"
   ]
  },
  {
   "cell_type": "markdown",
   "id": "a282dbf9",
   "metadata": {},
   "source": [
    "Syntax:\n",
    "-------\n",
    "s.loc[label]\n",
    "s.loc[[label1,label2,label3]]\n",
    "s.loc[labelm:labeln], here labeln is inclusive"
   ]
  },
  {
   "cell_type": "code",
   "execution_count": 13,
   "id": "9bc14541",
   "metadata": {},
   "outputs": [
    {
     "name": "stdout",
     "output_type": "stream",
     "text": [
      "Label_A    A\n",
      "Label_B    B\n",
      "Label_C    C\n",
      "Label_D    D\n",
      "Label_E    E\n",
      "Label_F    F\n",
      "Label_G    G\n",
      "Label_H    H\n",
      "Label_I    I\n",
      "Label_J    J\n",
      "Label_K    K\n",
      "Label_L    L\n",
      "Label_M    M\n",
      "Label_N    N\n",
      "Label_O    O\n",
      "Label_P    P\n",
      "Label_Q    Q\n",
      "Label_R    R\n",
      "Label_S    S\n",
      "Label_T    T\n",
      "Label_U    U\n",
      "Label_V    V\n",
      "Label_W    W\n",
      "Label_X    X\n",
      "Label_Y    Y\n",
      "Label_Z    Z\n",
      "dtype: object\n"
     ]
    }
   ],
   "source": [
    "import pandas as pd\n",
    "alphabets = list('ABCDEFGHIJKLMNOPQRSTUVWXYZ')\n",
    "s = pd.Series(data=alphabets,index=alphabets)\n",
    "s = s.add_prefix('Label_')\n",
    "print(s)"
   ]
  },
  {
   "cell_type": "code",
   "execution_count": 14,
   "id": "c6a1a1de",
   "metadata": {},
   "outputs": [
    {
     "data": {
      "text/plain": [
       "'A'"
      ]
     },
     "execution_count": 14,
     "metadata": {},
     "output_type": "execute_result"
    }
   ],
   "source": [
    "# Q1. To get value associated with Label_A\n",
    "s.loc['Label_A']"
   ]
  },
  {
   "cell_type": "code",
   "execution_count": 15,
   "id": "1f839643",
   "metadata": {},
   "outputs": [
    {
     "data": {
      "text/plain": [
       "Label_A    A\n",
       "Label_K    K\n",
       "Label_Y    Y\n",
       "dtype: object"
      ]
     },
     "execution_count": 15,
     "metadata": {},
     "output_type": "execute_result"
    }
   ],
   "source": [
    "# Q2. To get values associated with labels: Label_A,Label_K and Label_Y\n",
    "s.loc[['Label_A','Label_K','Label_Y']]"
   ]
  },
  {
   "cell_type": "code",
   "execution_count": 17,
   "id": "a63a0cd1",
   "metadata": {},
   "outputs": [
    {
     "data": {
      "text/plain": [
       "Label_H    H\n",
       "Label_I    I\n",
       "Label_J    J\n",
       "Label_K    K\n",
       "Label_L    L\n",
       "Label_M    M\n",
       "Label_N    N\n",
       "dtype: object"
      ]
     },
     "execution_count": 17,
     "metadata": {},
     "output_type": "execute_result"
    }
   ],
   "source": [
    "# Q3. To get values from Label_H to Label_N?\n",
    "s['Label_H':'Label_N']\n",
    "# Here Label_N inclusive"
   ]
  },
  {
   "cell_type": "code",
   "execution_count": 18,
   "id": "384c982a",
   "metadata": {},
   "outputs": [
    {
     "name": "stdout",
     "output_type": "stream",
     "text": [
      "A\n",
      "Label_A    A\n",
      "Label_K    K\n",
      "Label_Y    Y\n",
      "dtype: object\n",
      "Label_H    H\n",
      "Label_I    I\n",
      "Label_J    J\n",
      "Label_K    K\n",
      "Label_L    L\n",
      "Label_M    M\n",
      "Label_N    N\n",
      "dtype: object\n"
     ]
    }
   ],
   "source": [
    "import pandas as pd\n",
    "alphabets = list('ABCDEFGHIJKLMNOPQRSTUVWXYZ')\n",
    "s = pd.Series(data=alphabets,index=alphabets)\n",
    "s = s.add_prefix('Label_')\n",
    "print(s.loc['Label_A'])\n",
    "print(s.loc[['Label_A','Label_K','Label_Y']])\n",
    "print(s['Label_H':'Label_N'])"
   ]
  },
  {
   "cell_type": "code",
   "execution_count": 19,
   "id": "01ccb878",
   "metadata": {},
   "outputs": [
    {
     "data": {
      "text/plain": [
       "Label_H    H\n",
       "Label_J    J\n",
       "Label_L    L\n",
       "Label_N    N\n",
       "dtype: object"
      ]
     },
     "execution_count": 19,
     "metadata": {},
     "output_type": "execute_result"
    }
   ],
   "source": [
    "# Q4. To get alternative values from Label_H to Label_N?\n",
    "s.loc['Label_H':'Label_N':2]"
   ]
  },
  {
   "cell_type": "markdown",
   "id": "ebb3b518",
   "metadata": {},
   "source": [
    "## Q. Assume s is the Series object, which of the following are valid syntactically?\n",
    "\n",
    "1. s[0]\n",
    "2. s['Label_A']\n",
    "3. s.iloc[0]\n",
    "4. s.iloc['Label_A']\n",
    "5. s.loc[0]\n",
    "6. s.loc['Label_A']\n",
    "\n",
    "Ans: A,B,C,F"
   ]
  },
  {
   "cell_type": "markdown",
   "id": "6db04442",
   "metadata": {},
   "source": [
    "Note:\n",
    "1. The main advantage of loc and iloc indexers when compared normal indexer is performance will be improved.\n",
    "2. iloc and loc indexers are commonly used in dataframes.\n",
    "3. In normal indexer we cannot pass negative index value. But in iloc indexer we can pass.\n",
    "s[-10] ---->invalid\n",
    "s.iloc[-10] --->valid\n",
    "4. If we are depending on default indexes then there is no difference between loc and iloc indexers."
   ]
  },
  {
   "cell_type": "code",
   "execution_count": 20,
   "id": "9a5a314f",
   "metadata": {},
   "outputs": [
    {
     "name": "stdout",
     "output_type": "stream",
     "text": [
      "10\n",
      "10\n",
      "10\n"
     ]
    }
   ],
   "source": [
    "import pandas as pd\n",
    "s = pd.Series([10,20,30,40,50])\n",
    "print(s[0])\n",
    "print(s.iloc[0])\n",
    "print(s.loc[0])"
   ]
  },
  {
   "cell_type": "markdown",
   "id": "4861c8a8",
   "metadata": {},
   "source": [
    "Boolean masking For Condition Based Selection:\n",
    "----------------------------------------------\n",
    "Condition based selection.\n",
    "We have to provide array of boolean values and selects values from Series where True value present.\n",
    "It is applicable for normal indexer,loc and iloc indexers also.\n",
    "\n",
    "Syntax:\n",
    "---\n",
    "- s[[True,False,...]]\n",
    "- s.loc[[True,False,...]]\n",
    "- s.iloc[[True,False,...]]\n",
    "- s.get([True,False,...]"
   ]
  },
  {
   "cell_type": "code",
   "execution_count": 21,
   "id": "ae42e65e",
   "metadata": {},
   "outputs": [
    {
     "name": "stdout",
     "output_type": "stream",
     "text": [
      "0    10\n",
      "3    40\n",
      "4    50\n",
      "dtype: int64\n",
      "0    10\n",
      "3    40\n",
      "4    50\n",
      "dtype: int64\n",
      "0    10\n",
      "3    40\n",
      "4    50\n",
      "dtype: int64\n",
      "0    10\n",
      "3    40\n",
      "4    50\n",
      "dtype: int64\n"
     ]
    }
   ],
   "source": [
    "import pandas as pd\n",
    "s = pd.Series([10,20,30,40,50])\n",
    "print(s[[True,False,False,True,True]])\n",
    "print(s.loc[[True,False,False,True,True]])\n",
    "print(s.iloc[[True,False,False,True,True]])\n",
    "print(s.get([True,False,False,True,True]))"
   ]
  },
  {
   "cell_type": "markdown",
   "id": "4531b6ba",
   "metadata": {},
   "source": [
    "***Note: The number of boolean values passed and the number of\n",
    "values in Series must be matched, otherwise we will get error.***"
   ]
  },
  {
   "cell_type": "code",
   "execution_count": 22,
   "id": "5723ae3d",
   "metadata": {},
   "outputs": [
    {
     "ename": "IndexError",
     "evalue": "Boolean index has wrong length: 4 instead of 5",
     "output_type": "error",
     "traceback": [
      "\u001b[1;31m---------------------------------------------------------------------------\u001b[0m",
      "\u001b[1;31mIndexError\u001b[0m                                Traceback (most recent call last)",
      "Cell \u001b[1;32mIn[22], line 3\u001b[0m\n\u001b[0;32m      1\u001b[0m \u001b[38;5;28;01mimport\u001b[39;00m \u001b[38;5;21;01mpandas\u001b[39;00m \u001b[38;5;28;01mas\u001b[39;00m \u001b[38;5;21;01mpd\u001b[39;00m\n\u001b[0;32m      2\u001b[0m s \u001b[38;5;241m=\u001b[39m pd\u001b[38;5;241m.\u001b[39mSeries([\u001b[38;5;241m10\u001b[39m,\u001b[38;5;241m20\u001b[39m,\u001b[38;5;241m30\u001b[39m,\u001b[38;5;241m40\u001b[39m,\u001b[38;5;241m50\u001b[39m])\n\u001b[1;32m----> 3\u001b[0m \u001b[38;5;28mprint\u001b[39m(s[[\u001b[38;5;28;01mTrue\u001b[39;00m,\u001b[38;5;28;01mFalse\u001b[39;00m,\u001b[38;5;28;01mFalse\u001b[39;00m,\u001b[38;5;28;01mTrue\u001b[39;00m]])\n",
      "File \u001b[1;32m~\\anaconda3\\Lib\\site-packages\\pandas\\core\\series.py:1029\u001b[0m, in \u001b[0;36mSeries.__getitem__\u001b[1;34m(self, key)\u001b[0m\n\u001b[0;32m   1026\u001b[0m     key \u001b[38;5;241m=\u001b[39m \u001b[38;5;28mlist\u001b[39m(key)\n\u001b[0;32m   1028\u001b[0m \u001b[38;5;28;01mif\u001b[39;00m com\u001b[38;5;241m.\u001b[39mis_bool_indexer(key):\n\u001b[1;32m-> 1029\u001b[0m     key \u001b[38;5;241m=\u001b[39m check_bool_indexer(\u001b[38;5;28mself\u001b[39m\u001b[38;5;241m.\u001b[39mindex, key)\n\u001b[0;32m   1030\u001b[0m     key \u001b[38;5;241m=\u001b[39m np\u001b[38;5;241m.\u001b[39masarray(key, dtype\u001b[38;5;241m=\u001b[39m\u001b[38;5;28mbool\u001b[39m)\n\u001b[0;32m   1031\u001b[0m     \u001b[38;5;28;01mreturn\u001b[39;00m \u001b[38;5;28mself\u001b[39m\u001b[38;5;241m.\u001b[39m_get_values(key)\n",
      "File \u001b[1;32m~\\anaconda3\\Lib\\site-packages\\pandas\\core\\indexing.py:2525\u001b[0m, in \u001b[0;36mcheck_bool_indexer\u001b[1;34m(index, key)\u001b[0m\n\u001b[0;32m   2521\u001b[0m \u001b[38;5;28;01melif\u001b[39;00m \u001b[38;5;129;01mnot\u001b[39;00m is_array_like(result):\n\u001b[0;32m   2522\u001b[0m     \u001b[38;5;66;03m# GH 33924\u001b[39;00m\n\u001b[0;32m   2523\u001b[0m     \u001b[38;5;66;03m# key may contain nan elements, check_array_indexer needs bool array\u001b[39;00m\n\u001b[0;32m   2524\u001b[0m     result \u001b[38;5;241m=\u001b[39m pd_array(result, dtype\u001b[38;5;241m=\u001b[39m\u001b[38;5;28mbool\u001b[39m)\n\u001b[1;32m-> 2525\u001b[0m \u001b[38;5;28;01mreturn\u001b[39;00m check_array_indexer(index, result)\n",
      "File \u001b[1;32m~\\anaconda3\\Lib\\site-packages\\pandas\\core\\indexers\\utils.py:541\u001b[0m, in \u001b[0;36mcheck_array_indexer\u001b[1;34m(array, indexer)\u001b[0m\n\u001b[0;32m    539\u001b[0m     \u001b[38;5;66;03m# GH26658\u001b[39;00m\n\u001b[0;32m    540\u001b[0m     \u001b[38;5;28;01mif\u001b[39;00m \u001b[38;5;28mlen\u001b[39m(indexer) \u001b[38;5;241m!=\u001b[39m \u001b[38;5;28mlen\u001b[39m(array):\n\u001b[1;32m--> 541\u001b[0m         \u001b[38;5;28;01mraise\u001b[39;00m \u001b[38;5;167;01mIndexError\u001b[39;00m(\n\u001b[0;32m    542\u001b[0m             \u001b[38;5;124mf\u001b[39m\u001b[38;5;124m\"\u001b[39m\u001b[38;5;124mBoolean index has wrong length: \u001b[39m\u001b[38;5;124m\"\u001b[39m\n\u001b[0;32m    543\u001b[0m             \u001b[38;5;124mf\u001b[39m\u001b[38;5;124m\"\u001b[39m\u001b[38;5;132;01m{\u001b[39;00m\u001b[38;5;28mlen\u001b[39m(indexer)\u001b[38;5;132;01m}\u001b[39;00m\u001b[38;5;124m instead of \u001b[39m\u001b[38;5;132;01m{\u001b[39;00m\u001b[38;5;28mlen\u001b[39m(array)\u001b[38;5;132;01m}\u001b[39;00m\u001b[38;5;124m\"\u001b[39m\n\u001b[0;32m    544\u001b[0m         )\n\u001b[0;32m    545\u001b[0m \u001b[38;5;28;01melif\u001b[39;00m is_integer_dtype(dtype):\n\u001b[0;32m    546\u001b[0m     \u001b[38;5;28;01mtry\u001b[39;00m:\n",
      "\u001b[1;31mIndexError\u001b[0m: Boolean index has wrong length: 4 instead of 5"
     ]
    }
   ],
   "source": [
    "import pandas as pd\n",
    "s = pd.Series([10,20,30,40,50])\n",
    "print(s[[True,False,False,True]])"
   ]
  },
  {
   "cell_type": "markdown",
   "id": "72dba0df",
   "metadata": {},
   "source": [
    "But in the case of get() method we won't get any error and just we will get None."
   ]
  },
  {
   "cell_type": "code",
   "execution_count": 23,
   "id": "4133b0a6",
   "metadata": {},
   "outputs": [
    {
     "name": "stdout",
     "output_type": "stream",
     "text": [
      "None\n"
     ]
    }
   ],
   "source": [
    "import pandas as pd\n",
    "s = pd.Series([10,20,30,40,50])\n",
    "print(s.get([True,False,False,True])) #None"
   ]
  },
  {
   "cell_type": "markdown",
   "id": "21428150",
   "metadata": {},
   "source": [
    "Note: This approach is very helpful to get values based on some condition."
   ]
  },
  {
   "cell_type": "code",
   "execution_count": 25,
   "id": "4c53a5e4",
   "metadata": {},
   "outputs": [
    {
     "name": "stdout",
     "output_type": "stream",
     "text": [
      "2    30\n",
      "3    40\n",
      "4    50\n",
      "dtype: int64\n"
     ]
    }
   ],
   "source": [
    "# eg-1: To select all values which are > 25.\n",
    "import pandas as pd\n",
    "s = pd.Series([10,20,30,40,50])\n",
    "print(s[s>25])"
   ]
  },
  {
   "cell_type": "code",
   "execution_count": 26,
   "id": "7a0e2007",
   "metadata": {},
   "outputs": [
    {
     "name": "stdout",
     "output_type": "stream",
     "text": [
      "0      0\n",
      "3      3\n",
      "6      6\n",
      "9      9\n",
      "12    12\n",
      "15    15\n",
      "18    18\n",
      "dtype: int64\n"
     ]
    }
   ],
   "source": [
    "# eg-2:\n",
    "import pandas as pd\n",
    "s = pd.Series([i for i in range(20)])\n",
    "print(s[s%3 == 0]) #To select values which are divisible by 3"
   ]
  },
  {
   "cell_type": "markdown",
   "id": "5abc0696",
   "metadata": {},
   "source": [
    "Usage of Callables in Selecting Elements:\n",
    "-----------------------------------------\n",
    "- We can use Callable object like function while selecting values from the Series.\n",
    "- It should return anything,which should be valid argument for indexers and get method."
   ]
  },
  {
   "cell_type": "code",
   "execution_count": 28,
   "id": "eccb3c63",
   "metadata": {},
   "outputs": [
    {
     "name": "stdout",
     "output_type": "stream",
     "text": [
      "1      1\n",
      "3      3\n",
      "5      5\n",
      "7      7\n",
      "9      9\n",
      "11    11\n",
      "13    13\n",
      "15    15\n",
      "17    17\n",
      "19    19\n",
      "dtype: int64\n"
     ]
    }
   ],
   "source": [
    "import pandas as pd\n",
    "s = pd.Series([i for i in range(20)])\n",
    "\n",
    "def odd_selection(s):\n",
    "    return [True if i%2==1 else False for i in range(s.size)]\n",
    "\n",
    "print(s[odd_selection])"
   ]
  },
  {
   "cell_type": "markdown",
   "id": "91c385bd",
   "metadata": {},
   "source": [
    "We can pass Callable object to normal indexer, loc and iloc indexers and for get() method also."
   ]
  },
  {
   "cell_type": "code",
   "execution_count": 29,
   "id": "4684f69b",
   "metadata": {},
   "outputs": [
    {
     "name": "stdout",
     "output_type": "stream",
     "text": [
      "1      1\n",
      "3      3\n",
      "5      5\n",
      "7      7\n",
      "9      9\n",
      "11    11\n",
      "13    13\n",
      "15    15\n",
      "17    17\n",
      "19    19\n",
      "dtype: int64\n",
      "1      1\n",
      "3      3\n",
      "5      5\n",
      "7      7\n",
      "9      9\n",
      "11    11\n",
      "13    13\n",
      "15    15\n",
      "17    17\n",
      "19    19\n",
      "dtype: int64\n",
      "1      1\n",
      "3      3\n",
      "5      5\n",
      "7      7\n",
      "9      9\n",
      "11    11\n",
      "13    13\n",
      "15    15\n",
      "17    17\n",
      "19    19\n",
      "dtype: int64\n",
      "1      1\n",
      "3      3\n",
      "5      5\n",
      "7      7\n",
      "9      9\n",
      "11    11\n",
      "13    13\n",
      "15    15\n",
      "17    17\n",
      "19    19\n",
      "dtype: int64\n"
     ]
    }
   ],
   "source": [
    "import pandas as pd\n",
    "s = pd.Series([i for i in range(20)])\n",
    "print(s[lambda s: [True if i%2==1 else False for i in range(s.size)]])\n",
    "print(s.loc[lambda s: [True if i%2==1 else False for i in range(s.size)]])\n",
    "print(s.iloc[lambda s: [True if i%2==1 else False for i in range(s.size)]])\n",
    "print(s.get(lambda s: [True if i%2==1 else False for i in range(s.size)]))"
   ]
  },
  {
   "cell_type": "code",
   "execution_count": 30,
   "id": "c8a665f7",
   "metadata": {},
   "outputs": [
    {
     "data": {
      "text/plain": [
       "0      0\n",
       "3      3\n",
       "6      6\n",
       "9      9\n",
       "12    12\n",
       "15    15\n",
       "18    18\n",
       "dtype: int64"
      ]
     },
     "execution_count": 30,
     "metadata": {},
     "output_type": "execute_result"
    }
   ],
   "source": [
    "# Q. To get every 3rd value:\n",
    "s.get(lambda s: [True if i%3==0 else False for i in range(s.size)])"
   ]
  },
  {
   "cell_type": "code",
   "execution_count": 32,
   "id": "e3e84ecb",
   "metadata": {},
   "outputs": [
    {
     "name": "stdout",
     "output_type": "stream",
     "text": [
      "0      0\n",
      "3      3\n",
      "6      6\n",
      "9      9\n",
      "12    12\n",
      "15    15\n",
      "18    18\n",
      "dtype: int64\n"
     ]
    }
   ],
   "source": [
    "import pandas as pd\n",
    "s = pd.Series([i for i in range(20)])\n",
    "print(s.get(lambda s: [True if i%3==0 else False for i in range(s.size)]))"
   ]
  },
  {
   "cell_type": "markdown",
   "id": "a0272e89",
   "metadata": {},
   "source": [
    "Q. Consider the Series:\n",
    "Sunny 1000\n",
    "Bunny 2000\n",
    "Chinny 3000\n",
    "Vinny 4500\n",
    "Pinny 6000\n",
    "dtype: int64\n",
    "Select all values where salary is in between 2500 to 5000?"
   ]
  },
  {
   "cell_type": "code",
   "execution_count": 34,
   "id": "3931d8aa",
   "metadata": {},
   "outputs": [
    {
     "name": "stdout",
     "output_type": "stream",
     "text": [
      "Chinny    3000\n",
      "Vinny     4500\n",
      "dtype: int64\n"
     ]
    }
   ],
   "source": [
    "import pandas as pd\n",
    "s = pd.Series(\n",
    "data=[1000,2000,3000,4500,6000],\n",
    "index=['Sunny','Bunny','Chinny','Vinny','Pinny']\n",
    ")\n",
    "#print(s[lambda s: [ True if sal>=2500 and sal<=5000 else False for salin s]])\n",
    "print(s[lambda s: [ True if sal in range(2500,5001) else False for sal in s]])"
   ]
  },
  {
   "cell_type": "markdown",
   "id": "eddb0355",
   "metadata": {},
   "source": [
    "Summary: How to get values from Series object:\n",
    "-----------------------------------------------\n",
    "1. s.head(n)\n",
    "2. s.tail(n)\n",
    "3. s[index]\n",
    "4. s[[index1,index2,index3]]\n",
    "5. s[indexm:indexn] here indexn is not inclusive\n",
    "6. s[label]\n",
    "7. s[[label1,label2,label3]]\n",
    "8. s[[labelm:labeln]] here labeln is inclusive\n",
    "9. s.iloc[index]\n",
    "10. s.iloc[[index1,index2,index3]]\n",
    "11. s.iloc[indexm:indexn] here indexn is not inclusive\n",
    "12. s.loc[label]\n",
    "13. s.loc[[label1,label2,label3]]\n",
    "14. s.loc[[labelm:labeln]] here labeln is inclusive\n",
    "15. s.get(index)\n",
    "16. s.get([index1,index2,index3])\n",
    "17. s.get(label)\n",
    "18. s.get([label1,label2,label3])"
   ]
  },
  {
   "cell_type": "markdown",
   "id": "aa502141",
   "metadata": {},
   "source": [
    "Even we can provide boolean mask values and callable objects as arguments."
   ]
  },
  {
   "cell_type": "markdown",
   "id": "72a3bac5",
   "metadata": {},
   "source": [
    "The important attributes of Series object:\n",
    "------------------------------------------\n",
    "Attributes are nothing but properties which provides information\n",
    "about the Series object."
   ]
  },
  {
   "cell_type": "markdown",
   "id": "50fbe67a",
   "metadata": {},
   "source": [
    "The following are various important attributes of Series object.\n",
    "### 1. s.values:\n",
    "------------\n",
    "Returns values present inside Series object. Mostly it returns ndarray"
   ]
  },
  {
   "cell_type": "code",
   "execution_count": 1,
   "id": "d7875a1c",
   "metadata": {},
   "outputs": [
    {
     "name": "stdout",
     "output_type": "stream",
     "text": [
      "['Sunny' 'Bunny' 'Chinny' 'Vinny' 'Pinny' 'Nikhil']\n"
     ]
    }
   ],
   "source": [
    "import pandas as pd\n",
    "s = pd.Series(\n",
    "data=['Sunny','Bunny','Chinny','Vinny','Pinny','Nikhil'],\n",
    "index=[10,20,30,40,50,60]\n",
    ")\n",
    "print(s.values)"
   ]
  },
  {
   "cell_type": "markdown",
   "id": "b2567799",
   "metadata": {},
   "source": [
    "### 2. s.index:\n",
    "-----------\n",
    "Rerurns the index (axis labels) of the Series.\n"
   ]
  },
  {
   "cell_type": "code",
   "execution_count": 2,
   "id": "d3c53549",
   "metadata": {},
   "outputs": [
    {
     "name": "stdout",
     "output_type": "stream",
     "text": [
      "Index([10, 20, 30, 40, 50, 60], dtype='int64')\n"
     ]
    }
   ],
   "source": [
    "import pandas as pd\n",
    "s = pd.Series(\n",
    "    data=['Sunny','Bunny','Chinny','Vinny','Pinny','Nikhil'],\n",
    "    index=[10,20,30,40,50,60]\n",
    "    )\n",
    "print(s.index)"
   ]
  },
  {
   "cell_type": "markdown",
   "id": "3a811eb6",
   "metadata": {},
   "source": [
    "### 3. s.dtype:\n",
    "-----------\n",
    "Return the dtype object of the underlying data."
   ]
  },
  {
   "cell_type": "code",
   "execution_count": 4,
   "id": "ab5da376",
   "metadata": {},
   "outputs": [
    {
     "name": "stdout",
     "output_type": "stream",
     "text": [
      "object\n"
     ]
    }
   ],
   "source": [
    "print(s.dtype)"
   ]
  },
  {
   "cell_type": "markdown",
   "id": "0de07151",
   "metadata": {},
   "source": [
    "4. s.size:\n",
    "----------\n",
    "Return the number of elements present in the Series object."
   ]
  },
  {
   "cell_type": "markdown",
   "id": "c23bacea",
   "metadata": {},
   "source": [
    "### 5. s.shape:\n",
    "-----------\n",
    "Return a tuple of the shape of the underlying data.\n",
    "In the case of Series, it is single valued tuple, which represents the\n",
    "number of elements present in the Series object."
   ]
  },
  {
   "cell_type": "code",
   "execution_count": 5,
   "id": "107297d2",
   "metadata": {},
   "outputs": [
    {
     "name": "stdout",
     "output_type": "stream",
     "text": [
      "(6,)\n"
     ]
    }
   ],
   "source": [
    "print(s.shape)"
   ]
  },
  {
   "cell_type": "markdown",
   "id": "4ec28933",
   "metadata": {},
   "source": [
    "### 6. s.ndim:\n",
    "---------\n",
    "Returns number of dimensions of the underlying data, by definition 1."
   ]
  },
  {
   "cell_type": "code",
   "execution_count": 6,
   "id": "5044a004",
   "metadata": {},
   "outputs": [
    {
     "name": "stdout",
     "output_type": "stream",
     "text": [
      "1\n"
     ]
    }
   ],
   "source": [
    "print(s.ndim)"
   ]
  },
  {
   "cell_type": "markdown",
   "id": "179b1175",
   "metadata": {},
   "source": [
    "### 7. s.name:\n",
    "---------\n",
    "Return the name of the Series. Default name is None."
   ]
  },
  {
   "cell_type": "code",
   "execution_count": 8,
   "id": "1f112d7e",
   "metadata": {},
   "outputs": [
    {
     "name": "stdout",
     "output_type": "stream",
     "text": [
      "None\n"
     ]
    }
   ],
   "source": [
    "print(s.name)"
   ]
  },
  {
   "cell_type": "markdown",
   "id": "1e0d4070",
   "metadata": {},
   "source": [
    "### 8. s.is_unique:\n",
    "---------------\n",
    "Returns True if values in the object are unique."
   ]
  },
  {
   "cell_type": "code",
   "execution_count": 9,
   "id": "3660daae",
   "metadata": {},
   "outputs": [
    {
     "name": "stdout",
     "output_type": "stream",
     "text": [
      "True\n"
     ]
    }
   ],
   "source": [
    "import pandas as pd\n",
    "s1 = pd.Series(['Sunny','Chinny','Vinny','Pinny','Nikhil'])\n",
    "print(s1.is_unique) #True"
   ]
  },
  {
   "cell_type": "code",
   "execution_count": 10,
   "id": "0a6c65c1",
   "metadata": {},
   "outputs": [
    {
     "name": "stdout",
     "output_type": "stream",
     "text": [
      "False\n"
     ]
    }
   ],
   "source": [
    "s2 = pd.Series(['Sunny','Chinny','Vinny','Sunny','Pinny','Nikhil'])\n",
    "print(s2.is_unique) #False"
   ]
  },
  {
   "cell_type": "markdown",
   "id": "e2b9e4dd",
   "metadata": {},
   "source": [
    "Note:\n",
    "----\n",
    "To get number of unique values, we can use nunique() method.\n",
    "Bydefault it ignores(drops) NaN values. If we want to consider NaN\n",
    "values also then we have to use dropna=False.\n",
    "The default value for dropna is True.\n",
    "Series.nunique(dropna=True)"
   ]
  },
  {
   "cell_type": "code",
   "execution_count": 5,
   "id": "7fcd3031",
   "metadata": {},
   "outputs": [
    {
     "name": "stdout",
     "output_type": "stream",
     "text": [
      "0     Sunny\n",
      "1    Chinny\n",
      "2     Vinny\n",
      "3     Pinny\n",
      "4    Nikhil\n",
      "5     Sunny\n",
      "6    Chinny\n",
      "7       NaN\n",
      "dtype: object\n"
     ]
    }
   ],
   "source": [
    "import pandas as pd\n",
    "import numpy as np\n",
    "\n",
    "s1 = pd.Series(['Sunny','Chinny','Vinny','Pinny','Nikhil','Sunny','Chinny',np.NaN])\n",
    "\n",
    "print(s1)"
   ]
  },
  {
   "cell_type": "code",
   "execution_count": 6,
   "id": "7330654e",
   "metadata": {},
   "outputs": [
    {
     "name": "stdout",
     "output_type": "stream",
     "text": [
      "The Number of unique values with NaN ignore: 5\n"
     ]
    }
   ],
   "source": [
    "print('The Number of unique values with NaN ignore:',s1.nunique())\n"
   ]
  },
  {
   "cell_type": "code",
   "execution_count": 7,
   "id": "61392ef9",
   "metadata": {},
   "outputs": [
    {
     "name": "stdout",
     "output_type": "stream",
     "text": [
      "The Number of unique values without NaN ignore: 6\n"
     ]
    }
   ],
   "source": [
    "print('The Number of unique values without NaN ignore:',s1.nunique(dropna=False)) #6"
   ]
  },
  {
   "cell_type": "markdown",
   "id": "40ebc8d8",
   "metadata": {},
   "source": [
    "### 9. s.is_monotonic, s.is_monotonic_increasing and s.is_monotonic_decreasing:\n",
    "---------------------------------------------------------------------------\n",
    "monotonic means whether values are in some order or not like ascending order or descending order etc. \n",
    "- s.is_monotonic #--->returns true if values in the object are monotonic_increasing.\n",
    "- s.is_monotonic_increasing #--->Alias for is_monotonic.\n",
    "- s.is_monotonic_decreasing #--->Return True if values in the object are monotonic_decreasing."
   ]
  },
  {
   "cell_type": "code",
   "execution_count": 27,
   "id": "50e5cd36",
   "metadata": {},
   "outputs": [
    {
     "name": "stdout",
     "output_type": "stream",
     "text": [
      "True\n",
      "False\n",
      "False\n",
      "False\n",
      "True\n",
      "False\n"
     ]
    }
   ],
   "source": [
    "import pandas as pd\n",
    "import numpy as np\n",
    "\n",
    "s1 = pd.Series([10,20,30,40])\n",
    "s2 = pd.Series([40,30,20,10])\n",
    "s3 = pd.Series([10,20,40,30])\n",
    "\n",
    "# print(s1.is_monotonic) #True  in new version we got error\n",
    "# print(s2.is_monotonic) #False\n",
    "# print(s3.is_monotonic) #False\n",
    "\n",
    "print(s1.is_monotonic_increasing) #True\n",
    "print(s2.is_monotonic_increasing) #False\n",
    "print(s3.is_monotonic_increasing) #False\n",
    "\n",
    "print(s1.is_monotonic_decreasing) #False\n",
    "print(s2.is_monotonic_decreasing) #True\n",
    "print(s3.is_monotonic_decreasing) #False"
   ]
  },
  {
   "cell_type": "markdown",
   "id": "efcfd0ce",
   "metadata": {},
   "source": [
    "### Q. Which of the following attributes of Series object,are equal?\n",
    "\n",
    "- A. s.is_monotonic\n",
    "- B. s.is_monotonic_increasing\n",
    "- C. s.is_monotonic_decreasing\n",
    "- D. All of these\n",
    "\n",
    "Ans: A and B"
   ]
  },
  {
   "cell_type": "markdown",
   "id": "1cc6d68b",
   "metadata": {},
   "source": [
    "### 10. hasnans:\n",
    "-------------\n",
    "Returns True if Series contains NaN or None.\n",
    "ie we can use this attribute to check whether some values are\n",
    "absent/missing or not."
   ]
  },
  {
   "cell_type": "code",
   "execution_count": 8,
   "id": "9b8ea57f",
   "metadata": {},
   "outputs": [
    {
     "name": "stdout",
     "output_type": "stream",
     "text": [
      "False\n",
      "True\n",
      "True\n"
     ]
    }
   ],
   "source": [
    "import pandas as pd\n",
    "\n",
    "s1 = pd.Series([10,20,30,40])\n",
    "s2 = pd.Series([40,30,20,10,pd.NA])\n",
    "s3 = pd.Series([10,20,40,30,None])\n",
    "\n",
    "print(s1.hasnans) #False\n",
    "print(s2.hasnans) #True\n",
    "print(s3.hasnans) #True"
   ]
  },
  {
   "cell_type": "markdown",
   "id": "4704cebe",
   "metadata": {},
   "source": [
    "Summary:\n",
    "--------\n",
    "1. s.values\n",
    "2. s.index\n",
    "3. s.dtype\n",
    "4. s.size\n",
    "5. s.shape\n",
    "6. s.ndim\n",
    "7. s.name\n",
    "8. s.is_unique / s.nunique()\n",
    "9. s.is_monotonic/s.is_montonic_increasing/s.is_monotonic_decreasing\n",
    "10. s.hashnans"
   ]
  },
  {
   "cell_type": "markdown",
   "id": "08836b8a",
   "metadata": {},
   "source": [
    "##### Passing Series object to the Python's inbuilt functions:\n",
    "\n",
    "----------------------------------------------------------------------------\n",
    "We can pass pandas Series object to Python's inbuilt functions.\n",
    "\n",
    "#### 1. len(s):\n",
    "\n",
    "It returns the number of elements present in the Series object.\n",
    "\n",
    "#### 2. type(s):\n",
    "\n",
    "It returns the type of Series object. ie <class\n",
    "'pandas.core.series.Series'>\n",
    "    \n",
    "#### 3. dir(s):\n",
    "----------\n",
    "It returns a list of all members(variables and methods) which are applicable for Series object.\n",
    "\n",
    "#### 4. sorted(s):\n",
    "-------------\n",
    "It will sort the elements present in the Series object and returns List of those values.\n",
    "\n",
    "#### 5. list(s):\n",
    "-----------\n",
    "To get Series object values in the form of List. It is Series to List conversion. List contains only values but not index labels.\n",
    "\n",
    "#### 6. dict(s):\n",
    "----------\n",
    "To convert Series object to dictionary.\n",
    "- dict keys -->Series Object index labels\n",
    "- dict values --->Series Object values\n",
    "\n",
    "#### 7. max(s):\n",
    "----------\n",
    "Returns the maximum value present in the Series object\n",
    "\n",
    "#### 8. min(s):\n",
    "----------\n",
    "Returns the minimum value present in the Series object"
   ]
  },
  {
   "cell_type": "code",
   "execution_count": 15,
   "id": "965b7237",
   "metadata": {},
   "outputs": [
    {
     "name": "stdout",
     "output_type": "stream",
     "text": [
      "0    10\n",
      "1    40\n",
      "2    30\n",
      "3    20\n",
      "dtype: int64\n",
      "4\n",
      "<class 'pandas.core.series.Series'>\n",
      "[10, 40, 30, 20]\n",
      "{0: 10, 1: 40, 2: 30, 3: 20}\n",
      "40\n",
      "10\n",
      "[10, 20, 30, 40]\n",
      "['T', '_AXIS_LEN', '_AXIS_ORDERS', '_AXIS_TO_AXIS_NUMBER', '_HANDLED_TYPES', '__abs__', '__add__', '__and__', '__annotations__', '__array__', '__array_priority__', '__array_ufunc__', '__bool__', '__class__', '__contains__', '__copy__', '__deepcopy__', '__delattr__', '__delitem__', '__dict__', '__dir__', '__divmod__', '__doc__', '__eq__', '__finalize__', '__float__', '__floordiv__', '__format__', '__ge__', '__getattr__', '__getattribute__', '__getitem__', '__getstate__', '__gt__', '__hash__', '__iadd__', '__iand__', '__ifloordiv__', '__imod__', '__imul__', '__init__', '__init_subclass__', '__int__', '__invert__', '__ior__', '__ipow__', '__isub__', '__iter__', '__itruediv__', '__ixor__', '__le__', '__len__', '__lt__', '__matmul__', '__mod__', '__module__', '__mul__', '__ne__', '__neg__', '__new__', '__nonzero__', '__or__', '__pos__', '__pow__', '__radd__', '__rand__', '__rdivmod__', '__reduce__', '__reduce_ex__', '__repr__', '__rfloordiv__', '__rmatmul__', '__rmod__', '__rmul__', '__ror__', '__round__', '__rpow__', '__rsub__', '__rtruediv__', '__rxor__', '__setattr__', '__setitem__', '__setstate__', '__sizeof__', '__str__', '__sub__', '__subclasshook__', '__truediv__', '__weakref__', '__xor__', '_accessors', '_accum_func', '_add_numeric_operations', '_agg_examples_doc', '_agg_see_also_doc', '_align_frame', '_align_series', '_append', '_arith_method', '_as_manager', '_attrs', '_binop', '_can_hold_na', '_check_inplace_and_allows_duplicate_labels', '_check_inplace_setting', '_check_is_chained_assignment_possible', '_check_label_or_level_ambiguity', '_check_setitem_copy', '_clear_item_cache', '_clip_with_one_bound', '_clip_with_scalar', '_cmp_method', '_consolidate', '_consolidate_inplace', '_construct_axes_dict', '_construct_result', '_constructor', '_constructor_expanddim', '_convert_dtypes', '_data', '_dir_additions', '_dir_deletions', '_drop_axis', '_drop_labels_or_levels', '_duplicated', '_find_valid_index', '_flags', '_get_axis', '_get_axis_name', '_get_axis_number', '_get_axis_resolvers', '_get_block_manager_axis', '_get_bool_data', '_get_cacher', '_get_cleaned_column_resolvers', '_get_index_resolvers', '_get_label_or_level_values', '_get_numeric_data', '_get_value', '_get_values', '_get_values_tuple', '_get_with', '_gotitem', '_hidden_attrs', '_indexed_same', '_info_axis', '_info_axis_name', '_info_axis_number', '_init_dict', '_init_mgr', '_inplace_method', '_internal_names', '_internal_names_set', '_is_cached', '_is_copy', '_is_label_or_level_reference', '_is_label_reference', '_is_level_reference', '_is_mixed_type', '_is_view', '_item_cache', '_ixs', '_logical_func', '_logical_method', '_map_values', '_maybe_update_cacher', '_memory_usage', '_metadata', '_mgr', '_min_count_stat_function', '_name', '_needs_reindex_multi', '_protect_consolidate', '_reduce', '_references', '_reindex_axes', '_reindex_indexer', '_reindex_multi', '_reindex_with_indexers', '_rename', '_replace_single', '_repr_data_resource_', '_repr_latex_', '_reset_cache', '_reset_cacher', '_set_as_cached', '_set_axis', '_set_axis_name', '_set_axis_nocheck', '_set_is_copy', '_set_labels', '_set_name', '_set_value', '_set_values', '_set_with', '_set_with_engine', '_slice', '_stat_axis', '_stat_axis_name', '_stat_axis_number', '_stat_function', '_stat_function_ddof', '_take', '_take_with_is_copy', '_to_latex_via_styler', '_typ', '_update_inplace', '_validate_dtype', '_values', '_where', 'abs', 'add', 'add_prefix', 'add_suffix', 'agg', 'aggregate', 'align', 'all', 'any', 'apply', 'argmax', 'argmin', 'argsort', 'array', 'asfreq', 'asof', 'astype', 'at', 'at_time', 'attrs', 'autocorr', 'axes', 'backfill', 'between', 'between_time', 'bfill', 'bool', 'clip', 'combine', 'combine_first', 'compare', 'convert_dtypes', 'copy', 'corr', 'count', 'cov', 'cummax', 'cummin', 'cumprod', 'cumsum', 'describe', 'diff', 'div', 'divide', 'divmod', 'dot', 'drop', 'drop_duplicates', 'droplevel', 'dropna', 'dtype', 'dtypes', 'duplicated', 'empty', 'eq', 'equals', 'ewm', 'expanding', 'explode', 'factorize', 'ffill', 'fillna', 'filter', 'first', 'first_valid_index', 'flags', 'floordiv', 'ge', 'get', 'groupby', 'gt', 'hasnans', 'head', 'hist', 'iat', 'idxmax', 'idxmin', 'iloc', 'index', 'infer_objects', 'info', 'interpolate', 'is_monotonic_decreasing', 'is_monotonic_increasing', 'is_unique', 'isin', 'isna', 'isnull', 'item', 'items', 'keys', 'kurt', 'kurtosis', 'last', 'last_valid_index', 'le', 'loc', 'lt', 'map', 'mask', 'max', 'mean', 'median', 'memory_usage', 'min', 'mod', 'mode', 'mul', 'multiply', 'name', 'nbytes', 'ndim', 'ne', 'nlargest', 'notna', 'notnull', 'nsmallest', 'nunique', 'pad', 'pct_change', 'pipe', 'plot', 'pop', 'pow', 'prod', 'product', 'quantile', 'radd', 'rank', 'ravel', 'rdiv', 'rdivmod', 'reindex', 'reindex_like', 'rename', 'rename_axis', 'reorder_levels', 'repeat', 'replace', 'resample', 'reset_index', 'rfloordiv', 'rmod', 'rmul', 'rolling', 'round', 'rpow', 'rsub', 'rtruediv', 'sample', 'searchsorted', 'sem', 'set_axis', 'set_flags', 'shape', 'shift', 'size', 'skew', 'sort_index', 'sort_values', 'squeeze', 'std', 'sub', 'subtract', 'sum', 'swapaxes', 'swaplevel', 'tail', 'take', 'to_clipboard', 'to_csv', 'to_dict', 'to_excel', 'to_frame', 'to_hdf', 'to_json', 'to_latex', 'to_list', 'to_markdown', 'to_numpy', 'to_period', 'to_pickle', 'to_sql', 'to_string', 'to_timestamp', 'to_xarray', 'transform', 'transpose', 'truediv', 'truncate', 'tz_convert', 'tz_localize', 'unique', 'unstack', 'update', 'value_counts', 'values', 'var', 'view', 'where', 'xs']\n"
     ]
    }
   ],
   "source": [
    "import pandas as pd\n",
    "\n",
    "s = pd.Series([10,40,30,20])\n",
    "print(s)\n",
    "print(len(s)) #4\n",
    "print(type(s)) #<class 'pandas.core.series.Series'>\n",
    "print(list(s)) #[10, 40, 30, 20]\n",
    "print(dict(s)) #{0: 10, 1: 40, 2: 30, 3: 20}\n",
    "print(max(s)) #40\n",
    "print(min(s)) #10\n",
    "print(sorted(s)) #[10, 20, 30, 40]\n",
    "\n",
    "print(dir(s)) #['T', '_AXIS_LEN', '_AXIS_ORDERS',...]\n"
   ]
  },
  {
   "cell_type": "code",
   "execution_count": null,
   "id": "da1eb9f8",
   "metadata": {},
   "outputs": [],
   "source": []
  },
  {
   "cell_type": "code",
   "execution_count": null,
   "id": "7ee77a34",
   "metadata": {},
   "outputs": [],
   "source": []
  },
  {
   "cell_type": "code",
   "execution_count": null,
   "id": "f3bf677d",
   "metadata": {},
   "outputs": [],
   "source": []
  },
  {
   "cell_type": "code",
   "execution_count": null,
   "id": "180204d1",
   "metadata": {},
   "outputs": [],
   "source": []
  },
  {
   "cell_type": "code",
   "execution_count": null,
   "id": "115ce857",
   "metadata": {},
   "outputs": [],
   "source": []
  }
 ],
 "metadata": {
  "kernelspec": {
   "display_name": "Python 3 (ipykernel)",
   "language": "python",
   "name": "python3"
  },
  "language_info": {
   "codemirror_mode": {
    "name": "ipython",
    "version": 3
   },
   "file_extension": ".py",
   "mimetype": "text/x-python",
   "name": "python",
   "nbconvert_exporter": "python",
   "pygments_lexer": "ipython3",
   "version": "3.11.5"
  }
 },
 "nbformat": 4,
 "nbformat_minor": 5
}
