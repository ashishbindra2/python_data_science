{
 "cells": [
  {
   "cell_type": "code",
   "execution_count": 1,
   "id": "2bfc07aa",
   "metadata": {},
   "outputs": [
    {
     "name": "stdout",
     "output_type": "stream",
     "text": [
      "Requirement already satisfied: googletrans in c:\\users\\bindra\\anaconda3\\lib\\site-packages (4.0.0rc1)\n",
      "Requirement already satisfied: httpx==0.13.3 in c:\\users\\bindra\\anaconda3\\lib\\site-packages (from googletrans) (0.13.3)\n",
      "Requirement already satisfied: certifi in c:\\users\\bindra\\anaconda3\\lib\\site-packages (from httpx==0.13.3->googletrans) (2023.7.22)\n",
      "Requirement already satisfied: hstspreload in c:\\users\\bindra\\anaconda3\\lib\\site-packages (from httpx==0.13.3->googletrans) (2024.6.1)\n",
      "Requirement already satisfied: sniffio in c:\\users\\bindra\\anaconda3\\lib\\site-packages (from httpx==0.13.3->googletrans) (1.3.1)\n",
      "Requirement already satisfied: chardet==3.* in c:\\users\\bindra\\anaconda3\\lib\\site-packages (from httpx==0.13.3->googletrans) (3.0.4)\n",
      "Requirement already satisfied: idna==2.* in c:\\users\\bindra\\anaconda3\\lib\\site-packages (from httpx==0.13.3->googletrans) (2.10)\n",
      "Requirement already satisfied: rfc3986<2,>=1.3 in c:\\users\\bindra\\anaconda3\\lib\\site-packages (from httpx==0.13.3->googletrans) (1.5.0)\n",
      "Requirement already satisfied: httpcore==0.9.* in c:\\users\\bindra\\anaconda3\\lib\\site-packages (from httpx==0.13.3->googletrans) (0.9.1)\n",
      "Requirement already satisfied: h11<0.10,>=0.8 in c:\\users\\bindra\\anaconda3\\lib\\site-packages (from httpcore==0.9.*->httpx==0.13.3->googletrans) (0.9.0)\n",
      "Requirement already satisfied: h2==3.* in c:\\users\\bindra\\anaconda3\\lib\\site-packages (from httpcore==0.9.*->httpx==0.13.3->googletrans) (3.2.0)\n",
      "Requirement already satisfied: hyperframe<6,>=5.2.0 in c:\\users\\bindra\\anaconda3\\lib\\site-packages (from h2==3.*->httpcore==0.9.*->httpx==0.13.3->googletrans) (5.2.0)\n",
      "Requirement already satisfied: hpack<4,>=3.0 in c:\\users\\bindra\\anaconda3\\lib\\site-packages (from h2==3.*->httpcore==0.9.*->httpx==0.13.3->googletrans) (3.0.0)\n"
     ]
    }
   ],
   "source": [
    "!pip install googletrans"
   ]
  },
  {
   "cell_type": "code",
   "execution_count": 4,
   "id": "406d43af",
   "metadata": {},
   "outputs": [],
   "source": [
    "from googletrans import Translator\n",
    "translator = Translator()"
   ]
  },
  {
   "cell_type": "code",
   "execution_count": 5,
   "id": "0021712f",
   "metadata": {},
   "outputs": [
    {
     "data": {
      "text/plain": [
       "<googletrans.models.Translated at 0x2553ff01250>"
      ]
     },
     "execution_count": 5,
     "metadata": {},
     "output_type": "execute_result"
    }
   ],
   "source": [
    "translator.translate('안녕하세요.')"
   ]
  },
  {
   "cell_type": "code",
   "execution_count": 6,
   "id": "c2bb0803",
   "metadata": {},
   "outputs": [
    {
     "data": {
      "text/plain": [
       "<googletrans.models.Translated at 0x2553ff1ee10>"
      ]
     },
     "execution_count": 6,
     "metadata": {},
     "output_type": "execute_result"
    }
   ],
   "source": [
    "translator.translate('안녕하세요.', dest='ja')"
   ]
  },
  {
   "cell_type": "code",
   "execution_count": 7,
   "id": "a9482319",
   "metadata": {},
   "outputs": [],
   "source": [
    "from googletrans import Translator\n",
    "translator = Translator(service_urls=[\n",
    "      'translate.google.com',\n",
    "      'translate.google.co.kr',\n",
    "    ])"
   ]
  },
  {
   "cell_type": "code",
   "execution_count": 9,
   "id": "804a00da",
   "metadata": {
    "scrolled": true
   },
   "outputs": [
    {
     "ename": "TypeError",
     "evalue": "the JSON object must be str, bytes or bytearray, not NoneType",
     "output_type": "error",
     "traceback": [
      "\u001b[1;31m---------------------------------------------------------------------------\u001b[0m",
      "\u001b[1;31mTypeError\u001b[0m                                 Traceback (most recent call last)",
      "Cell \u001b[1;32mIn[9], line 1\u001b[0m\n\u001b[1;32m----> 1\u001b[0m translations \u001b[38;5;241m=\u001b[39m translator\u001b[38;5;241m.\u001b[39mtranslate([\u001b[38;5;124m'\u001b[39m\u001b[38;5;124mThe quick brown fox\u001b[39m\u001b[38;5;124m'\u001b[39m, \u001b[38;5;124m'\u001b[39m\u001b[38;5;124mjumps over\u001b[39m\u001b[38;5;124m'\u001b[39m, \u001b[38;5;124m'\u001b[39m\u001b[38;5;124mthe lazy dog\u001b[39m\u001b[38;5;124m'\u001b[39m], dest\u001b[38;5;241m=\u001b[39m\u001b[38;5;124m'\u001b[39m\u001b[38;5;124mko\u001b[39m\u001b[38;5;124m'\u001b[39m)\n",
      "File \u001b[1;32m~\\anaconda3\\Lib\\site-packages\\googletrans\\client.py:219\u001b[0m, in \u001b[0;36mTranslator.translate\u001b[1;34m(self, text, dest, src)\u001b[0m\n\u001b[0;32m    216\u001b[0m         \u001b[38;5;28;01mbreak\u001b[39;00m\n\u001b[0;32m    218\u001b[0m data \u001b[38;5;241m=\u001b[39m json\u001b[38;5;241m.\u001b[39mloads(resp)\n\u001b[1;32m--> 219\u001b[0m parsed \u001b[38;5;241m=\u001b[39m json\u001b[38;5;241m.\u001b[39mloads(data[\u001b[38;5;241m0\u001b[39m][\u001b[38;5;241m2\u001b[39m])\n\u001b[0;32m    220\u001b[0m \u001b[38;5;66;03m# not sure\u001b[39;00m\n\u001b[0;32m    221\u001b[0m should_spacing \u001b[38;5;241m=\u001b[39m parsed[\u001b[38;5;241m1\u001b[39m][\u001b[38;5;241m0\u001b[39m][\u001b[38;5;241m0\u001b[39m][\u001b[38;5;241m3\u001b[39m]\n",
      "File \u001b[1;32m~\\anaconda3\\Lib\\json\\__init__.py:339\u001b[0m, in \u001b[0;36mloads\u001b[1;34m(s, cls, object_hook, parse_float, parse_int, parse_constant, object_pairs_hook, **kw)\u001b[0m\n\u001b[0;32m    337\u001b[0m \u001b[38;5;28;01melse\u001b[39;00m:\n\u001b[0;32m    338\u001b[0m     \u001b[38;5;28;01mif\u001b[39;00m \u001b[38;5;129;01mnot\u001b[39;00m \u001b[38;5;28misinstance\u001b[39m(s, (\u001b[38;5;28mbytes\u001b[39m, \u001b[38;5;28mbytearray\u001b[39m)):\n\u001b[1;32m--> 339\u001b[0m         \u001b[38;5;28;01mraise\u001b[39;00m \u001b[38;5;167;01mTypeError\u001b[39;00m(\u001b[38;5;124mf\u001b[39m\u001b[38;5;124m'\u001b[39m\u001b[38;5;124mthe JSON object must be str, bytes or bytearray, \u001b[39m\u001b[38;5;124m'\u001b[39m\n\u001b[0;32m    340\u001b[0m                         \u001b[38;5;124mf\u001b[39m\u001b[38;5;124m'\u001b[39m\u001b[38;5;124mnot \u001b[39m\u001b[38;5;132;01m{\u001b[39;00ms\u001b[38;5;241m.\u001b[39m\u001b[38;5;18m__class__\u001b[39m\u001b[38;5;241m.\u001b[39m\u001b[38;5;18m__name__\u001b[39m\u001b[38;5;132;01m}\u001b[39;00m\u001b[38;5;124m'\u001b[39m)\n\u001b[0;32m    341\u001b[0m     s \u001b[38;5;241m=\u001b[39m s\u001b[38;5;241m.\u001b[39mdecode(detect_encoding(s), \u001b[38;5;124m'\u001b[39m\u001b[38;5;124msurrogatepass\u001b[39m\u001b[38;5;124m'\u001b[39m)\n\u001b[0;32m    343\u001b[0m \u001b[38;5;28;01mif\u001b[39;00m (\u001b[38;5;28mcls\u001b[39m \u001b[38;5;129;01mis\u001b[39;00m \u001b[38;5;28;01mNone\u001b[39;00m \u001b[38;5;129;01mand\u001b[39;00m object_hook \u001b[38;5;129;01mis\u001b[39;00m \u001b[38;5;28;01mNone\u001b[39;00m \u001b[38;5;129;01mand\u001b[39;00m\n\u001b[0;32m    344\u001b[0m         parse_int \u001b[38;5;129;01mis\u001b[39;00m \u001b[38;5;28;01mNone\u001b[39;00m \u001b[38;5;129;01mand\u001b[39;00m parse_float \u001b[38;5;129;01mis\u001b[39;00m \u001b[38;5;28;01mNone\u001b[39;00m \u001b[38;5;129;01mand\u001b[39;00m\n\u001b[0;32m    345\u001b[0m         parse_constant \u001b[38;5;129;01mis\u001b[39;00m \u001b[38;5;28;01mNone\u001b[39;00m \u001b[38;5;129;01mand\u001b[39;00m object_pairs_hook \u001b[38;5;129;01mis\u001b[39;00m \u001b[38;5;28;01mNone\u001b[39;00m \u001b[38;5;129;01mand\u001b[39;00m \u001b[38;5;129;01mnot\u001b[39;00m kw):\n",
      "\u001b[1;31mTypeError\u001b[0m: the JSON object must be str, bytes or bytearray, not NoneType"
     ]
    }
   ],
   "source": [
    "translations = translator.translate(['The quick brown fox', 'jumps over', 'the lazy dog'], dest='ko')\n",
    "# for translation in translations:\n",
    "#     print(translation.origin, ' -> ', translation.text)"
   ]
  },
  {
   "cell_type": "code",
   "execution_count": 10,
   "id": "ac4dad51",
   "metadata": {},
   "outputs": [
    {
     "data": {
      "text/plain": [
       "<googletrans.models.Detected at 0x25540d59390>"
      ]
     },
     "execution_count": 10,
     "metadata": {},
     "output_type": "execute_result"
    }
   ],
   "source": [
    "translator.detect('이 문장은 한글로 쓰여졌습니다.')"
   ]
  },
  {
   "cell_type": "code",
   "execution_count": 11,
   "id": "dd734884",
   "metadata": {},
   "outputs": [
    {
     "data": {
      "text/plain": [
       "<googletrans.models.Detected at 0x25540e61250>"
      ]
     },
     "execution_count": 11,
     "metadata": {},
     "output_type": "execute_result"
    }
   ],
   "source": [
    "d= translator.detect('이 문장은 한글로 쓰여졌습니다.')\n",
    "d"
   ]
  },
  {
   "cell_type": "code",
   "execution_count": 12,
   "id": "c9d7941b",
   "metadata": {},
   "outputs": [
    {
     "name": "stdout",
     "output_type": "stream",
     "text": [
      "Detected(lang=ko, confidence=None)\n"
     ]
    }
   ],
   "source": [
    "print(d)"
   ]
  },
  {
   "cell_type": "code",
   "execution_count": 13,
   "id": "5db45a7f",
   "metadata": {
    "scrolled": true
   },
   "outputs": [
    {
     "name": "stdout",
     "output_type": "stream",
     "text": [
      "Detected(lang=ja, confidence=None)\n"
     ]
    }
   ],
   "source": [
    "print(translator.detect('この文章は日本語で書かれました。'))"
   ]
  },
  {
   "cell_type": "code",
   "execution_count": 14,
   "id": "61d12bc1",
   "metadata": {},
   "outputs": [
    {
     "name": "stdout",
     "output_type": "stream",
     "text": [
      "Translated(src=ko, dest=ja, text=こんにちは。, pronunciation=Kon'nichiwa., extra_data=\"{'confiden...\")\n"
     ]
    }
   ],
   "source": [
    "print(translator.translate('안녕하세요.', dest='ja'))"
   ]
  },
  {
   "cell_type": "code",
   "execution_count": 15,
   "id": "c210093d",
   "metadata": {},
   "outputs": [
    {
     "ename": "TypeError",
     "evalue": "the JSON object must be str, bytes or bytearray, not NoneType",
     "output_type": "error",
     "traceback": [
      "\u001b[1;31m---------------------------------------------------------------------------\u001b[0m",
      "\u001b[1;31mTypeError\u001b[0m                                 Traceback (most recent call last)",
      "Cell \u001b[1;32mIn[15], line 1\u001b[0m\n\u001b[1;32m----> 1\u001b[0m translations \u001b[38;5;241m=\u001b[39m translator\u001b[38;5;241m.\u001b[39mtranslate([\u001b[38;5;124m'\u001b[39m\u001b[38;5;124mThe quick brown fox\u001b[39m\u001b[38;5;124m'\u001b[39m, \u001b[38;5;124m'\u001b[39m\u001b[38;5;124mjumps over\u001b[39m\u001b[38;5;124m'\u001b[39m, \u001b[38;5;124m'\u001b[39m\u001b[38;5;124mthe lazy dog\u001b[39m\u001b[38;5;124m'\u001b[39m], dest\u001b[38;5;241m=\u001b[39m\u001b[38;5;124m'\u001b[39m\u001b[38;5;124mko\u001b[39m\u001b[38;5;124m'\u001b[39m)\n",
      "File \u001b[1;32m~\\anaconda3\\Lib\\site-packages\\googletrans\\client.py:219\u001b[0m, in \u001b[0;36mTranslator.translate\u001b[1;34m(self, text, dest, src)\u001b[0m\n\u001b[0;32m    216\u001b[0m         \u001b[38;5;28;01mbreak\u001b[39;00m\n\u001b[0;32m    218\u001b[0m data \u001b[38;5;241m=\u001b[39m json\u001b[38;5;241m.\u001b[39mloads(resp)\n\u001b[1;32m--> 219\u001b[0m parsed \u001b[38;5;241m=\u001b[39m json\u001b[38;5;241m.\u001b[39mloads(data[\u001b[38;5;241m0\u001b[39m][\u001b[38;5;241m2\u001b[39m])\n\u001b[0;32m    220\u001b[0m \u001b[38;5;66;03m# not sure\u001b[39;00m\n\u001b[0;32m    221\u001b[0m should_spacing \u001b[38;5;241m=\u001b[39m parsed[\u001b[38;5;241m1\u001b[39m][\u001b[38;5;241m0\u001b[39m][\u001b[38;5;241m0\u001b[39m][\u001b[38;5;241m3\u001b[39m]\n",
      "File \u001b[1;32m~\\anaconda3\\Lib\\json\\__init__.py:339\u001b[0m, in \u001b[0;36mloads\u001b[1;34m(s, cls, object_hook, parse_float, parse_int, parse_constant, object_pairs_hook, **kw)\u001b[0m\n\u001b[0;32m    337\u001b[0m \u001b[38;5;28;01melse\u001b[39;00m:\n\u001b[0;32m    338\u001b[0m     \u001b[38;5;28;01mif\u001b[39;00m \u001b[38;5;129;01mnot\u001b[39;00m \u001b[38;5;28misinstance\u001b[39m(s, (\u001b[38;5;28mbytes\u001b[39m, \u001b[38;5;28mbytearray\u001b[39m)):\n\u001b[1;32m--> 339\u001b[0m         \u001b[38;5;28;01mraise\u001b[39;00m \u001b[38;5;167;01mTypeError\u001b[39;00m(\u001b[38;5;124mf\u001b[39m\u001b[38;5;124m'\u001b[39m\u001b[38;5;124mthe JSON object must be str, bytes or bytearray, \u001b[39m\u001b[38;5;124m'\u001b[39m\n\u001b[0;32m    340\u001b[0m                         \u001b[38;5;124mf\u001b[39m\u001b[38;5;124m'\u001b[39m\u001b[38;5;124mnot \u001b[39m\u001b[38;5;132;01m{\u001b[39;00ms\u001b[38;5;241m.\u001b[39m\u001b[38;5;18m__class__\u001b[39m\u001b[38;5;241m.\u001b[39m\u001b[38;5;18m__name__\u001b[39m\u001b[38;5;132;01m}\u001b[39;00m\u001b[38;5;124m'\u001b[39m)\n\u001b[0;32m    341\u001b[0m     s \u001b[38;5;241m=\u001b[39m s\u001b[38;5;241m.\u001b[39mdecode(detect_encoding(s), \u001b[38;5;124m'\u001b[39m\u001b[38;5;124msurrogatepass\u001b[39m\u001b[38;5;124m'\u001b[39m)\n\u001b[0;32m    343\u001b[0m \u001b[38;5;28;01mif\u001b[39;00m (\u001b[38;5;28mcls\u001b[39m \u001b[38;5;129;01mis\u001b[39;00m \u001b[38;5;28;01mNone\u001b[39;00m \u001b[38;5;129;01mand\u001b[39;00m object_hook \u001b[38;5;129;01mis\u001b[39;00m \u001b[38;5;28;01mNone\u001b[39;00m \u001b[38;5;129;01mand\u001b[39;00m\n\u001b[0;32m    344\u001b[0m         parse_int \u001b[38;5;129;01mis\u001b[39;00m \u001b[38;5;28;01mNone\u001b[39;00m \u001b[38;5;129;01mand\u001b[39;00m parse_float \u001b[38;5;129;01mis\u001b[39;00m \u001b[38;5;28;01mNone\u001b[39;00m \u001b[38;5;129;01mand\u001b[39;00m\n\u001b[0;32m    345\u001b[0m         parse_constant \u001b[38;5;129;01mis\u001b[39;00m \u001b[38;5;28;01mNone\u001b[39;00m \u001b[38;5;129;01mand\u001b[39;00m object_pairs_hook \u001b[38;5;129;01mis\u001b[39;00m \u001b[38;5;28;01mNone\u001b[39;00m \u001b[38;5;129;01mand\u001b[39;00m \u001b[38;5;129;01mnot\u001b[39;00m kw):\n",
      "\u001b[1;31mTypeError\u001b[0m: the JSON object must be str, bytes or bytearray, not NoneType"
     ]
    }
   ],
   "source": [
    "translations = translator.translate(['The quick brown fox', 'jumps over', 'the lazy dog'], dest='ko')"
   ]
  },
  {
   "cell_type": "code",
   "execution_count": 25,
   "id": "14a1fddf",
   "metadata": {
    "scrolled": true
   },
   "outputs": [
    {
     "name": "stdout",
     "output_type": "stream",
     "text": [
      "Detected(lang=en, confidence=None)\n"
     ]
    },
    {
     "ename": "TypeError",
     "evalue": "'Detected' object is not iterable",
     "output_type": "error",
     "traceback": [
      "\u001b[1;31m---------------------------------------------------------------------------\u001b[0m",
      "\u001b[1;31mTypeError\u001b[0m                                 Traceback (most recent call last)",
      "Cell \u001b[1;32mIn[25], line 4\u001b[0m\n\u001b[0;32m      2\u001b[0m langs \u001b[38;5;241m=\u001b[39m translator\u001b[38;5;241m.\u001b[39mdetect(json\u001b[38;5;241m.\u001b[39mdumps([\u001b[38;5;124m'\u001b[39m\u001b[38;5;124m한국어\u001b[39m\u001b[38;5;124m'\u001b[39m, \u001b[38;5;124m'\u001b[39m\u001b[38;5;124m日本語\u001b[39m\u001b[38;5;124m'\u001b[39m, \u001b[38;5;124m'\u001b[39m\u001b[38;5;124mEnglish\u001b[39m\u001b[38;5;124m'\u001b[39m, \u001b[38;5;124m'\u001b[39m\u001b[38;5;124mle français\u001b[39m\u001b[38;5;124m'\u001b[39m]))\n\u001b[0;32m      3\u001b[0m \u001b[38;5;28mprint\u001b[39m(langs)\n\u001b[1;32m----> 4\u001b[0m \u001b[38;5;28;01mfor\u001b[39;00m lang \u001b[38;5;129;01min\u001b[39;00m langs:\n\u001b[0;32m      5\u001b[0m     \u001b[38;5;28mprint\u001b[39m(lang\u001b[38;5;241m.\u001b[39mlang, lang\u001b[38;5;241m.\u001b[39mconfidence)\n",
      "\u001b[1;31mTypeError\u001b[0m: 'Detected' object is not iterable"
     ]
    }
   ],
   "source": [
    "import json\n",
    "langs = translator.detect(json.dumps(['한국어', '日本語', 'English', 'le français']))\n",
    "print(langs)\n",
    "for lang in langs:\n",
    "    print(lang.lang, lang.confidence)"
   ]
  },
  {
   "cell_type": "code",
   "execution_count": 26,
   "id": "d6a024b8",
   "metadata": {},
   "outputs": [
    {
     "data": {
      "text/plain": [
       "{'af': 'afrikaans',\n",
       " 'sq': 'albanian',\n",
       " 'am': 'amharic',\n",
       " 'ar': 'arabic',\n",
       " 'hy': 'armenian',\n",
       " 'az': 'azerbaijani',\n",
       " 'eu': 'basque',\n",
       " 'be': 'belarusian',\n",
       " 'bn': 'bengali',\n",
       " 'bs': 'bosnian',\n",
       " 'bg': 'bulgarian',\n",
       " 'ca': 'catalan',\n",
       " 'ceb': 'cebuano',\n",
       " 'ny': 'chichewa',\n",
       " 'zh-cn': 'chinese (simplified)',\n",
       " 'zh-tw': 'chinese (traditional)',\n",
       " 'co': 'corsican',\n",
       " 'hr': 'croatian',\n",
       " 'cs': 'czech',\n",
       " 'da': 'danish',\n",
       " 'nl': 'dutch',\n",
       " 'en': 'english',\n",
       " 'eo': 'esperanto',\n",
       " 'et': 'estonian',\n",
       " 'tl': 'filipino',\n",
       " 'fi': 'finnish',\n",
       " 'fr': 'french',\n",
       " 'fy': 'frisian',\n",
       " 'gl': 'galician',\n",
       " 'ka': 'georgian',\n",
       " 'de': 'german',\n",
       " 'el': 'greek',\n",
       " 'gu': 'gujarati',\n",
       " 'ht': 'haitian creole',\n",
       " 'ha': 'hausa',\n",
       " 'haw': 'hawaiian',\n",
       " 'iw': 'hebrew',\n",
       " 'he': 'hebrew',\n",
       " 'hi': 'hindi',\n",
       " 'hmn': 'hmong',\n",
       " 'hu': 'hungarian',\n",
       " 'is': 'icelandic',\n",
       " 'ig': 'igbo',\n",
       " 'id': 'indonesian',\n",
       " 'ga': 'irish',\n",
       " 'it': 'italian',\n",
       " 'ja': 'japanese',\n",
       " 'jw': 'javanese',\n",
       " 'kn': 'kannada',\n",
       " 'kk': 'kazakh',\n",
       " 'km': 'khmer',\n",
       " 'ko': 'korean',\n",
       " 'ku': 'kurdish (kurmanji)',\n",
       " 'ky': 'kyrgyz',\n",
       " 'lo': 'lao',\n",
       " 'la': 'latin',\n",
       " 'lv': 'latvian',\n",
       " 'lt': 'lithuanian',\n",
       " 'lb': 'luxembourgish',\n",
       " 'mk': 'macedonian',\n",
       " 'mg': 'malagasy',\n",
       " 'ms': 'malay',\n",
       " 'ml': 'malayalam',\n",
       " 'mt': 'maltese',\n",
       " 'mi': 'maori',\n",
       " 'mr': 'marathi',\n",
       " 'mn': 'mongolian',\n",
       " 'my': 'myanmar (burmese)',\n",
       " 'ne': 'nepali',\n",
       " 'no': 'norwegian',\n",
       " 'or': 'odia',\n",
       " 'ps': 'pashto',\n",
       " 'fa': 'persian',\n",
       " 'pl': 'polish',\n",
       " 'pt': 'portuguese',\n",
       " 'pa': 'punjabi',\n",
       " 'ro': 'romanian',\n",
       " 'ru': 'russian',\n",
       " 'sm': 'samoan',\n",
       " 'gd': 'scots gaelic',\n",
       " 'sr': 'serbian',\n",
       " 'st': 'sesotho',\n",
       " 'sn': 'shona',\n",
       " 'sd': 'sindhi',\n",
       " 'si': 'sinhala',\n",
       " 'sk': 'slovak',\n",
       " 'sl': 'slovenian',\n",
       " 'so': 'somali',\n",
       " 'es': 'spanish',\n",
       " 'su': 'sundanese',\n",
       " 'sw': 'swahili',\n",
       " 'sv': 'swedish',\n",
       " 'tg': 'tajik',\n",
       " 'ta': 'tamil',\n",
       " 'te': 'telugu',\n",
       " 'th': 'thai',\n",
       " 'tr': 'turkish',\n",
       " 'uk': 'ukrainian',\n",
       " 'ur': 'urdu',\n",
       " 'ug': 'uyghur',\n",
       " 'uz': 'uzbek',\n",
       " 'vi': 'vietnamese',\n",
       " 'cy': 'welsh',\n",
       " 'xh': 'xhosa',\n",
       " 'yi': 'yiddish',\n",
       " 'yo': 'yoruba',\n",
       " 'zu': 'zulu'}"
      ]
     },
     "execution_count": 26,
     "metadata": {},
     "output_type": "execute_result"
    }
   ],
   "source": [
    "import googletrans\n",
    "\n",
    "googletrans.LANGUAGES"
   ]
  },
  {
   "cell_type": "code",
   "execution_count": 27,
   "id": "a1f3ecfb",
   "metadata": {},
   "outputs": [
    {
     "name": "stdout",
     "output_type": "stream",
     "text": [
      "Detected(lang=hi, confidence=None)\n"
     ]
    }
   ],
   "source": [
    "from googletrans import Translator\n",
    "\n",
    "trans = Translator()\n",
    "lang  = trans.detect(\"बिहार में 10 दिन के अंदर 5 पुल गिरने के मामले, आख़िर ये कैसे और क्यों हुआ?\")\n",
    "print(lang)"
   ]
  },
  {
   "cell_type": "code",
   "execution_count": 32,
   "id": "84d8ab2f",
   "metadata": {},
   "outputs": [
    {
     "name": "stdout",
     "output_type": "stream",
     "text": [
      "Translated(src=hi, dest=en, text=In Bihar, 5 bridges falling in Bihar within 10 days, how and why did this happen?, pronunciation=None, extra_data=\"{'confiden...\")\n"
     ]
    }
   ],
   "source": [
    "str1= \"बिहार में 10 दिन के अंदर 5 पुल गिरने के मामले, आख़िर ये कैसे और क्यों हुआ?\"\n",
    "data =  trans.translate(str1)\n",
    "print(data)"
   ]
  },
  {
   "cell_type": "code",
   "execution_count": 33,
   "id": "5ad23a6e",
   "metadata": {
    "scrolled": true
   },
   "outputs": [
    {
     "data": {
      "text/plain": [
       "'In Bihar, 5 bridges falling in Bihar within 10 days, how and why did this happen?'"
      ]
     },
     "execution_count": 33,
     "metadata": {},
     "output_type": "execute_result"
    }
   ],
   "source": [
    "data.text"
   ]
  },
  {
   "cell_type": "code",
   "execution_count": 35,
   "id": "cf82c2b9",
   "metadata": {},
   "outputs": [],
   "source": [
    "test = \"Quelles charges sont déductibles dans le chef d'une société ? Quelles charges ne le sont pas \""
   ]
  },
  {
   "cell_type": "code",
   "execution_count": 36,
   "id": "8a2766d5",
   "metadata": {},
   "outputs": [],
   "source": [
    "data = trans.translate(test)"
   ]
  },
  {
   "cell_type": "code",
   "execution_count": 38,
   "id": "02c840d7",
   "metadata": {},
   "outputs": [
    {
     "data": {
      "text/plain": [
       "'fr'"
      ]
     },
     "execution_count": 38,
     "metadata": {},
     "output_type": "execute_result"
    }
   ],
   "source": [
    "data.src"
   ]
  },
  {
   "cell_type": "code",
   "execution_count": 37,
   "id": "a1bca4a9",
   "metadata": {},
   "outputs": [
    {
     "data": {
      "text/plain": [
       "'What charges are deductible in the head of a company?What charges are not'"
      ]
     },
     "execution_count": 37,
     "metadata": {},
     "output_type": "execute_result"
    }
   ],
   "source": [
    "data.text"
   ]
  },
  {
   "cell_type": "code",
   "execution_count": 46,
   "id": "e97b6ee7",
   "metadata": {},
   "outputs": [],
   "source": [
    "data = trans.translate(test,src=\"nl\",dest = \"en\")"
   ]
  },
  {
   "cell_type": "code",
   "execution_count": 47,
   "id": "53a87e4f",
   "metadata": {},
   "outputs": [
    {
     "data": {
      "text/plain": [
       "\"Quelles Charges Sont Déductibles Dans Le Chef d'Une Société?Quelles charges ne le sont pas\""
      ]
     },
     "execution_count": 47,
     "metadata": {},
     "output_type": "execute_result"
    }
   ],
   "source": [
    "data.text"
   ]
  },
  {
   "cell_type": "code",
   "execution_count": 48,
   "id": "40c96ff3",
   "metadata": {
    "scrolled": false
   },
   "outputs": [
    {
     "name": "stdout",
     "output_type": "stream",
     "text": [
      "Translated(src=nl, dest=en, text=Quelles Charges Sont Déductibles Dans Le Chef d'Une Société?Quelles charges ne le sont pas, pronunciation=None, extra_data=\"{'confiden...\")\n"
     ]
    }
   ],
   "source": [
    "print(data)"
   ]
  },
  {
   "cell_type": "code",
   "execution_count": 51,
   "id": "e05b2da4",
   "metadata": {
    "scrolled": true
   },
   "outputs": [
    {
     "data": {
      "text/plain": [
       "\"Quelles charges sont déductibles dans le chef d'une société ? Quelles charges ne le sont pas \""
      ]
     },
     "execution_count": 51,
     "metadata": {},
     "output_type": "execute_result"
    }
   ],
   "source": [
    "data.origin"
   ]
  },
  {
   "cell_type": "code",
   "execution_count": null,
   "id": "b28108da",
   "metadata": {},
   "outputs": [],
   "source": []
  },
  {
   "cell_type": "code",
   "execution_count": null,
   "id": "ea00977e",
   "metadata": {},
   "outputs": [],
   "source": []
  },
  {
   "cell_type": "code",
   "execution_count": null,
   "id": "8448a773",
   "metadata": {},
   "outputs": [],
   "source": []
  },
  {
   "cell_type": "code",
   "execution_count": null,
   "id": "72dbf179",
   "metadata": {},
   "outputs": [],
   "source": []
  },
  {
   "cell_type": "code",
   "execution_count": null,
   "id": "fa7d7387",
   "metadata": {},
   "outputs": [],
   "source": []
  },
  {
   "cell_type": "code",
   "execution_count": 53,
   "id": "f0a33af0",
   "metadata": {},
   "outputs": [
    {
     "name": "stdout",
     "output_type": "stream",
     "text": [
      "Requirement already satisfied: pdfminer in c:\\users\\bindra\\anaconda3\\lib\\site-packages (20191125)\n",
      "Requirement already satisfied: pycryptodome in c:\\users\\bindra\\anaconda3\\lib\\site-packages (from pdfminer) (3.20.0)\n"
     ]
    }
   ],
   "source": [
    "!pip install pdfminer"
   ]
  },
  {
   "cell_type": "code",
   "execution_count": 56,
   "id": "906b2471",
   "metadata": {
    "scrolled": false
   },
   "outputs": [
    {
     "name": "stdout",
     "output_type": "stream",
     "text": [
      "LIST OF HOLIDAYS -  2024\n",
      "\n",
      "HOLDAYS\n",
      "\n",
      "New year\n",
      "\n",
      "Republic Day\n",
      "\n",
      "Holi\n",
      "\n",
      "Good Friday\n",
      "\n",
      "Id-ul-Fitr\n",
      "\n",
      "DAY\n",
      "\n",
      "DATE\n",
      "\n",
      "Monday\n",
      "\n",
      "Friday\n",
      "\n",
      "Monday\n",
      "\n",
      "Friday\n",
      "\n",
      "01st January \n",
      "\n",
      "26th January\n",
      "\n",
      "25th March\n",
      "\n",
      "29th March\n",
      "\n",
      "Thursday\n",
      "\n",
      "11th April\n",
      "\n",
      "Buddha Purnima\n",
      "\n",
      "Thursday\n",
      "\n",
      "23rd May (or)\n",
      "\n",
      "Bakrid/Eid ul-Adha\n",
      "\n",
      "Monday\n",
      "\n",
      "17th June\n",
      "\n",
      "Indepandence Day\n",
      "\n",
      "Thursday\n",
      "\n",
      "15th August\n",
      "\n",
      "Rakshabandan\n",
      "\n",
      "Krishna Janmashtami\n",
      "\n",
      "Eid-e-milad\n",
      "\n",
      "Monday\n",
      "\n",
      "Monday\n",
      "\n",
      "Monday\n",
      "\n",
      "19th August\n",
      "\n",
      "26th August (or)\n",
      "\n",
      "16th September\n",
      "\n",
      "Gandhi Jayanti\n",
      "\n",
      "Wednesday\n",
      "\n",
      "02nd October\n",
      "\n",
      "Dussehra (Vijaya Dashmi)\n",
      "\n",
      "Saturday\n",
      "\n",
      "12th October\n",
      "\n",
      "Diwali\n",
      "\n",
      "Thursday\n",
      "\n",
      "31st October\n",
      "\n",
      "Govardhan Puja\n",
      "\n",
      "Guru Nanak Jayanti\n",
      "\n",
      "Christmas Day\n",
      "\n",
      "Friday\n",
      "\n",
      "Monday\n",
      "\n",
      "Monday\n",
      "\n",
      "01st November\n",
      "\n",
      "27th November\n",
      "\n",
      "25th December\n",
      "\n",
      "1\n",
      "\n",
      "2\n",
      "\n",
      "3\n",
      "\n",
      "4\n",
      "\n",
      "5\n",
      "\n",
      "7\n",
      "\n",
      "8\n",
      "\n",
      "6\n",
      "\n",
      "9\n",
      "\n",
      "10\n",
      "\n",
      "11\n",
      "\n",
      "12\n",
      "\n",
      "13\n",
      "\n",
      "14\n",
      "\n",
      "15\n",
      "\n",
      "Manager-Human Resource & Admin.\n",
      "\n",
      "\f",
      "\n"
     ]
    }
   ],
   "source": [
    "from pdfminer.pdfinterp import PDFResourceManager, PDFPageInterpreter\n",
    "from pdfminer.converter import TextConverter\n",
    "from pdfminer.layout import LAParams\n",
    "from pdfminer.pdfpage import PDFPage\n",
    "from io import StringIO\n",
    "\n",
    "def convert_pdf_to_txt(path):\n",
    "    rsrcmgr = PDFResourceManager()\n",
    "    retstr = StringIO()\n",
    "    codec = 'utf-8'\n",
    "    laparams = LAParams()\n",
    "    device = TextConverter(rsrcmgr, retstr, codec=codec, laparams=laparams)\n",
    "    fp = open(path, 'rb')\n",
    "    interpreter = PDFPageInterpreter(rsrcmgr, device)\n",
    "    password = \"\"\n",
    "    maxpages = 0\n",
    "    caching = True\n",
    "    pagenos=set()\n",
    "\n",
    "    for page in PDFPage.get_pages(fp, pagenos, maxpages=maxpages, password=password,caching=caching, check_extractable=True):\n",
    "        interpreter.process_page(page)\n",
    "\n",
    "    text = retstr.getvalue()\n",
    "\n",
    "    fp.close()\n",
    "    device.close()\n",
    "    retstr.close()\n",
    "    return text\n",
    "data = convert_pdf_to_txt(\"Holidays.pdf\")\n",
    "print(data)"
   ]
  },
  {
   "cell_type": "code",
   "execution_count": 57,
   "id": "01d28978",
   "metadata": {},
   "outputs": [
    {
     "name": "stdout",
     "output_type": "stream",
     "text": [
      "Collecting ocrmypdf\n",
      "  Obtaining dependency information for ocrmypdf from https://files.pythonhosted.org/packages/3d/ce/77b08c820b06ba828dad64e0f2fa6d64d8b78e1f323a899b50f952d3b068/ocrmypdf-16.4.1-py310-none-any.whl.metadata\n",
      "  Downloading ocrmypdf-16.4.1-py310-none-any.whl.metadata (10 kB)\n",
      "Collecting deprecation>=2.1.0 (from ocrmypdf)\n",
      "  Obtaining dependency information for deprecation>=2.1.0 from https://files.pythonhosted.org/packages/02/c3/253a89ee03fc9b9682f1541728eb66db7db22148cd94f89ab22528cd1e1b/deprecation-2.1.0-py2.py3-none-any.whl.metadata\n",
      "  Downloading deprecation-2.1.0-py2.py3-none-any.whl.metadata (4.6 kB)\n",
      "Collecting img2pdf>=0.5 (from ocrmypdf)\n",
      "  Downloading img2pdf-0.5.1.tar.gz (104 kB)\n",
      "     ---------------------------------------- 0.0/104.2 kB ? eta -:--:--\n",
      "     ---------- -------------------------- 30.7/104.2 kB 660.6 kB/s eta 0:00:01\n",
      "     -------------------------------------- 104.2/104.2 kB 1.5 MB/s eta 0:00:00\n",
      "  Preparing metadata (setup.py): started\n",
      "  Preparing metadata (setup.py): finished with status 'done'\n",
      "Requirement already satisfied: packaging>=20 in c:\\users\\bindra\\anaconda3\\lib\\site-packages (from ocrmypdf) (23.1)\n",
      "Requirement already satisfied: pdfminer.six>=20220319 in c:\\users\\bindra\\anaconda3\\lib\\site-packages (from ocrmypdf) (20231228)\n",
      "Collecting pi-heif (from ocrmypdf)\n",
      "  Obtaining dependency information for pi-heif from https://files.pythonhosted.org/packages/55/cc/17ffec7344bc777d0474340e0bc65ac73bfdbee96eb170207920102b32ef/pi_heif-0.16.0-cp311-cp311-win_amd64.whl.metadata\n",
      "  Downloading pi_heif-0.16.0-cp311-cp311-win_amd64.whl.metadata (6.2 kB)\n",
      "Collecting pikepdf>=8.10.1 (from ocrmypdf)\n",
      "  Obtaining dependency information for pikepdf>=8.10.1 from https://files.pythonhosted.org/packages/18/f3/bf68c937ac0c62dd6669368be47d5fa33737f93e2bed31a94b4740a6c823/pikepdf-9.0.0-cp311-cp311-win_amd64.whl.metadata\n",
      "  Downloading pikepdf-9.0.0-cp311-cp311-win_amd64.whl.metadata (8.6 kB)\n",
      "Requirement already satisfied: Pillow>=10.0.1 in c:\\users\\bindra\\anaconda3\\lib\\site-packages (from ocrmypdf) (10.0.1)\n",
      "Requirement already satisfied: pluggy>=1 in c:\\users\\bindra\\anaconda3\\lib\\site-packages (from ocrmypdf) (1.0.0)\n",
      "Requirement already satisfied: rich>=13 in c:\\users\\bindra\\anaconda3\\lib\\site-packages (from ocrmypdf) (13.7.1)\n",
      "Requirement already satisfied: charset-normalizer>=2.0.0 in c:\\users\\bindra\\anaconda3\\lib\\site-packages (from pdfminer.six>=20220319->ocrmypdf) (2.0.4)\n",
      "Requirement already satisfied: cryptography>=36.0.0 in c:\\users\\bindra\\anaconda3\\lib\\site-packages (from pdfminer.six>=20220319->ocrmypdf) (41.0.3)\n",
      "Collecting Deprecated (from pikepdf>=8.10.1->ocrmypdf)\n",
      "  Obtaining dependency information for Deprecated from https://files.pythonhosted.org/packages/20/8d/778b7d51b981a96554f29136cd59ca7880bf58094338085bcf2a979a0e6a/Deprecated-1.2.14-py2.py3-none-any.whl.metadata\n",
      "  Downloading Deprecated-1.2.14-py2.py3-none-any.whl.metadata (5.4 kB)\n",
      "Requirement already satisfied: lxml>=4.8 in c:\\users\\bindra\\anaconda3\\lib\\site-packages (from pikepdf>=8.10.1->ocrmypdf) (4.9.3)\n",
      "Requirement already satisfied: markdown-it-py>=2.2.0 in c:\\users\\bindra\\anaconda3\\lib\\site-packages (from rich>=13->ocrmypdf) (2.2.0)\n",
      "Requirement already satisfied: pygments<3.0.0,>=2.13.0 in c:\\users\\bindra\\anaconda3\\lib\\site-packages (from rich>=13->ocrmypdf) (2.15.1)\n",
      "Requirement already satisfied: cffi>=1.12 in c:\\users\\bindra\\anaconda3\\lib\\site-packages (from cryptography>=36.0.0->pdfminer.six>=20220319->ocrmypdf) (1.15.1)\n",
      "Requirement already satisfied: mdurl~=0.1 in c:\\users\\bindra\\anaconda3\\lib\\site-packages (from markdown-it-py>=2.2.0->rich>=13->ocrmypdf) (0.1.0)\n",
      "Requirement already satisfied: wrapt<2,>=1.10 in c:\\users\\bindra\\anaconda3\\lib\\site-packages (from Deprecated->pikepdf>=8.10.1->ocrmypdf) (1.14.1)\n",
      "Requirement already satisfied: pycparser in c:\\users\\bindra\\anaconda3\\lib\\site-packages (from cffi>=1.12->cryptography>=36.0.0->pdfminer.six>=20220319->ocrmypdf) (2.21)\n",
      "Downloading ocrmypdf-16.4.1-py310-none-any.whl (157 kB)\n",
      "   ---------------------------------------- 0.0/157.4 kB ? eta -:--:--\n",
      "   --------------------------------- ------ 133.1/157.4 kB 7.7 MB/s eta 0:00:01\n",
      "   ---------------------------------------- 157.4/157.4 kB 3.1 MB/s eta 0:00:00\n",
      "Downloading deprecation-2.1.0-py2.py3-none-any.whl (11 kB)\n",
      "Downloading pikepdf-9.0.0-cp311-cp311-win_amd64.whl (3.5 MB)\n",
      "   ---------------------------------------- 0.0/3.5 MB ? eta -:--:--\n",
      "   ---- ----------------------------------- 0.4/3.5 MB 8.3 MB/s eta 0:00:01\n",
      "   --------- ------------------------------ 0.8/3.5 MB 8.3 MB/s eta 0:00:01\n",
      "   --------------- ------------------------ 1.4/3.5 MB 9.5 MB/s eta 0:00:01\n",
      "   -------------------- ------------------- 1.8/3.5 MB 9.3 MB/s eta 0:00:01\n",
      "   ------------------------ --------------- 2.1/3.5 MB 9.7 MB/s eta 0:00:01\n",
      "   ----------------------------- ---------- 2.5/3.5 MB 9.0 MB/s eta 0:00:01\n",
      "   ---------------------------------- ----- 3.0/3.5 MB 9.0 MB/s eta 0:00:01\n",
      "   ---------------------------------------  3.4/3.5 MB 9.1 MB/s eta 0:00:01\n",
      "   ---------------------------------------- 3.5/3.5 MB 8.2 MB/s eta 0:00:00\n",
      "Downloading pi_heif-0.16.0-cp311-cp311-win_amd64.whl (1.6 MB)\n",
      "   ---------------------------------------- 0.0/1.6 MB ? eta -:--:--\n",
      "   ----------- ---------------------------- 0.5/1.6 MB 9.8 MB/s eta 0:00:01\n",
      "   ---------------------- ----------------- 0.9/1.6 MB 9.6 MB/s eta 0:00:01\n",
      "   ----------------------------------- ---- 1.4/1.6 MB 9.9 MB/s eta 0:00:01\n",
      "   ---------------------------------------  1.6/1.6 MB 8.3 MB/s eta 0:00:01\n",
      "   ---------------------------------------- 1.6/1.6 MB 8.4 MB/s eta 0:00:00\n",
      "Downloading Deprecated-1.2.14-py2.py3-none-any.whl (9.6 kB)\n",
      "Building wheels for collected packages: img2pdf\n",
      "  Building wheel for img2pdf (setup.py): started\n",
      "  Building wheel for img2pdf (setup.py): finished with status 'done'\n",
      "  Created wheel for img2pdf: filename=img2pdf-0.5.1-py3-none-any.whl size=49341 sha256=7b90baaa2504b430967356d4038e4bdffa1bc6b397bf21e6ba673c32b8a42b51\n",
      "  Stored in directory: c:\\users\\bindra\\appdata\\local\\pip\\cache\\wheels\\6f\\ec\\69\\9da613cf58f9d936c32eaee2a1f111ad79cfcc24197ad76a72\n",
      "Successfully built img2pdf\n",
      "Installing collected packages: pi-heif, deprecation, Deprecated, pikepdf, img2pdf, ocrmypdf\n",
      "Successfully installed Deprecated-1.2.14 deprecation-2.1.0 img2pdf-0.5.1 ocrmypdf-16.4.1 pi-heif-0.16.0 pikepdf-9.0.0\n"
     ]
    }
   ],
   "source": [
    "!pip install ocrmypdf"
   ]
  },
  {
   "cell_type": "code",
   "execution_count": 94,
   "id": "ca5cccd3",
   "metadata": {},
   "outputs": [
    {
     "data": {
      "application/vnd.jupyter.widget-view+json": {
       "model_id": "5748135ed5e74458a0e31370691e67cd",
       "version_major": 2,
       "version_minor": 0
      },
      "text/plain": [
       "Output()"
      ]
     },
     "metadata": {},
     "output_type": "display_data"
    },
    {
     "data": {
      "text/html": [
       "<pre style=\"white-space:pre;overflow-x:auto;line-height:normal;font-family:Menlo,'DejaVu Sans Mono',consolas,'Courier New',monospace\"></pre>\n"
      ],
      "text/plain": []
     },
     "metadata": {},
     "output_type": "display_data"
    },
    {
     "data": {
      "text/html": [
       "<pre style=\"white-space:pre;overflow-x:auto;line-height:normal;font-family:Menlo,'DejaVu Sans Mono',consolas,'Courier New',monospace\">\n",
       "</pre>\n"
      ],
      "text/plain": [
       "\n"
      ]
     },
     "metadata": {},
     "output_type": "display_data"
    },
    {
     "data": {
      "application/vnd.jupyter.widget-view+json": {
       "model_id": "9c1c525beac34445a5c672223bd81d2d",
       "version_major": 2,
       "version_minor": 0
      },
      "text/plain": [
       "Output()"
      ]
     },
     "metadata": {},
     "output_type": "display_data"
    },
    {
     "data": {
      "text/html": [
       "<pre style=\"white-space:pre;overflow-x:auto;line-height:normal;font-family:Menlo,'DejaVu Sans Mono',consolas,'Courier New',monospace\">Weighted average image DPI is 170.2, max DPI is 300.0. The discrepancy may indicate a high detail region on this \n",
       "page, but could also indicate a problem with the input PDF file. Page image will be rendered at 170.2 DPI.\n",
       "</pre>\n"
      ],
      "text/plain": [
       "Weighted average image DPI is 170.2, max DPI is 300.0. The discrepancy may indicate a high detail region on this \n",
       "page, but could also indicate a problem with the input PDF file. Page image will be rendered at 170.2 DPI.\n"
      ]
     },
     "metadata": {},
     "output_type": "display_data"
    },
    {
     "data": {
      "text/html": [
       "<pre style=\"white-space:pre;overflow-x:auto;line-height:normal;font-family:Menlo,'DejaVu Sans Mono',consolas,'Courier New',monospace\"></pre>\n"
      ],
      "text/plain": []
     },
     "metadata": {},
     "output_type": "display_data"
    },
    {
     "data": {
      "text/html": [
       "<pre style=\"white-space:pre;overflow-x:auto;line-height:normal;font-family:Menlo,'DejaVu Sans Mono',consolas,'Courier New',monospace\">\n",
       "</pre>\n"
      ],
      "text/plain": [
       "\n"
      ]
     },
     "metadata": {},
     "output_type": "display_data"
    },
    {
     "data": {
      "application/vnd.jupyter.widget-view+json": {
       "model_id": "67169af4dc3c4dbea4d2ad88d90b5bc3",
       "version_major": 2,
       "version_minor": 0
      },
      "text/plain": [
       "Output()"
      ]
     },
     "metadata": {},
     "output_type": "display_data"
    },
    {
     "data": {
      "text/html": [
       "<pre style=\"white-space:pre;overflow-x:auto;line-height:normal;font-family:Menlo,'DejaVu Sans Mono',consolas,'Courier New',monospace\"></pre>\n"
      ],
      "text/plain": []
     },
     "metadata": {},
     "output_type": "display_data"
    },
    {
     "data": {
      "text/html": [
       "<pre style=\"white-space:pre;overflow-x:auto;line-height:normal;font-family:Menlo,'DejaVu Sans Mono',consolas,'Courier New',monospace\">\n",
       "</pre>\n"
      ],
      "text/plain": [
       "\n"
      ]
     },
     "metadata": {},
     "output_type": "display_data"
    },
    {
     "data": {
      "application/vnd.jupyter.widget-view+json": {
       "model_id": "b094986d2fda43d0aade7d14c3369bbb",
       "version_major": 2,
       "version_minor": 0
      },
      "text/plain": [
       "Output()"
      ]
     },
     "metadata": {},
     "output_type": "display_data"
    },
    {
     "data": {
      "text/html": [
       "<pre style=\"white-space:pre;overflow-x:auto;line-height:normal;font-family:Menlo,'DejaVu Sans Mono',consolas,'Courier New',monospace\"></pre>\n"
      ],
      "text/plain": []
     },
     "metadata": {},
     "output_type": "display_data"
    },
    {
     "data": {
      "text/html": [
       "<pre style=\"white-space:pre;overflow-x:auto;line-height:normal;font-family:Menlo,'DejaVu Sans Mono',consolas,'Courier New',monospace\">\n",
       "</pre>\n"
      ],
      "text/plain": [
       "\n"
      ]
     },
     "metadata": {},
     "output_type": "display_data"
    },
    {
     "data": {
      "application/vnd.jupyter.widget-view+json": {
       "model_id": "964372d74bfb44adb289dd7182da7995",
       "version_major": 2,
       "version_minor": 0
      },
      "text/plain": [
       "Output()"
      ]
     },
     "metadata": {},
     "output_type": "display_data"
    },
    {
     "data": {
      "text/html": [
       "<pre style=\"white-space:pre;overflow-x:auto;line-height:normal;font-family:Menlo,'DejaVu Sans Mono',consolas,'Courier New',monospace\"></pre>\n"
      ],
      "text/plain": []
     },
     "metadata": {},
     "output_type": "display_data"
    },
    {
     "data": {
      "text/html": [
       "<pre style=\"white-space:pre;overflow-x:auto;line-height:normal;font-family:Menlo,'DejaVu Sans Mono',consolas,'Courier New',monospace\">\n",
       "</pre>\n"
      ],
      "text/plain": [
       "\n"
      ]
     },
     "metadata": {},
     "output_type": "display_data"
    },
    {
     "data": {
      "application/vnd.jupyter.widget-view+json": {
       "model_id": "b9421769efe1482bafc6fa7b4a327670",
       "version_major": 2,
       "version_minor": 0
      },
      "text/plain": [
       "Output()"
      ]
     },
     "metadata": {},
     "output_type": "display_data"
    },
    {
     "data": {
      "text/html": [
       "<pre style=\"white-space:pre;overflow-x:auto;line-height:normal;font-family:Menlo,'DejaVu Sans Mono',consolas,'Courier New',monospace\"></pre>\n"
      ],
      "text/plain": []
     },
     "metadata": {},
     "output_type": "display_data"
    },
    {
     "data": {
      "text/html": [
       "<pre style=\"white-space:pre;overflow-x:auto;line-height:normal;font-family:Menlo,'DejaVu Sans Mono',consolas,'Courier New',monospace\">\n",
       "</pre>\n"
      ],
      "text/plain": [
       "\n"
      ]
     },
     "metadata": {},
     "output_type": "display_data"
    },
    {
     "data": {
      "application/vnd.jupyter.widget-view+json": {
       "model_id": "adbe66113eef400192a3a415fa273942",
       "version_major": 2,
       "version_minor": 0
      },
      "text/plain": [
       "Output()"
      ]
     },
     "metadata": {},
     "output_type": "display_data"
    },
    {
     "data": {
      "text/html": [
       "<pre style=\"white-space:pre;overflow-x:auto;line-height:normal;font-family:Menlo,'DejaVu Sans Mono',consolas,'Courier New',monospace\"></pre>\n"
      ],
      "text/plain": []
     },
     "metadata": {},
     "output_type": "display_data"
    },
    {
     "data": {
      "text/html": [
       "<pre style=\"white-space:pre;overflow-x:auto;line-height:normal;font-family:Menlo,'DejaVu Sans Mono',consolas,'Courier New',monospace\">\n",
       "</pre>\n"
      ],
      "text/plain": [
       "\n"
      ]
     },
     "metadata": {},
     "output_type": "display_data"
    },
    {
     "name": "stderr",
     "output_type": "stream",
     "text": [
      "The output file size is 1.72× larger than the input file.\n",
      "Possible reasons for this include:\n",
      "--deskew was issued, causing transcoding.\n",
      "The optional dependency 'jbig2' was not found, so some image optimizations could not be attempted.\n",
      "The optional dependency 'pngquant' was not found, so some image optimizations could not be attempted.\n",
      "PDF/A conversion was enabled. (Try `--output-type pdf`.)\n",
      "\n"
     ]
    },
    {
     "data": {
      "text/plain": [
       "<ExitCode.ok: 0>"
      ]
     },
     "execution_count": 94,
     "metadata": {},
     "output_type": "execute_result"
    }
   ],
   "source": [
    "import ocrmypdf\n",
    "\n",
    "ocrmypdf.ocr('00.pdf', 'output.pdf', deskew=True,language=\"nld\")"
   ]
  },
  {
   "cell_type": "code",
   "execution_count": 95,
   "id": "e3e2f30a",
   "metadata": {},
   "outputs": [
    {
     "name": "stderr",
     "output_type": "stream",
     "text": [
      "'brew' is not recognized as an internal or external command,\n",
      "operable program or batch file.\n"
     ]
    }
   ],
   "source": [
    "!brew install jbig2enc\n"
   ]
  },
  {
   "cell_type": "code",
   "execution_count": null,
   "id": "14b5f7c2",
   "metadata": {},
   "outputs": [],
   "source": []
  },
  {
   "cell_type": "code",
   "execution_count": 65,
   "id": "92104631",
   "metadata": {},
   "outputs": [
    {
     "name": "stdout",
     "output_type": "stream",
     "text": [
      "Collecting pdf2image\n",
      "  Obtaining dependency information for pdf2image from https://files.pythonhosted.org/packages/62/33/61766ae033518957f877ab246f87ca30a85b778ebaad65b7f74fa7e52988/pdf2image-1.17.0-py3-none-any.whl.metadata\n",
      "  Downloading pdf2image-1.17.0-py3-none-any.whl.metadata (6.2 kB)\n",
      "Requirement already satisfied: pillow in c:\\users\\bindra\\anaconda3\\lib\\site-packages (from pdf2image) (10.0.1)\n",
      "Downloading pdf2image-1.17.0-py3-none-any.whl (11 kB)\n",
      "Installing collected packages: pdf2image\n",
      "Successfully installed pdf2image-1.17.0\n"
     ]
    }
   ],
   "source": [
    "!pip install pdf2image"
   ]
  },
  {
   "cell_type": "code",
   "execution_count": 85,
   "id": "920ea439",
   "metadata": {},
   "outputs": [
    {
     "name": "stdout",
     "output_type": "stream",
     "text": [
      "Collecting python-poppler\n",
      "  Using cached python_poppler-0.4.1.tar.gz (138 kB)\n",
      "  Installing build dependencies: started\n",
      "  Installing build dependencies: finished with status 'done'\n",
      "  Getting requirements to build wheel: started\n",
      "  Getting requirements to build wheel: finished with status 'done'\n",
      "  Installing backend dependencies: started\n",
      "  Installing backend dependencies: finished with status 'done'\n",
      "  Preparing metadata (pyproject.toml): started\n",
      "  Preparing metadata (pyproject.toml): finished with status 'error'\n"
     ]
    },
    {
     "name": "stderr",
     "output_type": "stream",
     "text": [
      "  error: subprocess-exited-with-error\n",
      "  \n",
      "  Preparing metadata (pyproject.toml) did not run successfully.\n",
      "  exit code: 1\n",
      "  \n",
      "  [20 lines of output]\n",
      "  + meson setup C:\\Users\\Bindra\\AppData\\Local\\Temp\\pip-install-n9cs4_58\\python-poppler_4a173cfbbc1e4125b4a7a15d365833f7 C:\\Users\\Bindra\\AppData\\Local\\Temp\\pip-install-n9cs4_58\\python-poppler_4a173cfbbc1e4125b4a7a15d365833f7\\.mesonpy-gvfrkl4v -Dbuildtype=release -Db_ndebug=if-release -Db_vscrt=md --native-file=C:\\Users\\Bindra\\AppData\\Local\\Temp\\pip-install-n9cs4_58\\python-poppler_4a173cfbbc1e4125b4a7a15d365833f7\\.mesonpy-gvfrkl4v\\meson-python-native-file.ini\n",
      "  The Meson build system\n",
      "  Version: 1.4.1\n",
      "  Source dir: C:\\Users\\Bindra\\AppData\\Local\\Temp\\pip-install-n9cs4_58\\python-poppler_4a173cfbbc1e4125b4a7a15d365833f7\n",
      "  Build dir: C:\\Users\\Bindra\\AppData\\Local\\Temp\\pip-install-n9cs4_58\\python-poppler_4a173cfbbc1e4125b4a7a15d365833f7\\.mesonpy-gvfrkl4v\n",
      "  Build type: native build\n",
      "  Project name: python-poppler\n",
      "  Project version: 0.4.1\n",
      "  WARNING: Failed to activate VS environment: Could not find C:\\Program Files (x86)\\Microsoft Visual Studio\\Installer\\vswhere.exe\n",
      "  \n",
      "  ..\\meson.build:1:0: ERROR: Unknown compiler(s): [['icl'], ['cl'], ['c++'], ['g++'], ['clang++'], ['clang-cl']]\n",
      "  The following exception(s) were encountered:\n",
      "  Running `icl \"\"` gave \"[WinError 2] The system cannot find the file specified\"\n",
      "  Running `cl /?` gave \"[WinError 2] The system cannot find the file specified\"\n",
      "  Running `c++ --version` gave \"[WinError 2] The system cannot find the file specified\"\n",
      "  Running `g++ --version` gave \"[WinError 2] The system cannot find the file specified\"\n",
      "  Running `clang++ --version` gave \"[WinError 2] The system cannot find the file specified\"\n",
      "  Running `clang-cl /?` gave \"[WinError 2] The system cannot find the file specified\"\n",
      "  \n",
      "  A full log can be found at C:\\Users\\Bindra\\AppData\\Local\\Temp\\pip-install-n9cs4_58\\python-poppler_4a173cfbbc1e4125b4a7a15d365833f7\\.mesonpy-gvfrkl4v\\meson-logs\\meson-log.txt\n",
      "  [end of output]\n",
      "  \n",
      "  note: This error originates from a subprocess, and is likely not a problem with pip.\n",
      "error: metadata-generation-failed\n",
      "\n",
      "Encountered error while generating package metadata.\n",
      "\n",
      "See above for output.\n",
      "\n",
      "note: This is an issue with the package mentioned above, not pip.\n",
      "hint: See above for details.\n"
     ]
    }
   ],
   "source": [
    "!pip install python-poppler"
   ]
  },
  {
   "cell_type": "code",
   "execution_count": 91,
   "id": "e6ac4aa5",
   "metadata": {},
   "outputs": [],
   "source": [
    "os.environ['TESSDATA_PREFIX'] = r'C:\\Program Files\\Tesseract-OCR\\tessdata'\n"
   ]
  },
  {
   "cell_type": "code",
   "execution_count": 92,
   "id": "b35adc94",
   "metadata": {},
   "outputs": [
    {
     "name": "stdout",
     "output_type": "stream",
     "text": [
      "00.txt\n"
     ]
    }
   ],
   "source": [
    "# Importing the os module to perform file operations\n",
    "import os  \n",
    "# Importing the pytesseract module to extract text from images\n",
    "import pytesseract as tess  \n",
    "# Importing the Image module from the PIL package to work with images\n",
    "from PIL import Image  \n",
    "# Importing the convert_from_path function from the pdf2image module to convert PDF files to images\n",
    "from pdf2image import convert_from_path  \n",
    "\n",
    "#This function takes a PDF file name as input and returns the name of the text file that contains the extracted text.\n",
    "def read_pdf(file_name):   \n",
    "    # Store all pages of one file here:\n",
    "    pages = []\n",
    "\n",
    "    try:\n",
    "        # Convert the PDF file to a list of PIL images:\n",
    "        images = convert_from_path(file_name,poppler_path=r\"C:\\Users\\Bindra\\Downloads\\Release-24.02.0-0\\poppler-24.02.0\\Library\\bin\")\n",
    "        # Extract text from each image:\n",
    "        for i, image in enumerate(images):\n",
    "          # Generating filename for each image\n",
    "            filename = \"page_\" + str(i) + \"_\" + os.path.basename(file_name) + \".jpeg\"  \n",
    "            image.save(filename, \"JPEG\")  \n",
    "          # Saving each image as JPEG\n",
    "            text = tess.image_to_string(Image.open(filename))  # Extracting text from each image using pytesseract\n",
    "            pages.append(text)  \n",
    "          # Appending extracted text to pages list\n",
    "\n",
    "    except Exception as e:\n",
    "        print(str(e))\n",
    "\n",
    "    # Write the extracted text to a file:\n",
    "    output_file_name = os.path.splitext(file_name)[0] + \".txt\"  # Generating output file name\n",
    "    with open(output_file_name, \"w\") as f:\n",
    "        f.write(\"\\n\".join(pages))  \n",
    "      # Writing extracted text to output file\n",
    "\n",
    "    return output_file_name\n",
    "\n",
    "#print function returns the final converted text \n",
    "pdf_file = \"00.pdf\"\n",
    "print(read_pdf(pdf_file))"
   ]
  },
  {
   "cell_type": "code",
   "execution_count": 97,
   "id": "657a09ed",
   "metadata": {},
   "outputs": [
    {
     "name": "stdout",
     "output_type": "stream",
     "text": [
      "Collecting pdftotext\n",
      "  Using cached pdftotext-2.2.2.tar.gz (113 kB)\n",
      "  Preparing metadata (setup.py): started\n",
      "  Preparing metadata (setup.py): finished with status 'done'\n",
      "Building wheels for collected packages: pdftotext\n",
      "  Building wheel for pdftotext (setup.py): started\n",
      "  Building wheel for pdftotext (setup.py): finished with status 'error'\n",
      "  Running setup.py clean for pdftotext\n",
      "Failed to build pdftotext\n"
     ]
    },
    {
     "name": "stderr",
     "output_type": "stream",
     "text": [
      "  error: subprocess-exited-with-error\n",
      "  \n",
      "  python setup.py bdist_wheel did not run successfully.\n",
      "  exit code: 1\n",
      "  \n",
      "  [11 lines of output]\n",
      "  WARNING: pkg-config not found--guessing at poppler version.\n",
      "           If the build fails, install pkg-config and try again.\n",
      "  WARNING: pkg-config not found--guessing at poppler version.\n",
      "           If the build fails, install pkg-config and try again.\n",
      "  WARNING: pkg-config not found--guessing at poppler version.\n",
      "           If the build fails, install pkg-config and try again.\n",
      "  running bdist_wheel\n",
      "  running build\n",
      "  running build_ext\n",
      "  building 'pdftotext' extension\n",
      "  error: Microsoft Visual C++ 14.0 or greater is required. Get it with \"Microsoft C++ Build Tools\": https://visualstudio.microsoft.com/visual-cpp-build-tools/\n",
      "  [end of output]\n",
      "  \n",
      "  note: This error originates from a subprocess, and is likely not a problem with pip.\n",
      "  ERROR: Failed building wheel for pdftotext\n",
      "ERROR: Could not build wheels for pdftotext, which is required to install pyproject.toml-based projects\n"
     ]
    }
   ],
   "source": [
    "!pip install pdftotext"
   ]
  },
  {
   "cell_type": "code",
   "execution_count": 99,
   "id": "36a6620f",
   "metadata": {},
   "outputs": [
    {
     "ename": "ModuleNotFoundError",
     "evalue": "No module named 'pdftotext'",
     "output_type": "error",
     "traceback": [
      "\u001b[1;31m---------------------------------------------------------------------------\u001b[0m",
      "\u001b[1;31mModuleNotFoundError\u001b[0m                       Traceback (most recent call last)",
      "Cell \u001b[1;32mIn[99], line 2\u001b[0m\n\u001b[0;32m      1\u001b[0m \u001b[38;5;28;01mimport\u001b[39;00m \u001b[38;5;21;01mglob\u001b[39;00m\n\u001b[1;32m----> 2\u001b[0m \u001b[38;5;28;01mimport\u001b[39;00m \u001b[38;5;21;01mpdftotext\u001b[39;00m\n\u001b[0;32m      4\u001b[0m \u001b[38;5;66;03m# Get all PDF files in the invoices folder\u001b[39;00m\n\u001b[0;32m      5\u001b[0m files \u001b[38;5;241m=\u001b[39m glob\u001b[38;5;241m.\u001b[39mglob(\u001b[38;5;124m'\u001b[39m\u001b[38;5;124mtest.pdf\u001b[39m\u001b[38;5;124m'\u001b[39m)\n",
      "\u001b[1;31mModuleNotFoundError\u001b[0m: No module named 'pdftotext'"
     ]
    }
   ],
   "source": [
    "import glob\n",
    "import pdftotext\n",
    " \n",
    "# Get all PDF files in the invoices folder\n",
    "files = glob.glob('test.pdf')\n",
    " \n",
    "for i, file in enumerate(files):\n",
    "    with open(test, 'rb') as f:\n",
    "        # Raw=True is needed to get text grouped together\n",
    "        #   which improves the accuracy\n",
    "        pdf = pdftotext.PDF(f, raw=True)\n",
    "        text = '\\n\\n'.join(pdf)\n",
    "        print(text)"
   ]
  },
  {
   "cell_type": "code",
   "execution_count": 106,
   "id": "6622f0a2",
   "metadata": {
    "scrolled": true
   },
   "outputs": [
    {
     "name": "stdout",
     "output_type": "stream",
     "text": [
      "[<PIL.PngImagePlugin.PngImageFile image mode=RGB size=1655x2340 at 0x25546AF1750>]\n",
      "[<PIL.PngImagePlugin.PngImageFile image mode=RGB size=1655x2340 at 0x25546A83F10>, <PIL.PngImagePlugin.PngImageFile image mode=RGB size=1655x2340 at 0x25546A83350>, <PIL.PngImagePlugin.PngImageFile image mode=RGB size=1655x2340 at 0x25546AF1810>, <PIL.PngImagePlugin.PngImageFile image mode=RGB size=1655x2340 at 0x2554404EED0>, <PIL.PngImagePlugin.PngImageFile image mode=RGB size=1655x2340 at 0x25544074210>, <PIL.PngImagePlugin.PngImageFile image mode=RGB size=1655x2340 at 0x2554410CB50>, <PIL.PngImagePlugin.PngImageFile image mode=RGB size=1655x2340 at 0x2554410C1D0>, <PIL.PngImagePlugin.PngImageFile image mode=RGB size=1655x2340 at 0x25546A647D0>, <PIL.PngImagePlugin.PngImageFile image mode=RGB size=1655x2340 at 0x25546A67850>, <PIL.PngImagePlugin.PngImageFile image mode=RGB size=1655x2340 at 0x25546A657D0>, <PIL.PngImagePlugin.PngImageFile image mode=RGB size=1655x2340 at 0x25546AB4650>, <PIL.PngImagePlugin.PngImageFile image mode=RGB size=1655x2340 at 0x25546AB4090>, <PIL.PngImagePlugin.PngImageFile image mode=RGB size=1655x2340 at 0x25546AB6950>, <PIL.PngImagePlugin.PngImageFile image mode=RGB size=1655x2340 at 0x25546AB7250>, <PIL.PngImagePlugin.PngImageFile image mode=RGB size=1655x2340 at 0x25544038B10>, <PIL.PngImagePlugin.PngImageFile image mode=RGB size=1655x2340 at 0x25546A80B50>, <PIL.PngImagePlugin.PngImageFile image mode=RGB size=1655x2340 at 0x25544119890>, <PIL.PngImagePlugin.PngImageFile image mode=RGB size=1655x2340 at 0x25546B28590>, <PIL.PngImagePlugin.PngImageFile image mode=RGB size=1655x2340 at 0x25546B2AB10>, <PIL.PngImagePlugin.PngImageFile image mode=RGB size=1655x2340 at 0x25546B28BD0>, <PIL.PngImagePlugin.PngImageFile image mode=RGB size=1655x2340 at 0x25546B288D0>, <PIL.PngImagePlugin.PngImageFile image mode=RGB size=1655x2340 at 0x25546B29D10>, <PIL.PngImagePlugin.PngImageFile image mode=RGB size=1655x2340 at 0x25546B29810>, <PIL.PngImagePlugin.PngImageFile image mode=RGB size=1655x2340 at 0x25546B2B290>, <PIL.PngImagePlugin.PngImageFile image mode=RGB size=1655x2340 at 0x25546B2B2D0>, <PIL.PngImagePlugin.PngImageFile image mode=RGB size=1655x2340 at 0x25546B2BC50>, <PIL.PngImagePlugin.PngImageFile image mode=RGB size=1655x2340 at 0x25546B29150>, <PIL.PngImagePlugin.PngImageFile image mode=RGB size=1655x2340 at 0x25546B28250>, <PIL.PngImagePlugin.PngImageFile image mode=RGB size=1655x2340 at 0x25546B2A050>, <PIL.PngImagePlugin.PngImageFile image mode=RGB size=1655x2340 at 0x25546B2A210>]\n",
      "[<PIL.PngImagePlugin.PngImageFile image mode=RGB size=1700x2200 at 0x25546B321D0>, <PIL.PngImagePlugin.PngImageFile image mode=RGB size=1700x2200 at 0x25546B32A90>, <PIL.PngImagePlugin.PngImageFile image mode=RGB size=1700x2200 at 0x25546B31E10>, <PIL.PngImagePlugin.PngImageFile image mode=RGB size=1700x2200 at 0x25546B31C90>, <PIL.PngImagePlugin.PngImageFile image mode=RGB size=1700x2200 at 0x25546B30C10>, <PIL.PngImagePlugin.PngImageFile image mode=RGB size=1700x2200 at 0x25546B322D0>, <PIL.PngImagePlugin.PngImageFile image mode=RGB size=1700x2200 at 0x25546B302D0>, <PIL.PngImagePlugin.PngImageFile image mode=RGB size=1700x2200 at 0x25546B32810>, <PIL.PngImagePlugin.PngImageFile image mode=RGB size=1700x2200 at 0x25546B32750>, <PIL.PngImagePlugin.PngImageFile image mode=RGB size=1700x2200 at 0x25546B32B10>, <PIL.PngImagePlugin.PngImageFile image mode=RGB size=1700x2200 at 0x25546B33290>, <PIL.PngImagePlugin.PngImageFile image mode=RGB size=1700x2200 at 0x25546B33490>, <PIL.PngImagePlugin.PngImageFile image mode=RGB size=1700x2200 at 0x25546B33910>, <PIL.PngImagePlugin.PngImageFile image mode=RGB size=1700x2200 at 0x25546B33BD0>, <PIL.PngImagePlugin.PngImageFile image mode=RGB size=1700x2200 at 0x25546B33950>, <PIL.PngImagePlugin.PngImageFile image mode=RGB size=1700x2200 at 0x25546B33C50>, <PIL.PngImagePlugin.PngImageFile image mode=RGB size=1700x2200 at 0x25546B40210>, <PIL.PngImagePlugin.PngImageFile image mode=RGB size=1700x2200 at 0x25546B404D0>, <PIL.PngImagePlugin.PngImageFile image mode=RGB size=1700x2200 at 0x25546B40650>]\n",
      "[<PIL.PngImagePlugin.PngImageFile image mode=RGB size=1654x2339 at 0x25544077A90>]\n",
      "[<PIL.PngImagePlugin.PngImageFile image mode=RGB size=1655x2340 at 0x25546AA0990>]\n",
      "[<PIL.PngImagePlugin.PngImageFile image mode=RGB size=1485x285 at 0x25546AF3B50>]\n"
     ]
    }
   ],
   "source": [
    "import glob\n",
    " \n",
    "from pdf2image import convert_from_path\n",
    " \n",
    "invoices = glob.glob('*.pdf')\n",
    " \n",
    "for i, invoice in enumerate(invoices):\n",
    "    # Store Pdf with convert_from_path function\n",
    "    # use_pdftocairo=True is faster than the default `poppler` library\n",
    "    images = convert_from_path(invoice, use_pdftocairo=True,poppler_path=r\"C:\\Users\\Bindra\\Downloads\\Release-24.02.0-0\\poppler-24.02.0\\Library\\bin\")\n",
    "    print(images)\n",
    "    for j in range(len(images)):\n",
    "        # Save pages as images in the pdf\n",
    "        invoice_name = invoice.split('.')[0]\n",
    "        images[j].save(\"pdf_img/\"+ invoice_name + '-page' + str(j) + '.jpg')"
   ]
  },
  {
   "cell_type": "code",
   "execution_count": null,
   "id": "3862fc69",
   "metadata": {},
   "outputs": [
    {
     "name": "stdout",
     "output_type": "stream",
     "text": [
      "[<PIL.PngImagePlugin.PngImageFile image mode=RGB size=1655x2340 at 0x25546AF34D0>]\n",
      "[<PIL.PngImagePlugin.PngImageFile image mode=RGB size=1655x2340 at 0x25546AB6B50>, <PIL.PngImagePlugin.PngImageFile image mode=RGB size=1655x2340 at 0x25546AB4650>, <PIL.PngImagePlugin.PngImageFile image mode=RGB size=1655x2340 at 0x2554417C650>, <PIL.PngImagePlugin.PngImageFile image mode=RGB size=1655x2340 at 0x2554403A310>, <PIL.PngImagePlugin.PngImageFile image mode=RGB size=1655x2340 at 0x2554408A6D0>, <PIL.PngImagePlugin.PngImageFile image mode=RGB size=1655x2340 at 0x2554410D250>, <PIL.PngImagePlugin.PngImageFile image mode=RGB size=1655x2340 at 0x2554410C090>, <PIL.PngImagePlugin.PngImageFile image mode=RGB size=1655x2340 at 0x2554410C0D0>, <PIL.PngImagePlugin.PngImageFile image mode=RGB size=1655x2340 at 0x25546A81FD0>, <PIL.PngImagePlugin.PngImageFile image mode=RGB size=1655x2340 at 0x25546A839D0>, <PIL.PngImagePlugin.PngImageFile image mode=RGB size=1655x2340 at 0x25546A83C50>, <PIL.PngImagePlugin.PngImageFile image mode=RGB size=1655x2340 at 0x25546B2B810>, <PIL.PngImagePlugin.PngImageFile image mode=RGB size=1655x2340 at 0x25546B2B550>, <PIL.PngImagePlugin.PngImageFile image mode=RGB size=1655x2340 at 0x25546B29490>, <PIL.PngImagePlugin.PngImageFile image mode=RGB size=1655x2340 at 0x25546B28B50>, <PIL.PngImagePlugin.PngImageFile image mode=RGB size=1655x2340 at 0x25546B28F90>, <PIL.PngImagePlugin.PngImageFile image mode=RGB size=1655x2340 at 0x25546B2B110>, <PIL.PngImagePlugin.PngImageFile image mode=RGB size=1655x2340 at 0x25546B2BB90>, <PIL.PngImagePlugin.PngImageFile image mode=RGB size=1655x2340 at 0x25546B29810>, <PIL.PngImagePlugin.PngImageFile image mode=RGB size=1655x2340 at 0x255440B74D0>, <PIL.PngImagePlugin.PngImageFile image mode=RGB size=1655x2340 at 0x255441C3350>, <PIL.PngImagePlugin.PngImageFile image mode=RGB size=1655x2340 at 0x25546AFCF50>, <PIL.PngImagePlugin.PngImageFile image mode=RGB size=1655x2340 at 0x25546A66E90>, <PIL.PngImagePlugin.PngImageFile image mode=RGB size=1655x2340 at 0x25545647C10>, <PIL.PngImagePlugin.PngImageFile image mode=RGB size=1655x2340 at 0x2554418F7D0>, <PIL.PngImagePlugin.PngImageFile image mode=RGB size=1655x2340 at 0x25546B29250>, <PIL.PngImagePlugin.PngImageFile image mode=RGB size=1655x2340 at 0x25546B32FD0>, <PIL.PngImagePlugin.PngImageFile image mode=RGB size=1655x2340 at 0x25546B33D50>, <PIL.PngImagePlugin.PngImageFile image mode=RGB size=1655x2340 at 0x25546B30290>, <PIL.PngImagePlugin.PngImageFile image mode=RGB size=1655x2340 at 0x25546B30050>]\n",
      "[<PIL.PngImagePlugin.PngImageFile image mode=RGB size=1700x2200 at 0x25546B33B90>, <PIL.PngImagePlugin.PngImageFile image mode=RGB size=1700x2200 at 0x25546B33790>, <PIL.PngImagePlugin.PngImageFile image mode=RGB size=1700x2200 at 0x25546B33BD0>, <PIL.PngImagePlugin.PngImageFile image mode=RGB size=1700x2200 at 0x2554407EDD0>, <PIL.PngImagePlugin.PngImageFile image mode=RGB size=1700x2200 at 0x25546B29310>, <PIL.PngImagePlugin.PngImageFile image mode=RGB size=1700x2200 at 0x25546A73750>, <PIL.PngImagePlugin.PngImageFile image mode=RGB size=1700x2200 at 0x25546B40110>, <PIL.PngImagePlugin.PngImageFile image mode=RGB size=1700x2200 at 0x25546B40890>, <PIL.PngImagePlugin.PngImageFile image mode=RGB size=1700x2200 at 0x25546B40AD0>, <PIL.PngImagePlugin.PngImageFile image mode=RGB size=1700x2200 at 0x25546B40B10>, <PIL.PngImagePlugin.PngImageFile image mode=RGB size=1700x2200 at 0x25546B40C50>, <PIL.PngImagePlugin.PngImageFile image mode=RGB size=1700x2200 at 0x25546B40F90>, <PIL.PngImagePlugin.PngImageFile image mode=RGB size=1700x2200 at 0x25546B41150>, <PIL.PngImagePlugin.PngImageFile image mode=RGB size=1700x2200 at 0x25546B412D0>, <PIL.PngImagePlugin.PngImageFile image mode=RGB size=1700x2200 at 0x25546B411D0>, <PIL.PngImagePlugin.PngImageFile image mode=RGB size=1700x2200 at 0x25546B41450>, <PIL.PngImagePlugin.PngImageFile image mode=RGB size=1700x2200 at 0x25546B41B10>, <PIL.PngImagePlugin.PngImageFile image mode=RGB size=1700x2200 at 0x25546B41CD0>, <PIL.PngImagePlugin.PngImageFile image mode=RGB size=1700x2200 at 0x25546B41E50>]\n"
     ]
    }
   ],
   "source": [
    "import glob\n",
    " \n",
    "from pdf2image import convert_from_path\n",
    " \n",
    "invoices = glob.glob('*.pdf')\n",
    " \n",
    "for i, invoice in enumerate(invoices):\n",
    "    images = convert_from_path(invoice, use_pdftocairo=True,poppler_path=r\"C:\\Users\\Bindra\\Downloads\\Release-24.02.0-0\\poppler-24.02.0\\Library\\bin\")\n",
    "    print(images)\n",
    "    for image in images:\n",
    "        image.show()"
   ]
  },
  {
   "cell_type": "code",
   "execution_count": null,
   "id": "d85a1830",
   "metadata": {},
   "outputs": [],
   "source": [
    "import glob\n",
    "import pytesseract\n",
    "\n",
    "from pdf2image import convert_from_path\n",
    " \n",
    "invoices = glob.glob('*.pdf')\n",
    " \n",
    "for i, invoice in enumerate(invoices):\n",
    "    images = convert_from_path(invoice, use_pdftocairo=True,poppler_path=r\"C:\\Users\\Bindra\\Downloads\\Release-24.02.0-0\\poppler-24.02.0\\Library\\bin\")\n",
    "    print(images)\n",
    "    for image in images:\n",
    "        text = pytesseract.image_to_string(image)\n",
    "        print(text)"
   ]
  },
  {
   "cell_type": "code",
   "execution_count": null,
   "id": "3c776478",
   "metadata": {},
   "outputs": [],
   "source": []
  },
  {
   "cell_type": "code",
   "execution_count": null,
   "id": "aa96ff41",
   "metadata": {},
   "outputs": [],
   "source": []
  },
  {
   "cell_type": "code",
   "execution_count": null,
   "id": "26c5acc0",
   "metadata": {},
   "outputs": [],
   "source": [
    "import glob\n",
    "import pytesseract\n",
    " \n",
    "img = glob.glob('invoices_images/*.jpg')\n",
    " \n",
    "for i, image in enumerate(img):\n",
    "    text = pytesseract.image_to_string(image, lang='eng')\n",
    "    print(text)"
   ]
  },
  {
   "cell_type": "code",
   "execution_count": null,
   "id": "9f00f47f",
   "metadata": {},
   "outputs": [],
   "source": [
    "import fitz  # PyMuPDF\n",
    "from googletrans import Translator\n",
    "\n",
    "def translate_pdf(input_path, output_path, src_lang='auto', dest_lang='en'):\n",
    "    # Initialize the translator\n",
    "    translator = Translator()\n",
    "    \n",
    "    # Open the input PDF\n",
    "    document = fitz.open(input_path)\n",
    "    output_document = fitz.open()\n",
    "    \n",
    "    # Iterate through each page\n",
    "    for page_num in range(document.page_count):\n",
    "        page = document.load_page(page_num)\n",
    "        text = page.get_text(\"text\")\n",
    "        \n",
    "        # Translate the text\n",
    "        translated_text = translator.translate(text, src=src_lang, dest=dest_lang).text\n",
    "        \n",
    "        # Create a new page in the output document with the same dimensions\n",
    "        output_page = output_document.new_page(width=page.rect.width, height=page.rect.height)\n",
    "        \n",
    "        # Add the translated text to the new page\n",
    "        output_page.insert_text((72, 72), translated_text, fontsize=12, color=(0, 0, 0))\n",
    "    \n",
    "    # Save the output PDF\n",
    "    output_document.save(output_path)\n",
    "    output_document.close()\n",
    "\n",
    "# Example usage\n",
    "translate_pdf(\"Holidays.pdf\", \"output.pdf\", src_lang='auto', dest_lang='en')\n"
   ]
  },
  {
   "cell_type": "code",
   "execution_count": null,
   "id": "d2301a31",
   "metadata": {},
   "outputs": [],
   "source": []
  },
  {
   "cell_type": "code",
   "execution_count": null,
   "id": "5cd159fb",
   "metadata": {},
   "outputs": [],
   "source": []
  },
  {
   "cell_type": "code",
   "execution_count": null,
   "id": "ff8bf074",
   "metadata": {},
   "outputs": [],
   "source": []
  },
  {
   "cell_type": "code",
   "execution_count": null,
   "id": "87963668",
   "metadata": {},
   "outputs": [],
   "source": []
  },
  {
   "cell_type": "code",
   "execution_count": null,
   "id": "6aefceed",
   "metadata": {},
   "outputs": [],
   "source": []
  }
 ],
 "metadata": {
  "kernelspec": {
   "display_name": "Python 3 (ipykernel)",
   "language": "python",
   "name": "python3"
  },
  "language_info": {
   "codemirror_mode": {
    "name": "ipython",
    "version": 3
   },
   "file_extension": ".py",
   "mimetype": "text/x-python",
   "name": "python",
   "nbconvert_exporter": "python",
   "pygments_lexer": "ipython3",
   "version": "3.11.5"
  }
 },
 "nbformat": 4,
 "nbformat_minor": 5
}
