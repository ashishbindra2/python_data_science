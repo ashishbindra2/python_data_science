{
 "cells": [
  {
   "cell_type": "markdown",
   "id": "dba57851",
   "metadata": {},
   "source": [
    "## Database"
   ]
  },
  {
   "cell_type": "markdown",
   "id": "c4f5d657",
   "metadata": {},
   "source": [
    "#### Download sample database https://www.mysqltutorial.org/wp-content/uploads/2023/10/mysqlsampledatabase.zip"
   ]
  },
  {
   "cell_type": "markdown",
   "id": "6e4d72ef",
   "metadata": {},
   "source": [
    "#### 1. How many rows are in each table in the database?"
   ]
  },
  {
   "cell_type": "markdown",
   "id": "754fae3c",
   "metadata": {},
   "source": [
    "#### 2. Who are the highest spending customers?\n",
    "\n"
   ]
  },
  {
   "cell_type": "markdown",
   "id": "73575071",
   "metadata": {},
   "source": [
    "#### 3. Which employees have the highest total sales volumes?"
   ]
  },
  {
   "cell_type": "markdown",
   "id": "a17e7930",
   "metadata": {},
   "source": [
    "#### 4. Which office had the highest sales volumes?"
   ]
  },
  {
   "cell_type": "markdown",
   "id": "9cc9ae86",
   "metadata": {},
   "source": [
    "#### 5. How can the client decide how to make promotions to incentivise purchasing greater quantities?"
   ]
  },
  {
   "cell_type": "markdown",
   "id": "35e5c500",
   "metadata": {},
   "source": [
    "#### 6. Which month has the most total items ordered?"
   ]
  },
  {
   "cell_type": "markdown",
   "id": "ad1021d6",
   "metadata": {},
   "source": [
    "#### 7. Over the three years where data was collected, how many orders were there per year?"
   ]
  },
  {
   "cell_type": "markdown",
   "id": "279e7945",
   "metadata": {},
   "source": [
    "#### 8. Which month has the most orders?"
   ]
  },
  {
   "cell_type": "markdown",
   "id": "4c8d63ab",
   "metadata": {},
   "source": [
    "#### 9. Calculate the 31-day averages of total units shipped for each day."
   ]
  },
  {
   "cell_type": "markdown",
   "id": "1998ab45",
   "metadata": {},
   "source": [
    "#### 10. Over the three years where data was collected, what was the total revenue each year?"
   ]
  },
  {
   "cell_type": "markdown",
   "id": "19906c70",
   "metadata": {},
   "source": [
    "#### 11. Which product line has the highest sales volume?"
   ]
  },
  {
   "cell_type": "markdown",
   "id": "83198494",
   "metadata": {},
   "source": [
    "#### 12. Which product line has the highest quantity in stock?"
   ]
  },
  {
   "cell_type": "markdown",
   "id": "4cb48b3b",
   "metadata": {},
   "source": [
    "#### 13. What are the top three selling products in each product line?"
   ]
  },
  {
   "cell_type": "markdown",
   "id": "72dd4975",
   "metadata": {},
   "source": [
    "#### 14. Which products contributed to the highest total revenue for the company?"
   ]
  },
  {
   "cell_type": "markdown",
   "id": "f1ff23d8",
   "metadata": {},
   "source": [
    "#### 15.  Which products have the highest quantity in stock?"
   ]
  }
 ],
 "metadata": {
  "kernelspec": {
   "display_name": "Python 3 (ipykernel)",
   "language": "python",
   "name": "python3"
  },
  "language_info": {
   "codemirror_mode": {
    "name": "ipython",
    "version": 3
   },
   "file_extension": ".py",
   "mimetype": "text/x-python",
   "name": "python",
   "nbconvert_exporter": "python",
   "pygments_lexer": "ipython3",
   "version": "3.11.5"
  }
 },
 "nbformat": 4,
 "nbformat_minor": 5
}
